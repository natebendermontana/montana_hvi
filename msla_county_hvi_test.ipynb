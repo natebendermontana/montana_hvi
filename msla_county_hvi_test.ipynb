{
 "cells": [
  {
   "cell_type": "code",
   "execution_count": 2,
   "id": "a34e544b-ac43-48a1-9ed6-dd2805b9afd7",
   "metadata": {},
   "outputs": [],
   "source": [
    "import geemap\n",
    "import ee\n",
    "import os"
   ]
  },
  {
   "cell_type": "code",
   "execution_count": 3,
   "id": "ed968ead-6774-4abe-a498-28a515acfda5",
   "metadata": {},
   "outputs": [
    {
     "data": {
      "text/html": [
       "\n",
       "            <style>\n",
       "                .geemap-dark {\n",
       "                    --jp-widgets-color: white;\n",
       "                    --jp-widgets-label-color: white;\n",
       "                    --jp-ui-font-color1: white;\n",
       "                    --jp-layout-color2: #454545;\n",
       "                    background-color: #383838;\n",
       "                }\n",
       "\n",
       "                .geemap-dark .jupyter-button {\n",
       "                    --jp-layout-color3: #383838;\n",
       "                }\n",
       "\n",
       "                .geemap-colab {\n",
       "                    background-color: var(--colab-primary-surface-color, white);\n",
       "                }\n",
       "\n",
       "                .geemap-colab .jupyter-button {\n",
       "                    --jp-layout-color3: var(--colab-primary-surface-color, white);\n",
       "                }\n",
       "            </style>\n",
       "            "
      ],
      "text/plain": [
       "<IPython.core.display.HTML object>"
      ]
     },
     "metadata": {},
     "output_type": "display_data"
    }
   ],
   "source": [
    "email = \"mt-hvi-zonalstats-service-acco@mt-hvi-zonalstats.iam.gserviceaccount.com\"\n",
    "key_file = \"/Users/natebender/Desktop/repo/mt-hvi-zonalstats-6da42ca28c80.json\"\n",
    "\n",
    "# Authenticate and initialize\n",
    "credentials = ee.ServiceAccountCredentials(email=email, key_file=key_file)\n",
    "ee.Initialize(credentials)"
   ]
  },
  {
   "cell_type": "code",
   "execution_count": 15,
   "id": "bc62eab9-0bca-424e-a525-7d081e60482f",
   "metadata": {},
   "outputs": [
    {
     "data": {
      "text/html": [
       "\n",
       "            <style>\n",
       "                .geemap-dark {\n",
       "                    --jp-widgets-color: white;\n",
       "                    --jp-widgets-label-color: white;\n",
       "                    --jp-ui-font-color1: white;\n",
       "                    --jp-layout-color2: #454545;\n",
       "                    background-color: #383838;\n",
       "                }\n",
       "\n",
       "                .geemap-dark .jupyter-button {\n",
       "                    --jp-layout-color3: #383838;\n",
       "                }\n",
       "\n",
       "                .geemap-colab {\n",
       "                    background-color: var(--colab-primary-surface-color, white);\n",
       "                }\n",
       "\n",
       "                .geemap-colab .jupyter-button {\n",
       "                    --jp-layout-color3: var(--colab-primary-surface-color, white);\n",
       "                }\n",
       "            </style>\n",
       "            "
      ],
      "text/plain": [
       "<IPython.core.display.HTML object>"
      ]
     },
     "metadata": {},
     "output_type": "display_data"
    }
   ],
   "source": [
    "# Define the area of interest (aoi) as the boundary of Montana.\n",
    "aoi = ee.FeatureCollection(\"TIGER/2018/States\").filter(ee.Filter.eq(\"STUSPS\", \"MT\"))\n",
    "tracts = ee.FeatureCollection(\"TIGER/2020/TRACT\").filter(ee.Filter.eq(\"STATEFP\", \"30\"))\n",
    "usa = ee.FeatureCollection(\"TIGER/2018/States\") \\\n",
    "            .filter(ee.Filter.neq('STATEFP', '02'))  # Exclude Alaska (STATEFP '02')\n",
    "\n",
    "# Load SRTM terrain data and clip to the USA boundaries.\n",
    "#terrain = ee.Image('USGS/SRTMGL1_003').clip(usa) # full USA terrain view\n",
    "terrain = ee.Image('USGS/SRTMGL1_003').clip(aoi) # just Montana\n",
    "terrain_ft = terrain.multiply(3.28084).rename('elevation_ft') # convert meters to ft\n"
   ]
  },
  {
   "cell_type": "code",
   "execution_count": 16,
   "id": "3ee8f53c-65d3-437f-9565-08bd555c6600",
   "metadata": {},
   "outputs": [
    {
     "data": {
      "text/html": [
       "\n",
       "            <style>\n",
       "                .geemap-dark {\n",
       "                    --jp-widgets-color: white;\n",
       "                    --jp-widgets-label-color: white;\n",
       "                    --jp-ui-font-color1: white;\n",
       "                    --jp-layout-color2: #454545;\n",
       "                    background-color: #383838;\n",
       "                }\n",
       "\n",
       "                .geemap-dark .jupyter-button {\n",
       "                    --jp-layout-color3: #383838;\n",
       "                }\n",
       "\n",
       "                .geemap-colab {\n",
       "                    background-color: var(--colab-primary-surface-color, white);\n",
       "                }\n",
       "\n",
       "                .geemap-colab .jupyter-button {\n",
       "                    --jp-layout-color3: var(--colab-primary-surface-color, white);\n",
       "                }\n",
       "            </style>\n",
       "            "
      ],
      "text/plain": [
       "<IPython.core.display.HTML object>"
      ]
     },
     "metadata": {},
     "output_type": "display_data"
    }
   ],
   "source": [
    "# dataset = ee.ImageCollection('USGS/NLCD_RELEASES/2021_REL/TCC/v2021-4')\\\n",
    "#     .filterBounds(aoi) \\\n",
    "#     .filter(ee.Filter.calendarRange(2021, 2021, 'year'))\n",
    "\n",
    "# nlcd_tree_canopy = dataset.select('NLCD_Percent_Tree_Canopy_Cover').first().clip(aoi.geometry())"
   ]
  },
  {
   "cell_type": "code",
   "execution_count": 38,
   "id": "7f308944-7019-4652-87f9-8219ef8fab54",
   "metadata": {},
   "outputs": [
    {
     "data": {
      "text/html": [
       "\n",
       "            <style>\n",
       "                .geemap-dark {\n",
       "                    --jp-widgets-color: white;\n",
       "                    --jp-widgets-label-color: white;\n",
       "                    --jp-ui-font-color1: white;\n",
       "                    --jp-layout-color2: #454545;\n",
       "                    background-color: #383838;\n",
       "                }\n",
       "\n",
       "                .geemap-dark .jupyter-button {\n",
       "                    --jp-layout-color3: #383838;\n",
       "                }\n",
       "\n",
       "                .geemap-colab {\n",
       "                    background-color: var(--colab-primary-surface-color, white);\n",
       "                }\n",
       "\n",
       "                .geemap-colab .jupyter-button {\n",
       "                    --jp-layout-color3: var(--colab-primary-surface-color, white);\n",
       "                }\n",
       "            </style>\n",
       "            "
      ],
      "text/plain": [
       "<IPython.core.display.HTML object>"
      ]
     },
     "metadata": {},
     "output_type": "display_data"
    }
   ],
   "source": [
    "census_tract_geoid = \"30063001801\"\n",
    "aoi = ee.FeatureCollection(\"TIGER/2020/TRACT\")\\\n",
    "         .filter(ee.Filter.eq(\"GEOID\", census_tract_geoid))\n",
    "\n",
    "dataset = ee.ImageCollection('USGS/NLCD_RELEASES/2021_REL/TCC/v2021-4')\\\n",
    "    .filterBounds(aoi) \\\n",
    "    .filter(ee.Filter.calendarRange(2021, 2021, 'year'))\n",
    "\n",
    "nlcd_tree_canopy = dataset.select('NLCD_Percent_Tree_Canopy_Cover').first().clipToCollection(aoi)\n"
   ]
  },
  {
   "cell_type": "code",
   "execution_count": 39,
   "id": "3edbeb26-bbaa-43fc-888b-999f0189de17",
   "metadata": {},
   "outputs": [
    {
     "data": {
      "text/html": [
       "\n",
       "            <style>\n",
       "                .geemap-dark {\n",
       "                    --jp-widgets-color: white;\n",
       "                    --jp-widgets-label-color: white;\n",
       "                    --jp-ui-font-color1: white;\n",
       "                    --jp-layout-color2: #454545;\n",
       "                    background-color: #383838;\n",
       "                }\n",
       "\n",
       "                .geemap-dark .jupyter-button {\n",
       "                    --jp-layout-color3: #383838;\n",
       "                }\n",
       "\n",
       "                .geemap-colab {\n",
       "                    background-color: var(--colab-primary-surface-color, white);\n",
       "                }\n",
       "\n",
       "                .geemap-colab .jupyter-button {\n",
       "                    --jp-layout-color3: var(--colab-primary-surface-color, white);\n",
       "                }\n",
       "            </style>\n",
       "            "
      ],
      "text/plain": [
       "<IPython.core.display.HTML object>"
      ]
     },
     "metadata": {},
     "output_type": "display_data"
    },
    {
     "data": {
      "application/vnd.jupyter.widget-view+json": {
       "model_id": "772c71878f03477ba4297f7175ec32db",
       "version_major": 2,
       "version_minor": 0
      },
      "text/plain": [
       "Map(center=[47, -110], controls=(WidgetControl(options=['position', 'transparent_bg'], widget=SearchDataGUI(ch…"
      ]
     },
     "execution_count": 39,
     "metadata": {},
     "output_type": "execute_result"
    }
   ],
   "source": [
    "tree_canopy_legend_dict = {\n",
    "    '0-10%': '#ffffff',\n",
    "    '10-20%': '#d9f0d3',\n",
    "    '20-30%': '#addd8e',\n",
    "    '30-40%': '#78c679',\n",
    "    '40-50%': '#41ab5d',\n",
    "    '50-60%': '#238443',\n",
    "    '60-70%': '#006837',\n",
    "    '70-80%': '#004529',\n",
    "    '80-90%': '#003300',\n",
    "    '90-100%': '#002200'\n",
    "}\n",
    "\n",
    "tree_canopy_vis_params = {\n",
    "    'min': 0,\n",
    "    'max': 100,\n",
    "    'palette': ['ffffff', '006400']\n",
    "}\n",
    "\n",
    "m = geemap.Map()\n",
    "m.set_center(-110, 47, 6)\n",
    "\n",
    "m.add_layer(\n",
    "    nlcd_tree_canopy,\n",
    "    tree_canopy_vis_params,\n",
    "    'Tree Canopy Cover'\n",
    ")\n",
    "\n",
    "m.setControlVisibility(layerControl=True, fullscreenControl=True, latLngPopup=True)\n",
    "m.add_legend(title=\"Tree Canopy Cover (%)\", legend_dict=tree_canopy_legend_dict)\n",
    "m"
   ]
  },
  {
   "cell_type": "code",
   "execution_count": 41,
   "id": "092398c5-5c06-41db-aac2-2ceede844521",
   "metadata": {},
   "outputs": [
    {
     "data": {
      "text/html": [
       "\n",
       "            <style>\n",
       "                .geemap-dark {\n",
       "                    --jp-widgets-color: white;\n",
       "                    --jp-widgets-label-color: white;\n",
       "                    --jp-ui-font-color1: white;\n",
       "                    --jp-layout-color2: #454545;\n",
       "                    background-color: #383838;\n",
       "                }\n",
       "\n",
       "                .geemap-dark .jupyter-button {\n",
       "                    --jp-layout-color3: #383838;\n",
       "                }\n",
       "\n",
       "                .geemap-colab {\n",
       "                    background-color: var(--colab-primary-surface-color, white);\n",
       "                }\n",
       "\n",
       "                .geemap-colab .jupyter-button {\n",
       "                    --jp-layout-color3: var(--colab-primary-surface-color, white);\n",
       "                }\n",
       "            </style>\n",
       "            "
      ],
      "text/plain": [
       "<IPython.core.display.HTML object>"
      ]
     },
     "metadata": {},
     "output_type": "display_data"
    }
   ],
   "source": [
    "geoids = [\n",
    "    \"30063000100\", \"30063000203\", \"30063000204\", \"30063000205\", \"30063000206\",\n",
    "    \"30063000300\", \"30063000400\", \"30063000501\", \"30063000502\", \"30063000700\",\n",
    "    \"30063000801\", \"30063000802\", \"30063000901\", \"30063000902\", \"30063001001\",\n",
    "    \"30063001002\", \"30063001100\", \"30063001200\", \"30063001302\", \"30063001303\",\n",
    "    \"30063001304\", \"30063001401\", \"30063001402\", \"30063001501\", \"30063001502\",\n",
    "    \"30063001601\", \"30063001602\", \"30063001801\", \"30063001802\"\n",
    "]"
   ]
  },
  {
   "cell_type": "code",
   "execution_count": 42,
   "id": "6ca7957d-e364-4c51-9274-4e10ceae73d3",
   "metadata": {},
   "outputs": [
    {
     "data": {
      "text/html": [
       "\n",
       "            <style>\n",
       "                .geemap-dark {\n",
       "                    --jp-widgets-color: white;\n",
       "                    --jp-widgets-label-color: white;\n",
       "                    --jp-ui-font-color1: white;\n",
       "                    --jp-layout-color2: #454545;\n",
       "                    background-color: #383838;\n",
       "                }\n",
       "\n",
       "                .geemap-dark .jupyter-button {\n",
       "                    --jp-layout-color3: #383838;\n",
       "                }\n",
       "\n",
       "                .geemap-colab {\n",
       "                    background-color: var(--colab-primary-surface-color, white);\n",
       "                }\n",
       "\n",
       "                .geemap-colab .jupyter-button {\n",
       "                    --jp-layout-color3: var(--colab-primary-surface-color, white);\n",
       "                }\n",
       "            </style>\n",
       "            "
      ],
      "text/plain": [
       "<IPython.core.display.HTML object>"
      ]
     },
     "metadata": {},
     "output_type": "display_data"
    }
   ],
   "source": [
    "def export_nlcd_tree_canopy(geoid):\n",
    "    # Define AOI for the specific census tract\n",
    "    aoi = ee.FeatureCollection(\"TIGER/2020/TRACT\")\\\n",
    "             .filter(ee.Filter.eq(\"GEOID\", geoid))\n",
    "    \n",
    "    # Load NLCD Tree Canopy dataset for 2021 and clip to the AOI\n",
    "    dataset = ee.ImageCollection('USGS/NLCD_RELEASES/2021_REL/TCC/v2021-4')\\\n",
    "        .filterBounds(aoi) \\\n",
    "        .filter(ee.Filter.calendarRange(2021, 2021, 'year'))\n",
    "\n",
    "    nlcd_tree_canopy = dataset.select('NLCD_Percent_Tree_Canopy_Cover').first().clipToCollection(aoi)\n",
    "    \n",
    "    # Define the export path with the GEOID in the file name\n",
    "    canopy_path = os.path.join(output_dir, f'canopy_export_{geoid}.tif')\n",
    "    \n",
    "    # Export the image\n",
    "    geemap.ee_export_image(\n",
    "        nlcd_tree_canopy, \n",
    "        filename=canopy_path, \n",
    "        scale=30,  # Original 30m resolution\n",
    "        region=aoi.geometry(), \n",
    "        file_per_band=False\n",
    "    )\n",
    "    print(f\"Exported GEOID: {geoid}\")"
   ]
  },
  {
   "cell_type": "code",
   "execution_count": 43,
   "id": "4d8e2d90-fb30-4dd3-8be7-3ec4805aa09c",
   "metadata": {},
   "outputs": [
    {
     "data": {
      "text/html": [
       "\n",
       "            <style>\n",
       "                .geemap-dark {\n",
       "                    --jp-widgets-color: white;\n",
       "                    --jp-widgets-label-color: white;\n",
       "                    --jp-ui-font-color1: white;\n",
       "                    --jp-layout-color2: #454545;\n",
       "                    background-color: #383838;\n",
       "                }\n",
       "\n",
       "                .geemap-dark .jupyter-button {\n",
       "                    --jp-layout-color3: #383838;\n",
       "                }\n",
       "\n",
       "                .geemap-colab {\n",
       "                    background-color: var(--colab-primary-surface-color, white);\n",
       "                }\n",
       "\n",
       "                .geemap-colab .jupyter-button {\n",
       "                    --jp-layout-color3: var(--colab-primary-surface-color, white);\n",
       "                }\n",
       "            </style>\n",
       "            "
      ],
      "text/plain": [
       "<IPython.core.display.HTML object>"
      ]
     },
     "metadata": {},
     "output_type": "display_data"
    },
    {
     "name": "stdout",
     "output_type": "stream",
     "text": [
      "Generating URL ...\n",
      "Downloading data from https://earthengine.googleapis.com/v1/projects/earthengine-legacy/thumbnails/292cf6fdbacaf113d85fc2bb94d0c9f6-cea8c96001b1c7a29af7c67445a56af3:getPixels\n",
      "Please wait ...\n",
      "Data downloaded to /Users/natebender/Desktop/repo/mslacounty_hvi/outputs/canopy_export_30063000100.tif\n",
      "Exported GEOID: 30063000100\n",
      "Generating URL ...\n",
      "Downloading data from https://earthengine.googleapis.com/v1/projects/earthengine-legacy/thumbnails/1527bcbdcee3d9764e4258f25c9a1c2e-af30e58540bcccc97db31d56702f1127:getPixels\n",
      "Please wait ...\n",
      "Data downloaded to /Users/natebender/Desktop/repo/mslacounty_hvi/outputs/canopy_export_30063000203.tif\n",
      "Exported GEOID: 30063000203\n",
      "Generating URL ...\n",
      "Downloading data from https://earthengine.googleapis.com/v1/projects/earthengine-legacy/thumbnails/7bc78788c30d8959eb4db590c3e535cb-518f0201ba8c1be1dc582c8d7018853e:getPixels\n",
      "Please wait ...\n",
      "Data downloaded to /Users/natebender/Desktop/repo/mslacounty_hvi/outputs/canopy_export_30063000204.tif\n",
      "Exported GEOID: 30063000204\n",
      "Generating URL ...\n",
      "Downloading data from https://earthengine.googleapis.com/v1/projects/earthengine-legacy/thumbnails/32c590b7e4c46e30c652a622e4ea1d4e-eb05294e5cdac13b9fd45c5ae5abbcb9:getPixels\n",
      "Please wait ...\n",
      "Data downloaded to /Users/natebender/Desktop/repo/mslacounty_hvi/outputs/canopy_export_30063000205.tif\n",
      "Exported GEOID: 30063000205\n",
      "Generating URL ...\n",
      "Downloading data from https://earthengine.googleapis.com/v1/projects/earthengine-legacy/thumbnails/d5a70c81e322a051a4236ff478b467cb-792d38cd2ae4b42ae85af88dd10a3f65:getPixels\n",
      "Please wait ...\n",
      "Data downloaded to /Users/natebender/Desktop/repo/mslacounty_hvi/outputs/canopy_export_30063000206.tif\n",
      "Exported GEOID: 30063000206\n",
      "Generating URL ...\n",
      "Downloading data from https://earthengine.googleapis.com/v1/projects/earthengine-legacy/thumbnails/102da88fd0ec4cb1f25c72e3248425cb-2fa3abf0d68950e113bb3c0c3bf0bea6:getPixels\n",
      "Please wait ...\n",
      "Data downloaded to /Users/natebender/Desktop/repo/mslacounty_hvi/outputs/canopy_export_30063000300.tif\n",
      "Exported GEOID: 30063000300\n",
      "Generating URL ...\n",
      "Downloading data from https://earthengine.googleapis.com/v1/projects/earthengine-legacy/thumbnails/e44a9b8d3e76817a249ac9bfeec2763c-b53caab39880f39ec17dba3aa060bddf:getPixels\n",
      "Please wait ...\n",
      "Data downloaded to /Users/natebender/Desktop/repo/mslacounty_hvi/outputs/canopy_export_30063000400.tif\n",
      "Exported GEOID: 30063000400\n",
      "Generating URL ...\n",
      "Downloading data from https://earthengine.googleapis.com/v1/projects/earthengine-legacy/thumbnails/02ed5edec9102a13dd04c60d39bda5b2-35c8f0d63dbd1104845c3029c0f273c6:getPixels\n",
      "Please wait ...\n",
      "Data downloaded to /Users/natebender/Desktop/repo/mslacounty_hvi/outputs/canopy_export_30063000501.tif\n",
      "Exported GEOID: 30063000501\n",
      "Generating URL ...\n",
      "Downloading data from https://earthengine.googleapis.com/v1/projects/earthengine-legacy/thumbnails/eb6cdd3ac64015ab9d8c2459b1ab9e8a-602fd8d91a84b31d8ab01cd5b16ed674:getPixels\n",
      "Please wait ...\n",
      "Data downloaded to /Users/natebender/Desktop/repo/mslacounty_hvi/outputs/canopy_export_30063000502.tif\n",
      "Exported GEOID: 30063000502\n",
      "Generating URL ...\n",
      "Downloading data from https://earthengine.googleapis.com/v1/projects/earthengine-legacy/thumbnails/089a4b6b4b2b0ea59550af5b00161b59-1b757b86825b59dc37d79984fb3eee0f:getPixels\n",
      "Please wait ...\n",
      "Data downloaded to /Users/natebender/Desktop/repo/mslacounty_hvi/outputs/canopy_export_30063000700.tif\n",
      "Exported GEOID: 30063000700\n",
      "Generating URL ...\n",
      "Downloading data from https://earthengine.googleapis.com/v1/projects/earthengine-legacy/thumbnails/01352d979273539d65f77fb4d7174830-d5bb526fe3e9d28589ae08f96bf174ad:getPixels\n",
      "Please wait ...\n",
      "Data downloaded to /Users/natebender/Desktop/repo/mslacounty_hvi/outputs/canopy_export_30063000801.tif\n",
      "Exported GEOID: 30063000801\n",
      "Generating URL ...\n",
      "Downloading data from https://earthengine.googleapis.com/v1/projects/earthengine-legacy/thumbnails/0ee9d1a14a74f8128898ed3b1556667b-ebeeb7b31df0d172c97d99d235924e2b:getPixels\n",
      "Please wait ...\n",
      "Data downloaded to /Users/natebender/Desktop/repo/mslacounty_hvi/outputs/canopy_export_30063000802.tif\n",
      "Exported GEOID: 30063000802\n",
      "Generating URL ...\n",
      "Downloading data from https://earthengine.googleapis.com/v1/projects/earthengine-legacy/thumbnails/e809a7b1098e9557ea617374c653f19e-f6f7277baf2efd7e988e4bc34b62de94:getPixels\n",
      "Please wait ...\n",
      "Data downloaded to /Users/natebender/Desktop/repo/mslacounty_hvi/outputs/canopy_export_30063000901.tif\n",
      "Exported GEOID: 30063000901\n",
      "Generating URL ...\n",
      "Downloading data from https://earthengine.googleapis.com/v1/projects/earthengine-legacy/thumbnails/5ab12d1b38403403305ce9a3dcd2d374-965fddc9ed9b26a7c6563cc80a14b7d6:getPixels\n",
      "Please wait ...\n",
      "Data downloaded to /Users/natebender/Desktop/repo/mslacounty_hvi/outputs/canopy_export_30063000902.tif\n",
      "Exported GEOID: 30063000902\n",
      "Generating URL ...\n",
      "Downloading data from https://earthengine.googleapis.com/v1/projects/earthengine-legacy/thumbnails/fb89ac39009c05a38f4d64ae405ce4d5-6e14035bfa9efca2a44900ae7bda4773:getPixels\n",
      "Please wait ...\n",
      "Data downloaded to /Users/natebender/Desktop/repo/mslacounty_hvi/outputs/canopy_export_30063001001.tif\n",
      "Exported GEOID: 30063001001\n",
      "Generating URL ...\n",
      "Downloading data from https://earthengine.googleapis.com/v1/projects/earthengine-legacy/thumbnails/b32ab3ed4f9d49588693a154e74db9a9-59158b852f1b0477274ca2d8d10a288d:getPixels\n",
      "Please wait ...\n",
      "Data downloaded to /Users/natebender/Desktop/repo/mslacounty_hvi/outputs/canopy_export_30063001002.tif\n",
      "Exported GEOID: 30063001002\n",
      "Generating URL ...\n",
      "Downloading data from https://earthengine.googleapis.com/v1/projects/earthengine-legacy/thumbnails/b2e582f3fd49d2c85162cacc00680159-6f2be747f95d98e459586150879ddc31:getPixels\n",
      "Please wait ...\n",
      "Data downloaded to /Users/natebender/Desktop/repo/mslacounty_hvi/outputs/canopy_export_30063001100.tif\n",
      "Exported GEOID: 30063001100\n",
      "Generating URL ...\n",
      "Downloading data from https://earthengine.googleapis.com/v1/projects/earthengine-legacy/thumbnails/e3265d6c9f98b91685ed273aabd54b8c-7305aac9856b070c6ba8494200fca7d2:getPixels\n",
      "Please wait ...\n",
      "Data downloaded to /Users/natebender/Desktop/repo/mslacounty_hvi/outputs/canopy_export_30063001200.tif\n",
      "Exported GEOID: 30063001200\n",
      "Generating URL ...\n",
      "Downloading data from https://earthengine.googleapis.com/v1/projects/earthengine-legacy/thumbnails/657f05f03ab16f41aea73a20999f8f28-b8183476ccde647626a7ba67a791efa0:getPixels\n",
      "Please wait ...\n",
      "Data downloaded to /Users/natebender/Desktop/repo/mslacounty_hvi/outputs/canopy_export_30063001302.tif\n",
      "Exported GEOID: 30063001302\n",
      "Generating URL ...\n",
      "Downloading data from https://earthengine.googleapis.com/v1/projects/earthengine-legacy/thumbnails/3686f41c4e1da50761394968600b7e10-542c591c750776a6ffe568dfa0ecd116:getPixels\n",
      "Please wait ...\n",
      "Data downloaded to /Users/natebender/Desktop/repo/mslacounty_hvi/outputs/canopy_export_30063001303.tif\n",
      "Exported GEOID: 30063001303\n",
      "Generating URL ...\n",
      "Downloading data from https://earthengine.googleapis.com/v1/projects/earthengine-legacy/thumbnails/cac3e6a763fac377cae9cc60bc5cd30e-db2710fc798b55fe07bf29b46726e80f:getPixels\n",
      "Please wait ...\n",
      "Data downloaded to /Users/natebender/Desktop/repo/mslacounty_hvi/outputs/canopy_export_30063001304.tif\n",
      "Exported GEOID: 30063001304\n",
      "Generating URL ...\n",
      "Downloading data from https://earthengine.googleapis.com/v1/projects/earthengine-legacy/thumbnails/e2b625d65b7f76c1b86fa6b287d4f1c7-1b4148271c9950a2e9910148a9990d47:getPixels\n",
      "Please wait ...\n",
      "Data downloaded to /Users/natebender/Desktop/repo/mslacounty_hvi/outputs/canopy_export_30063001401.tif\n",
      "Exported GEOID: 30063001401\n",
      "Generating URL ...\n",
      "Downloading data from https://earthengine.googleapis.com/v1/projects/earthengine-legacy/thumbnails/24dd78ca795638e6498713955a457d00-98fa2a6cdad140338ffdb302f8d75a8b:getPixels\n",
      "Please wait ...\n",
      "Data downloaded to /Users/natebender/Desktop/repo/mslacounty_hvi/outputs/canopy_export_30063001402.tif\n",
      "Exported GEOID: 30063001402\n",
      "Generating URL ...\n",
      "Downloading data from https://earthengine.googleapis.com/v1/projects/earthengine-legacy/thumbnails/a1dc0e2372921dbb4022a1c94ca1139d-0bab1f1b968b4731040a8cd650e50b0e:getPixels\n",
      "Please wait ...\n",
      "Data downloaded to /Users/natebender/Desktop/repo/mslacounty_hvi/outputs/canopy_export_30063001501.tif\n",
      "Exported GEOID: 30063001501\n",
      "Generating URL ...\n",
      "Downloading data from https://earthengine.googleapis.com/v1/projects/earthengine-legacy/thumbnails/314553ebe82d8859274a24cb71d36e3e-c5939b17621314e6ecaa969c180e43ea:getPixels\n",
      "Please wait ...\n",
      "Data downloaded to /Users/natebender/Desktop/repo/mslacounty_hvi/outputs/canopy_export_30063001502.tif\n",
      "Exported GEOID: 30063001502\n",
      "Generating URL ...\n",
      "Downloading data from https://earthengine.googleapis.com/v1/projects/earthengine-legacy/thumbnails/072628dbf6abb43a026476173a7cbe1f-9a993f0524e029b325f03251df447fbe:getPixels\n",
      "Please wait ...\n",
      "Data downloaded to /Users/natebender/Desktop/repo/mslacounty_hvi/outputs/canopy_export_30063001601.tif\n",
      "Exported GEOID: 30063001601\n",
      "Generating URL ...\n",
      "Downloading data from https://earthengine.googleapis.com/v1/projects/earthengine-legacy/thumbnails/8636b3b7d42e10bf0f4162050152e92e-ff9034b727f43c5f9054a5b31ff1036d:getPixels\n",
      "Please wait ...\n",
      "Data downloaded to /Users/natebender/Desktop/repo/mslacounty_hvi/outputs/canopy_export_30063001602.tif\n",
      "Exported GEOID: 30063001602\n",
      "Generating URL ...\n",
      "Downloading data from https://earthengine.googleapis.com/v1/projects/earthengine-legacy/thumbnails/77beb4bfca1218dca3369eba3e2042bb-f2bbcd8006df63833a4cc9f985ee6e0b:getPixels\n",
      "Please wait ...\n",
      "Data downloaded to /Users/natebender/Desktop/repo/mslacounty_hvi/outputs/canopy_export_30063001801.tif\n",
      "Exported GEOID: 30063001801\n",
      "Generating URL ...\n",
      "Downloading data from https://earthengine.googleapis.com/v1/projects/earthengine-legacy/thumbnails/4f9c3a7bb18ccf3d4e8020c9fab70a9f-7914225dc67b2f42052a29884b1cc337:getPixels\n",
      "Please wait ...\n",
      "Data downloaded to /Users/natebender/Desktop/repo/mslacounty_hvi/outputs/canopy_export_30063001802.tif\n",
      "Exported GEOID: 30063001802\n",
      "All export tasks have been submitted.\n"
     ]
    }
   ],
   "source": [
    "for geoid in geoids:\n",
    "    export_nlcd_tree_canopy(geoid)\n",
    "\n",
    "print(\"All export tasks have been submitted.\")"
   ]
  },
  {
   "cell_type": "code",
   "execution_count": null,
   "id": "55d59bc3-0f7c-4928-b917-16161934e48a",
   "metadata": {},
   "outputs": [],
   "source": []
  },
  {
   "cell_type": "code",
   "execution_count": null,
   "id": "922c1878-78d7-41d9-8860-83c3fd46d9a1",
   "metadata": {},
   "outputs": [],
   "source": []
  },
  {
   "cell_type": "code",
   "execution_count": null,
   "id": "146d51b6-1fe2-40ed-8472-96567d928ce1",
   "metadata": {},
   "outputs": [],
   "source": []
  },
  {
   "cell_type": "code",
   "execution_count": null,
   "id": "22483df6-4247-435c-ae2a-b2c80f3a0abc",
   "metadata": {},
   "outputs": [],
   "source": []
  },
  {
   "cell_type": "code",
   "execution_count": null,
   "id": "dc7e6583-d3c1-4292-a1c1-6ec3b68a559a",
   "metadata": {},
   "outputs": [],
   "source": []
  }
 ],
 "metadata": {
  "kernelspec": {
   "display_name": "Python (hvi_env)",
   "language": "python",
   "name": "hvi_env"
  },
  "language_info": {
   "codemirror_mode": {
    "name": "ipython",
    "version": 3
   },
   "file_extension": ".py",
   "mimetype": "text/x-python",
   "name": "python",
   "nbconvert_exporter": "python",
   "pygments_lexer": "ipython3",
   "version": "3.9.7"
  }
 },
 "nbformat": 4,
 "nbformat_minor": 5
}
