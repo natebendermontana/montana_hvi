{
 "cells": [
  {
   "cell_type": "code",
   "execution_count": 1,
   "id": "065c1f65",
   "metadata": {},
   "outputs": [],
   "source": [
    "import geemap\n",
    "import ee\n",
    "import os\n",
    "import time\n",
    "from shapely.geometry import shape\n",
    "import pandas as pd\n",
    "import geopandas as gpd\n",
    "import numpy as np\n",
    "import folium\n",
    "import matplotlib.pyplot as plt\n",
    "import matplotlib.colors as mcolors\n",
    "from matplotlib.colors import LinearSegmentedColormap"
   ]
  },
  {
   "cell_type": "code",
   "execution_count": 2,
   "id": "5b35b4d6",
   "metadata": {},
   "outputs": [
    {
     "data": {
      "text/html": [
       "\n",
       "            <style>\n",
       "                .geemap-dark {\n",
       "                    --jp-widgets-color: white;\n",
       "                    --jp-widgets-label-color: white;\n",
       "                    --jp-ui-font-color1: white;\n",
       "                    --jp-layout-color2: #454545;\n",
       "                    background-color: #383838;\n",
       "                }\n",
       "\n",
       "                .geemap-dark .jupyter-button {\n",
       "                    --jp-layout-color3: #383838;\n",
       "                }\n",
       "\n",
       "                .geemap-colab {\n",
       "                    background-color: var(--colab-primary-surface-color, white);\n",
       "                }\n",
       "\n",
       "                .geemap-colab .jupyter-button {\n",
       "                    --jp-layout-color3: var(--colab-primary-surface-color, white);\n",
       "                }\n",
       "            </style>\n",
       "            "
      ],
      "text/plain": [
       "<IPython.core.display.HTML object>"
      ]
     },
     "metadata": {},
     "output_type": "display_data"
    }
   ],
   "source": [
    "email = \"mt-hvi-zonalstats-service-acco@mt-hvi-zonalstats.iam.gserviceaccount.com\"\n",
    "key_file = \"/Users/natebender/Desktop/repo/mt-hvi-zonalstats-6da42ca28c80.json\"\n",
    "\n",
    "# Authenticate and initialize\n",
    "credentials = ee.ServiceAccountCredentials(email=email, key_file=key_file)\n",
    "ee.Initialize(credentials)"
   ]
  },
  {
   "cell_type": "code",
   "execution_count": 3,
   "id": "77524441-9b2b-429e-b360-88a3c2094503",
   "metadata": {},
   "outputs": [
    {
     "data": {
      "text/html": [
       "\n",
       "            <style>\n",
       "                .geemap-dark {\n",
       "                    --jp-widgets-color: white;\n",
       "                    --jp-widgets-label-color: white;\n",
       "                    --jp-ui-font-color1: white;\n",
       "                    --jp-layout-color2: #454545;\n",
       "                    background-color: #383838;\n",
       "                }\n",
       "\n",
       "                .geemap-dark .jupyter-button {\n",
       "                    --jp-layout-color3: #383838;\n",
       "                }\n",
       "\n",
       "                .geemap-colab {\n",
       "                    background-color: var(--colab-primary-surface-color, white);\n",
       "                }\n",
       "\n",
       "                .geemap-colab .jupyter-button {\n",
       "                    --jp-layout-color3: var(--colab-primary-surface-color, white);\n",
       "                }\n",
       "            </style>\n",
       "            "
      ],
      "text/plain": [
       "<IPython.core.display.HTML object>"
      ]
     },
     "metadata": {},
     "output_type": "display_data"
    }
   ],
   "source": [
    "# Define the area of interest (aoi) as the boundary of Montana.\n",
    "aoi = ee.FeatureCollection(\"TIGER/2018/States\").filter(ee.Filter.eq(\"STUSPS\", \"MT\"))\n",
    "tracts = ee.FeatureCollection(\"TIGER/2020/TRACT\").filter(ee.Filter.eq(\"STATEFP\", \"30\"))\n",
    "usa = ee.FeatureCollection(\"TIGER/2018/States\") \\\n",
    "            .filter(ee.Filter.neq('STATEFP', '02'))  # Exclude Alaska (STATEFP '02')\n",
    "\n",
    "# Load SRTM terrain data and clip to the USA boundaries.\n",
    "#terrain = ee.Image('USGS/SRTMGL1_003').clip(usa) # full USA terrain view\n",
    "terrain = ee.Image('USGS/SRTMGL1_003').clip(aoi) # just Montana\n",
    "terrain_ft = terrain.multiply(3.28084).rename('elevation_ft') # convert meters to ft\n"
   ]
  },
  {
   "cell_type": "markdown",
   "id": "5f527ade-9461-461c-93b6-ee76a8376951",
   "metadata": {},
   "source": [
    "## Landsat 8 Surface Temp"
   ]
  },
  {
   "cell_type": "code",
   "execution_count": 4,
   "id": "2fdea2c7-e2d4-4952-8424-38af98b337ce",
   "metadata": {},
   "outputs": [
    {
     "data": {
      "text/html": [
       "\n",
       "            <style>\n",
       "                .geemap-dark {\n",
       "                    --jp-widgets-color: white;\n",
       "                    --jp-widgets-label-color: white;\n",
       "                    --jp-ui-font-color1: white;\n",
       "                    --jp-layout-color2: #454545;\n",
       "                    background-color: #383838;\n",
       "                }\n",
       "\n",
       "                .geemap-dark .jupyter-button {\n",
       "                    --jp-layout-color3: #383838;\n",
       "                }\n",
       "\n",
       "                .geemap-colab {\n",
       "                    background-color: var(--colab-primary-surface-color, white);\n",
       "                }\n",
       "\n",
       "                .geemap-colab .jupyter-button {\n",
       "                    --jp-layout-color3: var(--colab-primary-surface-color, white);\n",
       "                }\n",
       "            </style>\n",
       "            "
      ],
      "text/plain": [
       "<IPython.core.display.HTML object>"
      ]
     },
     "metadata": {},
     "output_type": "display_data"
    }
   ],
   "source": [
    "# Function to apply scale factors to the Landsat data\n",
    "def apply_scale_factors(image):\n",
    "    optical_bands = image.select('SR_B.').multiply(0.0000275).add(-0.2)\n",
    "    thermal_band = image.select('ST_B.*').multiply(0.00341802).add(149.0)\n",
    "    return image.addBands(optical_bands, None, True).addBands(thermal_band, None, True)\n",
    "\n",
    "def print_collection_summary(collection):\n",
    "    images = collection.toList(collection.size()).getInfo()\n",
    "    for image in images:\n",
    "        id = image['id']\n",
    "        date = image['properties']['DATE_ACQUIRED']\n",
    "        print(f\"Image ID: {id}, Date: {date}\")\n",
    "\n",
    "def kelvin_to_fahrenheit(image):\n",
    "    # Convert the ST_B10 band from Kelvin to Fahrenheit.\n",
    "    fahrenheit = image.select('ST_B10').subtract(273.15).multiply(9/5).add(32)\n",
    "    return image.addBands(fahrenheit.rename('ST_Fahrenheit'))"
   ]
  },
  {
   "cell_type": "code",
   "execution_count": 5,
   "id": "fcaeeb0a",
   "metadata": {},
   "outputs": [
    {
     "data": {
      "text/html": [
       "\n",
       "            <style>\n",
       "                .geemap-dark {\n",
       "                    --jp-widgets-color: white;\n",
       "                    --jp-widgets-label-color: white;\n",
       "                    --jp-ui-font-color1: white;\n",
       "                    --jp-layout-color2: #454545;\n",
       "                    background-color: #383838;\n",
       "                }\n",
       "\n",
       "                .geemap-dark .jupyter-button {\n",
       "                    --jp-layout-color3: #383838;\n",
       "                }\n",
       "\n",
       "                .geemap-colab {\n",
       "                    background-color: var(--colab-primary-surface-color, white);\n",
       "                }\n",
       "\n",
       "                .geemap-colab .jupyter-button {\n",
       "                    --jp-layout-color3: var(--colab-primary-surface-color, white);\n",
       "                }\n",
       "            </style>\n",
       "            "
      ],
      "text/plain": [
       "<IPython.core.display.HTML object>"
      ]
     },
     "metadata": {},
     "output_type": "display_data"
    }
   ],
   "source": [
    "# Get the Landsat 8 image collection.\n",
    "collection = ee.ImageCollection('LANDSAT/LC08/C02/T1_L2') \\\n",
    "    .filterBounds(aoi) \\\n",
    "    .filterDate('2018-06-01', '2022-08-31') \\  # expand 5-31 and 9-01\n",
    "    .filter(ee.Filter.calendarRange(6, 8, 'month')) \\\n",
    "    .map(apply_scale_factors) "
   ]
  },
  {
   "cell_type": "code",
   "execution_count": 6,
   "id": "286abd3b-a307-481b-b266-0f3c00163c73",
   "metadata": {},
   "outputs": [
    {
     "data": {
      "text/html": [
       "\n",
       "            <style>\n",
       "                .geemap-dark {\n",
       "                    --jp-widgets-color: white;\n",
       "                    --jp-widgets-label-color: white;\n",
       "                    --jp-ui-font-color1: white;\n",
       "                    --jp-layout-color2: #454545;\n",
       "                    background-color: #383838;\n",
       "                }\n",
       "\n",
       "                .geemap-dark .jupyter-button {\n",
       "                    --jp-layout-color3: #383838;\n",
       "                }\n",
       "\n",
       "                .geemap-colab {\n",
       "                    background-color: var(--colab-primary-surface-color, white);\n",
       "                }\n",
       "\n",
       "                .geemap-colab .jupyter-button {\n",
       "                    --jp-layout-color3: var(--colab-primary-surface-color, white);\n",
       "                }\n",
       "            </style>\n",
       "            "
      ],
      "text/plain": [
       "<IPython.core.display.HTML object>"
      ]
     },
     "metadata": {},
     "output_type": "display_data"
    },
    {
     "name": "stdout",
     "output_type": "stream",
     "text": [
      "Total number of images: 959\n",
      "Execution time: 13.020818948745728 seconds\n"
     ]
    }
   ],
   "source": [
    "start_time = time.time()\n",
    "num_images = collection.size().getInfo()\n",
    "print(f\"Total number of images: {num_images}\")\n",
    "#print_collection_summary(collection) # print this to see all the image dates\n",
    "end_time = time.time()\n",
    "execution_time = end_time - start_time\n",
    "print(f\"Execution time: {execution_time} seconds\")"
   ]
  },
  {
   "cell_type": "code",
   "execution_count": 7,
   "id": "33ae69f6-0e0d-4c87-a76b-b722ed4345e4",
   "metadata": {},
   "outputs": [
    {
     "data": {
      "text/html": [
       "\n",
       "            <style>\n",
       "                .geemap-dark {\n",
       "                    --jp-widgets-color: white;\n",
       "                    --jp-widgets-label-color: white;\n",
       "                    --jp-ui-font-color1: white;\n",
       "                    --jp-layout-color2: #454545;\n",
       "                    background-color: #383838;\n",
       "                }\n",
       "\n",
       "                .geemap-dark .jupyter-button {\n",
       "                    --jp-layout-color3: #383838;\n",
       "                }\n",
       "\n",
       "                .geemap-colab {\n",
       "                    background-color: var(--colab-primary-surface-color, white);\n",
       "                }\n",
       "\n",
       "                .geemap-colab .jupyter-button {\n",
       "                    --jp-layout-color3: var(--colab-primary-surface-color, white);\n",
       "                }\n",
       "            </style>\n",
       "            "
      ],
      "text/plain": [
       "<IPython.core.display.HTML object>"
      ]
     },
     "metadata": {},
     "output_type": "display_data"
    },
    {
     "name": "stdout",
     "output_type": "stream",
     "text": [
      "Total number of images: 399\n",
      "Execution time: 4.685743093490601 seconds\n"
     ]
    }
   ],
   "source": [
    "start_time = time.time()\n",
    "filtered_collection = collection.filter(ee.Filter.lte('CLOUD_COVER', 10)) #lte stands for less than or equal to\n",
    "num_images = filtered_collection.size().getInfo()\n",
    "print(f\"Total number of images: {num_images}\")\n",
    "#print_collection_summary(filtered_collection) # print this to see all the image dates\n",
    "\n",
    "end_time = time.time()\n",
    "execution_time = end_time - start_time\n",
    "print(f\"Execution time: {execution_time} seconds\")"
   ]
  },
  {
   "cell_type": "code",
   "execution_count": 37,
   "id": "73732d4d-2936-4c1d-916f-f5fd989031e4",
   "metadata": {},
   "outputs": [
    {
     "data": {
      "text/html": [
       "\n",
       "            <style>\n",
       "                .geemap-dark {\n",
       "                    --jp-widgets-color: white;\n",
       "                    --jp-widgets-label-color: white;\n",
       "                    --jp-ui-font-color1: white;\n",
       "                    --jp-layout-color2: #454545;\n",
       "                    background-color: #383838;\n",
       "                }\n",
       "\n",
       "                .geemap-dark .jupyter-button {\n",
       "                    --jp-layout-color3: #383838;\n",
       "                }\n",
       "\n",
       "                .geemap-colab {\n",
       "                    background-color: var(--colab-primary-surface-color, white);\n",
       "                }\n",
       "\n",
       "                .geemap-colab .jupyter-button {\n",
       "                    --jp-layout-color3: var(--colab-primary-surface-color, white);\n",
       "                }\n",
       "            </style>\n",
       "            "
      ],
      "text/plain": [
       "<IPython.core.display.HTML object>"
      ]
     },
     "metadata": {},
     "output_type": "display_data"
    }
   ],
   "source": [
    "bad_composite = collection.mean().clip(aoi)\n",
    "#good_composite_mean = filtered_collection.mean().clip(aoi)\n",
    "good_composite_median = filtered_collection.median().clip(aoi)\n",
    "good_composite_95th = filtered_collection.reduce(ee.Reducer.percentile([95])).clip(aoi)\n",
    "\n",
    "\n",
    "# consider using the value at the 95th percentile of the time series instead of mean. Don't use pure maximum value because of danger of outliers.\n",
    "\n",
    "# Convert the composites to Fahrenheit.\n",
    "bad_composite_f = kelvin_to_fahrenheit(bad_composite)\n",
    "good_composite_median_f = kelvin_to_fahrenheit(good_composite)\n",
    "good_composite_95th_f = kelvin_to_fahrenheit(good_composite)"
   ]
  },
  {
   "cell_type": "code",
   "execution_count": 38,
   "id": "174cf672-c392-440f-838a-8dbcc5ee4013",
   "metadata": {},
   "outputs": [
    {
     "data": {
      "text/html": [
       "\n",
       "            <style>\n",
       "                .geemap-dark {\n",
       "                    --jp-widgets-color: white;\n",
       "                    --jp-widgets-label-color: white;\n",
       "                    --jp-ui-font-color1: white;\n",
       "                    --jp-layout-color2: #454545;\n",
       "                    background-color: #383838;\n",
       "                }\n",
       "\n",
       "                .geemap-dark .jupyter-button {\n",
       "                    --jp-layout-color3: #383838;\n",
       "                }\n",
       "\n",
       "                .geemap-colab {\n",
       "                    background-color: var(--colab-primary-surface-color, white);\n",
       "                }\n",
       "\n",
       "                .geemap-colab .jupyter-button {\n",
       "                    --jp-layout-color3: var(--colab-primary-surface-color, white);\n",
       "                }\n",
       "            </style>\n",
       "            "
      ],
      "text/plain": [
       "<IPython.core.display.HTML object>"
      ]
     },
     "metadata": {},
     "output_type": "display_data"
    },
    {
     "data": {
      "application/vnd.jupyter.widget-view+json": {
       "model_id": "8b814f94b73f49b49ba7c4898da6ceb5",
       "version_major": 2,
       "version_minor": 0
      },
      "text/plain": [
       "Map(center=[47, -110], controls=(WidgetControl(options=['position', 'transparent_bg'], widget=SearchDataGUI(ch…"
      ]
     },
     "execution_count": 38,
     "metadata": {},
     "output_type": "execute_result"
    }
   ],
   "source": [
    "# check impact of filtering by cloud cover\n",
    "m = geemap.Map()\n",
    "m.set_center(-110, 47, 6)\n",
    "\n",
    "vis_params = {'min': 30, 'max': 120,     \n",
    "              'palette': ['000004', '1b0c41', '4a0c6b', '781c6d', 'a52c60', \n",
    "                          'cf4446', 'ed6925', 'fb9b06', 'f7d13d', 'fcffa4']\n",
    "             }\n",
    "\n",
    "# Define the legend dictionary\n",
    "legend_dict = {\n",
    "    '30-40°F': '#000004',\n",
    "    '40-50°F': '#1b0c41',\n",
    "    '50-60°F': '#4a0c6b',\n",
    "    '60-70°F': '#781c6d',\n",
    "    '70-80°F': '#a52c60',\n",
    "    '80-90°F': '#cf4446',\n",
    "    '90-100°F': '#ed6925',\n",
    "    '100-110°F': '#fb9b06',\n",
    "    '110-120°F': '#f7d13d',\n",
    "    '120+°F': '#fcffa4'\n",
    "}\n",
    "\n",
    "# Add the Fahrenheit layer for bad_composite.\n",
    "m.add_layer(\n",
    "    bad_composite_f,\n",
    "    {'bands': ['ST_Fahrenheit'], **vis_params},\n",
    "    'Bad composite (F)',\n",
    ")\n",
    "\n",
    "# Add the Fahrenheit layer for good_composite.\n",
    "m.add_layer(\n",
    "    good_composite_median_f,\n",
    "    {'bands': ['ST_Fahrenheit'], **vis_params},\n",
    "    'Avg Summer Temp, 2018-2022',\n",
    ")\n",
    "\n",
    "# Add the Montana boundary to the map with styling.\n",
    "m.add_layer(\n",
    "    aoi.style(color='black', fillColor='00000000'),  # '00000000' represents no fill color\n",
    "    {},\n",
    "    'Montana',\n",
    ")\n",
    "\n",
    "# add Census Tracts\n",
    "m.add_layer(\n",
    "    tracts.style(color='black', fillColor='00000000'),  # '00000000' represents no fill color\n",
    "    {},\n",
    "    'Tracts',\n",
    ")\n",
    "\n",
    "m.setControlVisibility(layerControl=True, fullscreenControl=True, latLngPopup=True)\n",
    "m.add_legend(title=\"Temperature (°F)\", legend_dict=legend_dict)\n",
    "\n",
    "m"
   ]
  },
  {
   "cell_type": "code",
   "execution_count": 10,
   "id": "19e1b9bf-c44c-446f-a63b-f5f89e085b52",
   "metadata": {},
   "outputs": [
    {
     "data": {
      "text/html": [
       "\n",
       "            <style>\n",
       "                .geemap-dark {\n",
       "                    --jp-widgets-color: white;\n",
       "                    --jp-widgets-label-color: white;\n",
       "                    --jp-ui-font-color1: white;\n",
       "                    --jp-layout-color2: #454545;\n",
       "                    background-color: #383838;\n",
       "                }\n",
       "\n",
       "                .geemap-dark .jupyter-button {\n",
       "                    --jp-layout-color3: #383838;\n",
       "                }\n",
       "\n",
       "                .geemap-colab {\n",
       "                    background-color: var(--colab-primary-surface-color, white);\n",
       "                }\n",
       "\n",
       "                .geemap-colab .jupyter-button {\n",
       "                    --jp-layout-color3: var(--colab-primary-surface-color, white);\n",
       "                }\n",
       "            </style>\n",
       "            "
      ],
      "text/plain": [
       "<IPython.core.display.HTML object>"
      ]
     },
     "metadata": {},
     "output_type": "display_data"
    },
    {
     "name": "stdout",
     "output_type": "stream",
     "text": [
      "Execution time: 0.0002760887145996094 seconds\n"
     ]
    }
   ],
   "source": [
    "start_time = time.time()\n",
    "mean_dict = good_composite_median_f.select('ST_Fahrenheit').reduceRegions(\n",
    "    collection=tracts,\n",
    "    reducer=ee.Reducer.mean(),\n",
    "    scale=30\n",
    ")\n",
    "# Print the result (limited to first few tracts for brevity).\n",
    "end_time = time.time()\n",
    "execution_time = end_time - start_time\n",
    "print(f\"Execution time: {execution_time} seconds\")"
   ]
  },
  {
   "cell_type": "code",
   "execution_count": 11,
   "id": "557b7655-0d17-47e4-8551-8f73e3c6c40a",
   "metadata": {},
   "outputs": [
    {
     "data": {
      "text/html": [
       "\n",
       "            <style>\n",
       "                .geemap-dark {\n",
       "                    --jp-widgets-color: white;\n",
       "                    --jp-widgets-label-color: white;\n",
       "                    --jp-ui-font-color1: white;\n",
       "                    --jp-layout-color2: #454545;\n",
       "                    background-color: #383838;\n",
       "                }\n",
       "\n",
       "                .geemap-dark .jupyter-button {\n",
       "                    --jp-layout-color3: #383838;\n",
       "                }\n",
       "\n",
       "                .geemap-colab {\n",
       "                    background-color: var(--colab-primary-surface-color, white);\n",
       "                }\n",
       "\n",
       "                .geemap-colab .jupyter-button {\n",
       "                    --jp-layout-color3: var(--colab-primary-surface-color, white);\n",
       "                }\n",
       "            </style>\n",
       "            "
      ],
      "text/plain": [
       "<IPython.core.display.HTML object>"
      ]
     },
     "metadata": {},
     "output_type": "display_data"
    }
   ],
   "source": [
    "results = mean_dict.getInfo()['features']\n",
    "data = []\n",
    "for feature in results:\n",
    "    props = feature['properties']\n",
    "    data.append({\n",
    "        'GEOID': props['GEOID'],\n",
    "        'NAME': props['NAME'],\n",
    "        'mean_temp_f': props['mean']\n",
    "    })"
   ]
  },
  {
   "cell_type": "code",
   "execution_count": 12,
   "id": "34530b40-657b-4162-860d-de6bfa498178",
   "metadata": {},
   "outputs": [
    {
     "data": {
      "text/html": [
       "\n",
       "            <style>\n",
       "                .geemap-dark {\n",
       "                    --jp-widgets-color: white;\n",
       "                    --jp-widgets-label-color: white;\n",
       "                    --jp-ui-font-color1: white;\n",
       "                    --jp-layout-color2: #454545;\n",
       "                    background-color: #383838;\n",
       "                }\n",
       "\n",
       "                .geemap-dark .jupyter-button {\n",
       "                    --jp-layout-color3: #383838;\n",
       "                }\n",
       "\n",
       "                .geemap-colab {\n",
       "                    background-color: var(--colab-primary-surface-color, white);\n",
       "                }\n",
       "\n",
       "                .geemap-colab .jupyter-button {\n",
       "                    --jp-layout-color3: var(--colab-primary-surface-color, white);\n",
       "                }\n",
       "            </style>\n",
       "            "
      ],
      "text/plain": [
       "<IPython.core.display.HTML object>"
      ]
     },
     "metadata": {},
     "output_type": "display_data"
    },
    {
     "data": {
      "text/html": [
       "<div>\n",
       "<style scoped>\n",
       "    .dataframe tbody tr th:only-of-type {\n",
       "        vertical-align: middle;\n",
       "    }\n",
       "\n",
       "    .dataframe tbody tr th {\n",
       "        vertical-align: top;\n",
       "    }\n",
       "\n",
       "    .dataframe thead th {\n",
       "        text-align: right;\n",
       "    }\n",
       "</style>\n",
       "<table border=\"1\" class=\"dataframe\">\n",
       "  <thead>\n",
       "    <tr style=\"text-align: right;\">\n",
       "      <th></th>\n",
       "      <th>geo_id</th>\n",
       "      <th>NAME</th>\n",
       "      <th>mean_temp_f</th>\n",
       "    </tr>\n",
       "  </thead>\n",
       "  <tbody>\n",
       "    <tr>\n",
       "      <th>0</th>\n",
       "      <td>30053000100</td>\n",
       "      <td>1</td>\n",
       "      <td>84.776842</td>\n",
       "    </tr>\n",
       "    <tr>\n",
       "      <th>1</th>\n",
       "      <td>30089000100</td>\n",
       "      <td>1</td>\n",
       "      <td>86.642966</td>\n",
       "    </tr>\n",
       "    <tr>\n",
       "      <th>2</th>\n",
       "      <td>30077000100</td>\n",
       "      <td>1</td>\n",
       "      <td>88.678175</td>\n",
       "    </tr>\n",
       "    <tr>\n",
       "      <th>3</th>\n",
       "      <td>30081000100</td>\n",
       "      <td>1</td>\n",
       "      <td>86.079701</td>\n",
       "    </tr>\n",
       "    <tr>\n",
       "      <th>4</th>\n",
       "      <td>30079000100</td>\n",
       "      <td>1</td>\n",
       "      <td>109.811034</td>\n",
       "    </tr>\n",
       "  </tbody>\n",
       "</table>\n",
       "</div>"
      ],
      "text/plain": [
       "        geo_id NAME  mean_temp_f\n",
       "0  30053000100    1    84.776842\n",
       "1  30089000100    1    86.642966\n",
       "2  30077000100    1    88.678175\n",
       "3  30081000100    1    86.079701\n",
       "4  30079000100    1   109.811034"
      ]
     },
     "execution_count": 12,
     "metadata": {},
     "output_type": "execute_result"
    }
   ],
   "source": [
    "# Convert the list of dictionaries to a pandas DataFrame.\n",
    "mean_temp_df = pd.DataFrame(data)\n",
    "mean_temp_df = mean_temp_df.rename(columns={'GEOID': 'geo_id'})\n",
    "mean_temp_df.head()"
   ]
  },
  {
   "cell_type": "code",
   "execution_count": 32,
   "id": "84669639-da1d-4952-9109-36f9db851ff5",
   "metadata": {},
   "outputs": [
    {
     "data": {
      "text/html": [
       "\n",
       "            <style>\n",
       "                .geemap-dark {\n",
       "                    --jp-widgets-color: white;\n",
       "                    --jp-widgets-label-color: white;\n",
       "                    --jp-ui-font-color1: white;\n",
       "                    --jp-layout-color2: #454545;\n",
       "                    background-color: #383838;\n",
       "                }\n",
       "\n",
       "                .geemap-dark .jupyter-button {\n",
       "                    --jp-layout-color3: #383838;\n",
       "                }\n",
       "\n",
       "                .geemap-colab {\n",
       "                    background-color: var(--colab-primary-surface-color, white);\n",
       "                }\n",
       "\n",
       "                .geemap-colab .jupyter-button {\n",
       "                    --jp-layout-color3: var(--colab-primary-surface-color, white);\n",
       "                }\n",
       "            </style>\n",
       "            "
      ],
      "text/plain": [
       "<IPython.core.display.HTML object>"
      ]
     },
     "metadata": {},
     "output_type": "display_data"
    },
    {
     "data": {
      "text/html": [
       "<div>\n",
       "<style scoped>\n",
       "    .dataframe tbody tr th:only-of-type {\n",
       "        vertical-align: middle;\n",
       "    }\n",
       "\n",
       "    .dataframe tbody tr th {\n",
       "        vertical-align: top;\n",
       "    }\n",
       "\n",
       "    .dataframe thead th {\n",
       "        text-align: right;\n",
       "    }\n",
       "</style>\n",
       "<table border=\"1\" class=\"dataframe\">\n",
       "  <thead>\n",
       "    <tr style=\"text-align: right;\">\n",
       "      <th></th>\n",
       "      <th>geo_id</th>\n",
       "      <th>NAME</th>\n",
       "      <th>mean_temp_f</th>\n",
       "    </tr>\n",
       "  </thead>\n",
       "  <tbody>\n",
       "    <tr>\n",
       "      <th>311</th>\n",
       "      <td>30047940304</td>\n",
       "      <td>9403.04</td>\n",
       "      <td>71.387537</td>\n",
       "    </tr>\n",
       "    <tr>\n",
       "      <th>274</th>\n",
       "      <td>30029001402</td>\n",
       "      <td>14.02</td>\n",
       "      <td>72.346053</td>\n",
       "    </tr>\n",
       "    <tr>\n",
       "      <th>268</th>\n",
       "      <td>30029001304</td>\n",
       "      <td>13.04</td>\n",
       "      <td>73.398484</td>\n",
       "    </tr>\n",
       "    <tr>\n",
       "      <th>246</th>\n",
       "      <td>30035980000</td>\n",
       "      <td>9800</td>\n",
       "      <td>75.301740</td>\n",
       "    </tr>\n",
       "    <tr>\n",
       "      <th>8</th>\n",
       "      <td>30047000100</td>\n",
       "      <td>1</td>\n",
       "      <td>75.406903</td>\n",
       "    </tr>\n",
       "    <tr>\n",
       "      <th>...</th>\n",
       "      <td>...</td>\n",
       "      <td>...</td>\n",
       "      <td>...</td>\n",
       "    </tr>\n",
       "    <tr>\n",
       "      <th>125</th>\n",
       "      <td>30041040200</td>\n",
       "      <td>402</td>\n",
       "      <td>113.310620</td>\n",
       "    </tr>\n",
       "    <tr>\n",
       "      <th>126</th>\n",
       "      <td>30041040300</td>\n",
       "      <td>403</td>\n",
       "      <td>113.541404</td>\n",
       "    </tr>\n",
       "    <tr>\n",
       "      <th>11</th>\n",
       "      <td>30069000100</td>\n",
       "      <td>1</td>\n",
       "      <td>113.862995</td>\n",
       "    </tr>\n",
       "    <tr>\n",
       "      <th>130</th>\n",
       "      <td>30071060200</td>\n",
       "      <td>602</td>\n",
       "      <td>114.859811</td>\n",
       "    </tr>\n",
       "    <tr>\n",
       "      <th>211</th>\n",
       "      <td>30005940100</td>\n",
       "      <td>9401</td>\n",
       "      <td>115.075368</td>\n",
       "    </tr>\n",
       "  </tbody>\n",
       "</table>\n",
       "<p>319 rows × 3 columns</p>\n",
       "</div>"
      ],
      "text/plain": [
       "          geo_id     NAME  mean_temp_f\n",
       "311  30047940304  9403.04    71.387537\n",
       "274  30029001402    14.02    72.346053\n",
       "268  30029001304    13.04    73.398484\n",
       "246  30035980000     9800    75.301740\n",
       "8    30047000100        1    75.406903\n",
       "..           ...      ...          ...\n",
       "125  30041040200      402   113.310620\n",
       "126  30041040300      403   113.541404\n",
       "11   30069000100        1   113.862995\n",
       "130  30071060200      602   114.859811\n",
       "211  30005940100     9401   115.075368\n",
       "\n",
       "[319 rows x 3 columns]"
      ]
     },
     "execution_count": 32,
     "metadata": {},
     "output_type": "execute_result"
    }
   ],
   "source": [
    "mean_temp_df.sort_values(by=\"mean_temp_f\")"
   ]
  },
  {
   "cell_type": "markdown",
   "id": "218b6005-e37c-4d66-a46e-d8239c91734a",
   "metadata": {},
   "source": [
    "### Compare median approach v 95th percentile"
   ]
  },
  {
   "cell_type": "code",
   "execution_count": 61,
   "id": "0a28b7ce-d5b3-4a04-afe5-74831b7e91b4",
   "metadata": {},
   "outputs": [
    {
     "data": {
      "text/html": [
       "\n",
       "            <style>\n",
       "                .geemap-dark {\n",
       "                    --jp-widgets-color: white;\n",
       "                    --jp-widgets-label-color: white;\n",
       "                    --jp-ui-font-color1: white;\n",
       "                    --jp-layout-color2: #454545;\n",
       "                    background-color: #383838;\n",
       "                }\n",
       "\n",
       "                .geemap-dark .jupyter-button {\n",
       "                    --jp-layout-color3: #383838;\n",
       "                }\n",
       "\n",
       "                .geemap-colab {\n",
       "                    background-color: var(--colab-primary-surface-color, white);\n",
       "                }\n",
       "\n",
       "                .geemap-colab .jupyter-button {\n",
       "                    --jp-layout-color3: var(--colab-primary-surface-color, white);\n",
       "                }\n",
       "            </style>\n",
       "            "
      ],
      "text/plain": [
       "<IPython.core.display.HTML object>"
      ]
     },
     "metadata": {},
     "output_type": "display_data"
    },
    {
     "name": "stdout",
     "output_type": "stream",
     "text": [
      "['SR_B1', 'SR_B2', 'SR_B3', 'SR_B4', 'SR_B5', 'SR_B6', 'SR_B7', 'SR_QA_AEROSOL', 'ST_B10', 'ST_ATRAN', 'ST_CDIST', 'ST_DRAD', 'ST_EMIS', 'ST_EMSD', 'ST_QA', 'ST_TRAD', 'ST_URAD', 'QA_PIXEL', 'QA_RADSAT', 'ST_Fahrenheit']\n"
     ]
    }
   ],
   "source": [
    "#band_names = good_composite_median_f.bandNames()\n",
    "band_names = good_composite_95th_f.bandNames()\n",
    "print(band_names.getInfo())"
   ]
  },
  {
   "cell_type": "code",
   "execution_count": null,
   "id": "4dd5ae0c-ffbb-4f8d-aa6b-f3bf096f40ee",
   "metadata": {},
   "outputs": [],
   "source": []
  },
  {
   "cell_type": "code",
   "execution_count": 62,
   "id": "6849d18d-df34-4373-bd09-b1462ba0706a",
   "metadata": {},
   "outputs": [
    {
     "data": {
      "text/html": [
       "\n",
       "            <style>\n",
       "                .geemap-dark {\n",
       "                    --jp-widgets-color: white;\n",
       "                    --jp-widgets-label-color: white;\n",
       "                    --jp-ui-font-color1: white;\n",
       "                    --jp-layout-color2: #454545;\n",
       "                    background-color: #383838;\n",
       "                }\n",
       "\n",
       "                .geemap-dark .jupyter-button {\n",
       "                    --jp-layout-color3: #383838;\n",
       "                }\n",
       "\n",
       "                .geemap-colab {\n",
       "                    background-color: var(--colab-primary-surface-color, white);\n",
       "                }\n",
       "\n",
       "                .geemap-colab .jupyter-button {\n",
       "                    --jp-layout-color3: var(--colab-primary-surface-color, white);\n",
       "                }\n",
       "            </style>\n",
       "            "
      ],
      "text/plain": [
       "<IPython.core.display.HTML object>"
      ]
     },
     "metadata": {},
     "output_type": "display_data"
    },
    {
     "name": "stdout",
     "output_type": "stream",
     "text": [
      "Execution time: 286.44622707366943 seconds\n"
     ]
    }
   ],
   "source": [
    "start_time = time.time()\n",
    "mean_dict_95 = good_composite_95th_f.select('ST_Fahrenheit').reduceRegions(\n",
    "    collection=tracts,\n",
    "    reducer=ee.Reducer.mean(),\n",
    "    scale=30\n",
    ")\n",
    "\n",
    "\n",
    "results_95 = mean_dict_95.getInfo()['features']\n",
    "data = []\n",
    "for feature in results_95:\n",
    "    props = feature['properties']\n",
    "    data.append({\n",
    "        'GEOID': props['GEOID'],\n",
    "        'NAME': props['NAME'],\n",
    "        'mean_temp_f': props['mean']\n",
    "    })\n",
    "    \n",
    "    # Print the result (limited to first few tracts for brevity).\n",
    "end_time = time.time()\n",
    "execution_time = end_time - start_time\n",
    "print(f\"Execution time: {execution_time} seconds\")\n"
   ]
  },
  {
   "cell_type": "code",
   "execution_count": 63,
   "id": "00867b28-369f-4a07-98d3-91436bc0a4a2",
   "metadata": {},
   "outputs": [
    {
     "data": {
      "text/html": [
       "\n",
       "            <style>\n",
       "                .geemap-dark {\n",
       "                    --jp-widgets-color: white;\n",
       "                    --jp-widgets-label-color: white;\n",
       "                    --jp-ui-font-color1: white;\n",
       "                    --jp-layout-color2: #454545;\n",
       "                    background-color: #383838;\n",
       "                }\n",
       "\n",
       "                .geemap-dark .jupyter-button {\n",
       "                    --jp-layout-color3: #383838;\n",
       "                }\n",
       "\n",
       "                .geemap-colab {\n",
       "                    background-color: var(--colab-primary-surface-color, white);\n",
       "                }\n",
       "\n",
       "                .geemap-colab .jupyter-button {\n",
       "                    --jp-layout-color3: var(--colab-primary-surface-color, white);\n",
       "                }\n",
       "            </style>\n",
       "            "
      ],
      "text/plain": [
       "<IPython.core.display.HTML object>"
      ]
     },
     "metadata": {},
     "output_type": "display_data"
    },
    {
     "data": {
      "text/html": [
       "<div>\n",
       "<style scoped>\n",
       "    .dataframe tbody tr th:only-of-type {\n",
       "        vertical-align: middle;\n",
       "    }\n",
       "\n",
       "    .dataframe tbody tr th {\n",
       "        vertical-align: top;\n",
       "    }\n",
       "\n",
       "    .dataframe thead th {\n",
       "        text-align: right;\n",
       "    }\n",
       "</style>\n",
       "<table border=\"1\" class=\"dataframe\">\n",
       "  <thead>\n",
       "    <tr style=\"text-align: right;\">\n",
       "      <th></th>\n",
       "      <th>geo_id</th>\n",
       "      <th>NAME</th>\n",
       "      <th>mean_temp_f</th>\n",
       "      <th>source</th>\n",
       "    </tr>\n",
       "  </thead>\n",
       "  <tbody>\n",
       "    <tr>\n",
       "      <th>0</th>\n",
       "      <td>30053000100</td>\n",
       "      <td>1</td>\n",
       "      <td>84.021566</td>\n",
       "      <td>perc_95</td>\n",
       "    </tr>\n",
       "    <tr>\n",
       "      <th>1</th>\n",
       "      <td>30089000100</td>\n",
       "      <td>1</td>\n",
       "      <td>87.890297</td>\n",
       "      <td>perc_95</td>\n",
       "    </tr>\n",
       "    <tr>\n",
       "      <th>2</th>\n",
       "      <td>30077000100</td>\n",
       "      <td>1</td>\n",
       "      <td>90.261294</td>\n",
       "      <td>perc_95</td>\n",
       "    </tr>\n",
       "    <tr>\n",
       "      <th>3</th>\n",
       "      <td>30081000100</td>\n",
       "      <td>1</td>\n",
       "      <td>88.893085</td>\n",
       "      <td>perc_95</td>\n",
       "    </tr>\n",
       "    <tr>\n",
       "      <th>4</th>\n",
       "      <td>30079000100</td>\n",
       "      <td>1</td>\n",
       "      <td>113.067753</td>\n",
       "      <td>perc_95</td>\n",
       "    </tr>\n",
       "  </tbody>\n",
       "</table>\n",
       "</div>"
      ],
      "text/plain": [
       "        geo_id NAME  mean_temp_f   source\n",
       "0  30053000100    1    84.021566  perc_95\n",
       "1  30089000100    1    87.890297  perc_95\n",
       "2  30077000100    1    90.261294  perc_95\n",
       "3  30081000100    1    88.893085  perc_95\n",
       "4  30079000100    1   113.067753  perc_95"
      ]
     },
     "execution_count": 63,
     "metadata": {},
     "output_type": "execute_result"
    }
   ],
   "source": [
    "# Convert the list of dictionaries to a pandas DataFrame.\n",
    "mean_temp_df_95 = pd.DataFrame(data)\n",
    "mean_temp_df_95 = mean_temp_df_95.rename(columns={'GEOID': 'geo_id'})\n",
    "\n",
    "mean_temp_df['source'] = 'median'\n",
    "mean_temp_df_95['source'] = 'perc_95'\n",
    "\n",
    "mean_temp_df_95.head()"
   ]
  },
  {
   "cell_type": "code",
   "execution_count": 64,
   "id": "7f6b45f6-1c5c-4a95-938d-25f92a6c2ea5",
   "metadata": {},
   "outputs": [
    {
     "data": {
      "text/html": [
       "\n",
       "            <style>\n",
       "                .geemap-dark {\n",
       "                    --jp-widgets-color: white;\n",
       "                    --jp-widgets-label-color: white;\n",
       "                    --jp-ui-font-color1: white;\n",
       "                    --jp-layout-color2: #454545;\n",
       "                    background-color: #383838;\n",
       "                }\n",
       "\n",
       "                .geemap-dark .jupyter-button {\n",
       "                    --jp-layout-color3: #383838;\n",
       "                }\n",
       "\n",
       "                .geemap-colab {\n",
       "                    background-color: var(--colab-primary-surface-color, white);\n",
       "                }\n",
       "\n",
       "                .geemap-colab .jupyter-button {\n",
       "                    --jp-layout-color3: var(--colab-primary-surface-color, white);\n",
       "                }\n",
       "            </style>\n",
       "            "
      ],
      "text/plain": [
       "<IPython.core.display.HTML object>"
      ]
     },
     "metadata": {},
     "output_type": "display_data"
    },
    {
     "data": {
      "text/html": [
       "<div>\n",
       "<style scoped>\n",
       "    .dataframe tbody tr th:only-of-type {\n",
       "        vertical-align: middle;\n",
       "    }\n",
       "\n",
       "    .dataframe tbody tr th {\n",
       "        vertical-align: top;\n",
       "    }\n",
       "\n",
       "    .dataframe thead th {\n",
       "        text-align: right;\n",
       "    }\n",
       "</style>\n",
       "<table border=\"1\" class=\"dataframe\">\n",
       "  <thead>\n",
       "    <tr style=\"text-align: right;\">\n",
       "      <th></th>\n",
       "      <th>geo_id</th>\n",
       "      <th>NAME</th>\n",
       "      <th>mean_temp_f</th>\n",
       "      <th>source</th>\n",
       "    </tr>\n",
       "  </thead>\n",
       "  <tbody>\n",
       "    <tr>\n",
       "      <th>12</th>\n",
       "      <td>30001000100</td>\n",
       "      <td>1</td>\n",
       "      <td>91.469284</td>\n",
       "      <td>median</td>\n",
       "    </tr>\n",
       "    <tr>\n",
       "      <th>12</th>\n",
       "      <td>30001000100</td>\n",
       "      <td>1</td>\n",
       "      <td>93.310631</td>\n",
       "      <td>perc_95</td>\n",
       "    </tr>\n",
       "    <tr>\n",
       "      <th>37</th>\n",
       "      <td>30001000200</td>\n",
       "      <td>2</td>\n",
       "      <td>98.914602</td>\n",
       "      <td>median</td>\n",
       "    </tr>\n",
       "    <tr>\n",
       "      <th>37</th>\n",
       "      <td>30001000200</td>\n",
       "      <td>2</td>\n",
       "      <td>101.606539</td>\n",
       "      <td>perc_95</td>\n",
       "    </tr>\n",
       "    <tr>\n",
       "      <th>55</th>\n",
       "      <td>30001000300</td>\n",
       "      <td>3</td>\n",
       "      <td>98.551253</td>\n",
       "      <td>perc_95</td>\n",
       "    </tr>\n",
       "    <tr>\n",
       "      <th>...</th>\n",
       "      <td>...</td>\n",
       "      <td>...</td>\n",
       "      <td>...</td>\n",
       "      <td>...</td>\n",
       "    </tr>\n",
       "    <tr>\n",
       "      <th>298</th>\n",
       "      <td>30111001902</td>\n",
       "      <td>19.02</td>\n",
       "      <td>102.754098</td>\n",
       "      <td>perc_95</td>\n",
       "    </tr>\n",
       "    <tr>\n",
       "      <th>307</th>\n",
       "      <td>30111940001</td>\n",
       "      <td>9400.01</td>\n",
       "      <td>108.588649</td>\n",
       "      <td>perc_95</td>\n",
       "    </tr>\n",
       "    <tr>\n",
       "      <th>307</th>\n",
       "      <td>30111940001</td>\n",
       "      <td>9400.01</td>\n",
       "      <td>107.667842</td>\n",
       "      <td>median</td>\n",
       "    </tr>\n",
       "    <tr>\n",
       "      <th>309</th>\n",
       "      <td>30111940002</td>\n",
       "      <td>9400.02</td>\n",
       "      <td>112.516408</td>\n",
       "      <td>perc_95</td>\n",
       "    </tr>\n",
       "    <tr>\n",
       "      <th>309</th>\n",
       "      <td>30111940002</td>\n",
       "      <td>9400.02</td>\n",
       "      <td>108.890338</td>\n",
       "      <td>median</td>\n",
       "    </tr>\n",
       "  </tbody>\n",
       "</table>\n",
       "<p>638 rows × 4 columns</p>\n",
       "</div>"
      ],
      "text/plain": [
       "          geo_id     NAME  mean_temp_f   source\n",
       "12   30001000100        1    91.469284   median\n",
       "12   30001000100        1    93.310631  perc_95\n",
       "37   30001000200        2    98.914602   median\n",
       "37   30001000200        2   101.606539  perc_95\n",
       "55   30001000300        3    98.551253  perc_95\n",
       "..           ...      ...          ...      ...\n",
       "298  30111001902    19.02   102.754098  perc_95\n",
       "307  30111940001  9400.01   108.588649  perc_95\n",
       "307  30111940001  9400.01   107.667842   median\n",
       "309  30111940002  9400.02   112.516408  perc_95\n",
       "309  30111940002  9400.02   108.890338   median\n",
       "\n",
       "[638 rows x 4 columns]"
      ]
     },
     "execution_count": 64,
     "metadata": {},
     "output_type": "execute_result"
    }
   ],
   "source": [
    "df_for_viz = pd.concat([mean_temp_df, mean_temp_df_95])\n",
    "df_for_viz.sort_values(by=\"geo_id\")"
   ]
  },
  {
   "cell_type": "code",
   "execution_count": 65,
   "id": "493516b2-aeba-4ce3-b7f2-62b47b24b894",
   "metadata": {},
   "outputs": [
    {
     "data": {
      "text/html": [
       "\n",
       "            <style>\n",
       "                .geemap-dark {\n",
       "                    --jp-widgets-color: white;\n",
       "                    --jp-widgets-label-color: white;\n",
       "                    --jp-ui-font-color1: white;\n",
       "                    --jp-layout-color2: #454545;\n",
       "                    background-color: #383838;\n",
       "                }\n",
       "\n",
       "                .geemap-dark .jupyter-button {\n",
       "                    --jp-layout-color3: #383838;\n",
       "                }\n",
       "\n",
       "                .geemap-colab {\n",
       "                    background-color: var(--colab-primary-surface-color, white);\n",
       "                }\n",
       "\n",
       "                .geemap-colab .jupyter-button {\n",
       "                    --jp-layout-color3: var(--colab-primary-surface-color, white);\n",
       "                }\n",
       "            </style>\n",
       "            "
      ],
      "text/plain": [
       "<IPython.core.display.HTML object>"
      ]
     },
     "metadata": {},
     "output_type": "display_data"
    },
    {
     "data": {
      "image/png": "[encoded data removed]",
      "text/plain": [
       "<Figure size 1000x600 with 1 Axes>"
      ]
     },
     "metadata": {},
     "output_type": "display_data"
    }
   ],
   "source": [
    "import seaborn as sns\n",
    "import matplotlib.pyplot as plt\n",
    "\n",
    "# Plot the histograms\n",
    "plt.figure(figsize=(10, 6))\n",
    "sns.histplot(data=df_for_viz, x='mean_temp_f', hue='source', bins=15, multiple=\"dodge\", palette={'median': 'blue', 'perc_95': 'orange'}, alpha=0.7)\n",
    "\n",
    "plt.xlabel('mean / 95th percentile Temperature (F)')\n",
    "plt.ylabel('Frequency')\n",
    "plt.title('Distribution of Mean Temperature by Dataset')\n",
    "plt.show()"
   ]
  },
  {
   "cell_type": "code",
   "execution_count": 67,
   "id": "a5ad4a08-465c-4446-8307-b9dfd9e7e4c2",
   "metadata": {},
   "outputs": [
    {
     "data": {
      "text/html": [
       "\n",
       "            <style>\n",
       "                .geemap-dark {\n",
       "                    --jp-widgets-color: white;\n",
       "                    --jp-widgets-label-color: white;\n",
       "                    --jp-ui-font-color1: white;\n",
       "                    --jp-layout-color2: #454545;\n",
       "                    background-color: #383838;\n",
       "                }\n",
       "\n",
       "                .geemap-dark .jupyter-button {\n",
       "                    --jp-layout-color3: #383838;\n",
       "                }\n",
       "\n",
       "                .geemap-colab {\n",
       "                    background-color: var(--colab-primary-surface-color, white);\n",
       "                }\n",
       "\n",
       "                .geemap-colab .jupyter-button {\n",
       "                    --jp-layout-color3: var(--colab-primary-surface-color, white);\n",
       "                }\n",
       "            </style>\n",
       "            "
      ],
      "text/plain": [
       "<IPython.core.display.HTML object>"
      ]
     },
     "metadata": {},
     "output_type": "display_data"
    },
    {
     "data": {
      "image/png": "[encoded data removed]",
      "text/plain": [
       "<Figure size 640x480 with 1 Axes>"
      ]
     },
     "metadata": {},
     "output_type": "display_data"
    }
   ],
   "source": [
    "sns.scatterplot(data=df_for_viz, x='NAME', y='mean_temp_f', hue='source', palette={'median': 'blue', 'perc_95': 'orange'})\n",
    "\n",
    "plt.xlabel('NAME')\n",
    "plt.ylabel('Mean / 95th Percentile LST (F)')\n",
    "plt.title('Scatter Plot of Temperature by Approach')\n",
    "plt.legend(title='Source')\n",
    "plt.show()"
   ]
  },
  {
   "cell_type": "code",
   "execution_count": null,
   "id": "c1b89212-91a9-442a-abf8-179ae2435244",
   "metadata": {},
   "outputs": [],
   "source": []
  },
  {
   "cell_type": "code",
   "execution_count": 13,
   "id": "9b9c9f77-1f1c-4441-be8b-b78f9e3d57bc",
   "metadata": {},
   "outputs": [
    {
     "data": {
      "text/html": [
       "\n",
       "            <style>\n",
       "                .geemap-dark {\n",
       "                    --jp-widgets-color: white;\n",
       "                    --jp-widgets-label-color: white;\n",
       "                    --jp-ui-font-color1: white;\n",
       "                    --jp-layout-color2: #454545;\n",
       "                    background-color: #383838;\n",
       "                }\n",
       "\n",
       "                .geemap-dark .jupyter-button {\n",
       "                    --jp-layout-color3: #383838;\n",
       "                }\n",
       "\n",
       "                .geemap-colab {\n",
       "                    background-color: var(--colab-primary-surface-color, white);\n",
       "                }\n",
       "\n",
       "                .geemap-colab .jupyter-button {\n",
       "                    --jp-layout-color3: var(--colab-primary-surface-color, white);\n",
       "                }\n",
       "            </style>\n",
       "            "
      ],
      "text/plain": [
       "<IPython.core.display.HTML object>"
      ]
     },
     "metadata": {},
     "output_type": "display_data"
    }
   ],
   "source": [
    "output_dir = 'outputs'\n",
    "os.makedirs(output_dir, exist_ok=True)\n",
    "csv_path = os.path.join(output_dir, 'tract_avg_summertemp_2018-22.csv')\n",
    "\n",
    "# outputting the dataset of 95th percentile LST values rather than mean or median.\n",
    "mean_temp_df_95.to_csv(csv_path, index=False)"
   ]
  },
  {
   "cell_type": "markdown",
   "id": "b44c0a02-4e7c-4069-a6c6-7f21fe773e07",
   "metadata": {},
   "source": [
    "## Tree Canopy\n"
   ]
  },
  {
   "cell_type": "code",
   "execution_count": 14,
   "id": "448b7e78-e32a-49aa-9a44-cb5683d85320",
   "metadata": {
    "scrolled": true
   },
   "outputs": [
    {
     "data": {
      "text/html": [
       "\n",
       "            <style>\n",
       "                .geemap-dark {\n",
       "                    --jp-widgets-color: white;\n",
       "                    --jp-widgets-label-color: white;\n",
       "                    --jp-ui-font-color1: white;\n",
       "                    --jp-layout-color2: #454545;\n",
       "                    background-color: #383838;\n",
       "                }\n",
       "\n",
       "                .geemap-dark .jupyter-button {\n",
       "                    --jp-layout-color3: #383838;\n",
       "                }\n",
       "\n",
       "                .geemap-colab {\n",
       "                    background-color: var(--colab-primary-surface-color, white);\n",
       "                }\n",
       "\n",
       "                .geemap-colab .jupyter-button {\n",
       "                    --jp-layout-color3: var(--colab-primary-surface-color, white);\n",
       "                }\n",
       "            </style>\n",
       "            "
      ],
      "text/plain": [
       "<IPython.core.display.HTML object>"
      ]
     },
     "metadata": {},
     "output_type": "display_data"
    }
   ],
   "source": [
    "dataset = ee.ImageCollection('USGS/NLCD_RELEASES/2021_REL/TCC/v2021-4')\\\n",
    "    .filterBounds(aoi) \\\n",
    "    .filter(ee.Filter.calendarRange(2021, 2021, 'year'))\n",
    "\n",
    "nlcd_tree_canopy = dataset.select('NLCD_Percent_Tree_Canopy_Cover').first().clip(aoi.geometry())"
   ]
  },
  {
   "cell_type": "code",
   "execution_count": 15,
   "id": "e4f9f494-6fbd-498f-b88d-8b49edc553a1",
   "metadata": {},
   "outputs": [
    {
     "data": {
      "text/html": [
       "\n",
       "            <style>\n",
       "                .geemap-dark {\n",
       "                    --jp-widgets-color: white;\n",
       "                    --jp-widgets-label-color: white;\n",
       "                    --jp-ui-font-color1: white;\n",
       "                    --jp-layout-color2: #454545;\n",
       "                    background-color: #383838;\n",
       "                }\n",
       "\n",
       "                .geemap-dark .jupyter-button {\n",
       "                    --jp-layout-color3: #383838;\n",
       "                }\n",
       "\n",
       "                .geemap-colab {\n",
       "                    background-color: var(--colab-primary-surface-color, white);\n",
       "                }\n",
       "\n",
       "                .geemap-colab .jupyter-button {\n",
       "                    --jp-layout-color3: var(--colab-primary-surface-color, white);\n",
       "                }\n",
       "            </style>\n",
       "            "
      ],
      "text/plain": [
       "<IPython.core.display.HTML object>"
      ]
     },
     "metadata": {},
     "output_type": "display_data"
    },
    {
     "name": "stdout",
     "output_type": "stream",
     "text": [
      "Execution time: 67.37148880958557 seconds\n"
     ]
    }
   ],
   "source": [
    "start_time = time.time()\n",
    "zonal_stats = nlcd_tree_canopy.reduceRegions(\n",
    "    collection=tracts,\n",
    "    reducer=ee.Reducer.mean(),\n",
    "    scale=30\n",
    ").getInfo()\n",
    "\n",
    "features = zonal_stats['features']\n",
    "gdf_features = []\n",
    "for feature in features:\n",
    "    geom = shape(feature['geometry'])\n",
    "    properties = feature['properties']\n",
    "    properties['geometry'] = geom\n",
    "    gdf_features.append(properties)\n",
    "\n",
    "canopy_gdf = gpd.GeoDataFrame(gdf_features, crs='epsg:4326')\n",
    "canopy_gdf = canopy_gdf[['GEOID', 'mean', 'geometry']]\n",
    "canopy_gdf = canopy_gdf.rename(columns={'GEOID': 'geo_id', 'mean': 'mean_perc_canopy'})\n",
    "end_time = time.time()\n",
    "execution_time = end_time - start_time\n",
    "print(f\"Execution time: {execution_time} seconds\")"
   ]
  },
  {
   "cell_type": "code",
   "execution_count": 16,
   "id": "a6d336f0-14d2-43d6-b0a1-aa34d3fdd3f7",
   "metadata": {},
   "outputs": [
    {
     "data": {
      "text/html": [
       "\n",
       "            <style>\n",
       "                .geemap-dark {\n",
       "                    --jp-widgets-color: white;\n",
       "                    --jp-widgets-label-color: white;\n",
       "                    --jp-ui-font-color1: white;\n",
       "                    --jp-layout-color2: #454545;\n",
       "                    background-color: #383838;\n",
       "                }\n",
       "\n",
       "                .geemap-dark .jupyter-button {\n",
       "                    --jp-layout-color3: #383838;\n",
       "                }\n",
       "\n",
       "                .geemap-colab {\n",
       "                    background-color: var(--colab-primary-surface-color, white);\n",
       "                }\n",
       "\n",
       "                .geemap-colab .jupyter-button {\n",
       "                    --jp-layout-color3: var(--colab-primary-surface-color, white);\n",
       "                }\n",
       "            </style>\n",
       "            "
      ],
      "text/plain": [
       "<IPython.core.display.HTML object>"
      ]
     },
     "metadata": {},
     "output_type": "display_data"
    },
    {
     "data": {
      "text/html": [
       "<div>\n",
       "<style scoped>\n",
       "    .dataframe tbody tr th:only-of-type {\n",
       "        vertical-align: middle;\n",
       "    }\n",
       "\n",
       "    .dataframe tbody tr th {\n",
       "        vertical-align: top;\n",
       "    }\n",
       "\n",
       "    .dataframe thead th {\n",
       "        text-align: right;\n",
       "    }\n",
       "</style>\n",
       "<table border=\"1\" class=\"dataframe\">\n",
       "  <thead>\n",
       "    <tr style=\"text-align: right;\">\n",
       "      <th></th>\n",
       "      <th>geo_id</th>\n",
       "      <th>mean_perc_canopy</th>\n",
       "      <th>geometry</th>\n",
       "    </tr>\n",
       "  </thead>\n",
       "  <tbody>\n",
       "    <tr>\n",
       "      <th>0</th>\n",
       "      <td>30053000100</td>\n",
       "      <td>51.262244</td>\n",
       "      <td>POLYGON ((-115.56283 48.38159, -115.56284 48.3...</td>\n",
       "    </tr>\n",
       "    <tr>\n",
       "      <th>1</th>\n",
       "      <td>30089000100</td>\n",
       "      <td>42.047404</td>\n",
       "      <td>POLYGON ((-115.29581 47.75034, -115.29574 47.7...</td>\n",
       "    </tr>\n",
       "    <tr>\n",
       "      <th>2</th>\n",
       "      <td>30077000100</td>\n",
       "      <td>28.269735</td>\n",
       "      <td>POLYGON ((-112.31057 46.42117, -112.31179 46.4...</td>\n",
       "    </tr>\n",
       "    <tr>\n",
       "      <th>3</th>\n",
       "      <td>30081000100</td>\n",
       "      <td>23.058006</td>\n",
       "      <td>POLYGON ((-114.34420 46.58997, -114.34357 46.5...</td>\n",
       "    </tr>\n",
       "    <tr>\n",
       "      <th>4</th>\n",
       "      <td>30079000100</td>\n",
       "      <td>0.160079</td>\n",
       "      <td>POLYGON ((-106.08680 47.16731, -106.08679 47.1...</td>\n",
       "    </tr>\n",
       "  </tbody>\n",
       "</table>\n",
       "</div>"
      ],
      "text/plain": [
       "        geo_id  mean_perc_canopy  \\\n",
       "0  30053000100         51.262244   \n",
       "1  30089000100         42.047404   \n",
       "2  30077000100         28.269735   \n",
       "3  30081000100         23.058006   \n",
       "4  30079000100          0.160079   \n",
       "\n",
       "                                            geometry  \n",
       "0  POLYGON ((-115.56283 48.38159, -115.56284 48.3...  \n",
       "1  POLYGON ((-115.29581 47.75034, -115.29574 47.7...  \n",
       "2  POLYGON ((-112.31057 46.42117, -112.31179 46.4...  \n",
       "3  POLYGON ((-114.34420 46.58997, -114.34357 46.5...  \n",
       "4  POLYGON ((-106.08680 47.16731, -106.08679 47.1...  "
      ]
     },
     "execution_count": 16,
     "metadata": {},
     "output_type": "execute_result"
    }
   ],
   "source": [
    "canopy_gdf.head()"
   ]
  },
  {
   "cell_type": "markdown",
   "id": "abccc1f8-aa43-46b3-8be2-dbd88d355762",
   "metadata": {},
   "source": [
    "## Imperviousness"
   ]
  },
  {
   "cell_type": "code",
   "execution_count": 17,
   "id": "930922e6-5ddd-4c98-b67c-bde13139ce6c",
   "metadata": {},
   "outputs": [
    {
     "data": {
      "text/html": [
       "\n",
       "            <style>\n",
       "                .geemap-dark {\n",
       "                    --jp-widgets-color: white;\n",
       "                    --jp-widgets-label-color: white;\n",
       "                    --jp-ui-font-color1: white;\n",
       "                    --jp-layout-color2: #454545;\n",
       "                    background-color: #383838;\n",
       "                }\n",
       "\n",
       "                .geemap-dark .jupyter-button {\n",
       "                    --jp-layout-color3: #383838;\n",
       "                }\n",
       "\n",
       "                .geemap-colab {\n",
       "                    background-color: var(--colab-primary-surface-color, white);\n",
       "                }\n",
       "\n",
       "                .geemap-colab .jupyter-button {\n",
       "                    --jp-layout-color3: var(--colab-primary-surface-color, white);\n",
       "                }\n",
       "            </style>\n",
       "            "
      ],
      "text/plain": [
       "<IPython.core.display.HTML object>"
      ]
     },
     "metadata": {},
     "output_type": "display_data"
    }
   ],
   "source": [
    "dataset = ee.ImageCollection('USGS/NLCD_RELEASES/2021_REL/NLCD')\n",
    "impervious = dataset.filter(ee.Filter.calendarRange(2021, 2021, 'year')).first().select('impervious').clip(aoi.geometry())"
   ]
  },
  {
   "cell_type": "code",
   "execution_count": 18,
   "id": "c1fcfe3e-9f32-4e78-b3fc-aeb1907970cd",
   "metadata": {},
   "outputs": [
    {
     "data": {
      "text/html": [
       "\n",
       "            <style>\n",
       "                .geemap-dark {\n",
       "                    --jp-widgets-color: white;\n",
       "                    --jp-widgets-label-color: white;\n",
       "                    --jp-ui-font-color1: white;\n",
       "                    --jp-layout-color2: #454545;\n",
       "                    background-color: #383838;\n",
       "                }\n",
       "\n",
       "                .geemap-dark .jupyter-button {\n",
       "                    --jp-layout-color3: #383838;\n",
       "                }\n",
       "\n",
       "                .geemap-colab {\n",
       "                    background-color: var(--colab-primary-surface-color, white);\n",
       "                }\n",
       "\n",
       "                .geemap-colab .jupyter-button {\n",
       "                    --jp-layout-color3: var(--colab-primary-surface-color, white);\n",
       "                }\n",
       "            </style>\n",
       "            "
      ],
      "text/plain": [
       "<IPython.core.display.HTML object>"
      ]
     },
     "metadata": {},
     "output_type": "display_data"
    },
    {
     "name": "stdout",
     "output_type": "stream",
     "text": [
      "Execution time: 67.02842211723328 seconds\n"
     ]
    }
   ],
   "source": [
    "start_time = time.time()\n",
    "zonal_stats = impervious.reduceRegions(\n",
    "    collection=tracts,\n",
    "    reducer=ee.Reducer.mean(),\n",
    "    scale=30\n",
    ").getInfo()\n",
    "end_time = time.time()\n",
    "execution_time = end_time - start_time\n",
    "print(f\"Execution time: {execution_time} seconds\")"
   ]
  },
  {
   "cell_type": "code",
   "execution_count": 19,
   "id": "3ad028e9-3cc4-4377-906a-9ecb6d88d5bc",
   "metadata": {},
   "outputs": [
    {
     "data": {
      "text/html": [
       "\n",
       "            <style>\n",
       "                .geemap-dark {\n",
       "                    --jp-widgets-color: white;\n",
       "                    --jp-widgets-label-color: white;\n",
       "                    --jp-ui-font-color1: white;\n",
       "                    --jp-layout-color2: #454545;\n",
       "                    background-color: #383838;\n",
       "                }\n",
       "\n",
       "                .geemap-dark .jupyter-button {\n",
       "                    --jp-layout-color3: #383838;\n",
       "                }\n",
       "\n",
       "                .geemap-colab {\n",
       "                    background-color: var(--colab-primary-surface-color, white);\n",
       "                }\n",
       "\n",
       "                .geemap-colab .jupyter-button {\n",
       "                    --jp-layout-color3: var(--colab-primary-surface-color, white);\n",
       "                }\n",
       "            </style>\n",
       "            "
      ],
      "text/plain": [
       "<IPython.core.display.HTML object>"
      ]
     },
     "metadata": {},
     "output_type": "display_data"
    }
   ],
   "source": [
    "features = zonal_stats['features']\n",
    "gdf_features = []\n",
    "for feature in features:\n",
    "    geom = shape(feature['geometry'])\n",
    "    properties = feature['properties']\n",
    "    properties['geometry'] = geom\n",
    "    gdf_features.append(properties)\n",
    "\n",
    "impervious_gdf = gpd.GeoDataFrame(gdf_features, crs='epsg:4326')\n",
    "\n",
    "# Keep only 'GEOID' and 'mean' columns, and rename them\n",
    "impervious_gdf = impervious_gdf[['GEOID', 'mean', 'geometry']]\n",
    "impervious_gdf = impervious_gdf.rename(columns={'GEOID': 'geo_id', 'mean': 'mean_perc_impervious'})"
   ]
  },
  {
   "cell_type": "code",
   "execution_count": 20,
   "id": "c75ac179-faf7-4362-8911-c0ff914badac",
   "metadata": {},
   "outputs": [
    {
     "data": {
      "text/html": [
       "\n",
       "            <style>\n",
       "                .geemap-dark {\n",
       "                    --jp-widgets-color: white;\n",
       "                    --jp-widgets-label-color: white;\n",
       "                    --jp-ui-font-color1: white;\n",
       "                    --jp-layout-color2: #454545;\n",
       "                    background-color: #383838;\n",
       "                }\n",
       "\n",
       "                .geemap-dark .jupyter-button {\n",
       "                    --jp-layout-color3: #383838;\n",
       "                }\n",
       "\n",
       "                .geemap-colab {\n",
       "                    background-color: var(--colab-primary-surface-color, white);\n",
       "                }\n",
       "\n",
       "                .geemap-colab .jupyter-button {\n",
       "                    --jp-layout-color3: var(--colab-primary-surface-color, white);\n",
       "                }\n",
       "            </style>\n",
       "            "
      ],
      "text/plain": [
       "<IPython.core.display.HTML object>"
      ]
     },
     "metadata": {},
     "output_type": "display_data"
    },
    {
     "data": {
      "text/html": [
       "<div>\n",
       "<style scoped>\n",
       "    .dataframe tbody tr th:only-of-type {\n",
       "        vertical-align: middle;\n",
       "    }\n",
       "\n",
       "    .dataframe tbody tr th {\n",
       "        vertical-align: top;\n",
       "    }\n",
       "\n",
       "    .dataframe thead th {\n",
       "        text-align: right;\n",
       "    }\n",
       "</style>\n",
       "<table border=\"1\" class=\"dataframe\">\n",
       "  <thead>\n",
       "    <tr style=\"text-align: right;\">\n",
       "      <th></th>\n",
       "      <th>geo_id</th>\n",
       "      <th>mean_perc_impervious</th>\n",
       "      <th>geometry</th>\n",
       "    </tr>\n",
       "  </thead>\n",
       "  <tbody>\n",
       "    <tr>\n",
       "      <th>246</th>\n",
       "      <td>30035980000</td>\n",
       "      <td>0.027687</td>\n",
       "      <td>POLYGON ((-114.06818 48.99886, -114.06809 48.9...</td>\n",
       "    </tr>\n",
       "    <tr>\n",
       "      <th>247</th>\n",
       "      <td>30067980600</td>\n",
       "      <td>0.069624</td>\n",
       "      <td>POLYGON ((-111.04506 45.07390, -111.04506 45.0...</td>\n",
       "    </tr>\n",
       "    <tr>\n",
       "      <th>141</th>\n",
       "      <td>30029000102</td>\n",
       "      <td>0.075204</td>\n",
       "      <td>POLYGON ((-113.92011 48.14073, -113.92007 48.1...</td>\n",
       "    </tr>\n",
       "    <tr>\n",
       "      <th>137</th>\n",
       "      <td>30029000101</td>\n",
       "      <td>0.091266</td>\n",
       "      <td>POLYGON ((-114.88873 48.59888, -114.88873 48.5...</td>\n",
       "    </tr>\n",
       "    <tr>\n",
       "      <th>15</th>\n",
       "      <td>30049000100</td>\n",
       "      <td>0.095741</td>\n",
       "      <td>POLYGON ((-112.37308 47.08671, -112.37308 47.0...</td>\n",
       "    </tr>\n",
       "    <tr>\n",
       "      <th>...</th>\n",
       "      <td>...</td>\n",
       "      <td>...</td>\n",
       "      <td>...</td>\n",
       "    </tr>\n",
       "    <tr>\n",
       "      <th>96</th>\n",
       "      <td>30111001000</td>\n",
       "      <td>66.046008</td>\n",
       "      <td>POLYGON ((-108.54234 45.76260, -108.54220 45.7...</td>\n",
       "    </tr>\n",
       "    <tr>\n",
       "      <th>251</th>\n",
       "      <td>30063001002</td>\n",
       "      <td>66.482265</td>\n",
       "      <td>POLYGON ((-114.02814 46.85953, -114.02817 46.8...</td>\n",
       "    </tr>\n",
       "    <tr>\n",
       "      <th>56</th>\n",
       "      <td>30111000300</td>\n",
       "      <td>67.683392</td>\n",
       "      <td>POLYGON ((-108.52795 45.76964, -108.52689 45.7...</td>\n",
       "    </tr>\n",
       "    <tr>\n",
       "      <th>143</th>\n",
       "      <td>30093000102</td>\n",
       "      <td>71.182616</td>\n",
       "      <td>POLYGON ((-112.54212 46.01654, -112.54212 46.0...</td>\n",
       "    </tr>\n",
       "    <tr>\n",
       "      <th>168</th>\n",
       "      <td>30111000402</td>\n",
       "      <td>72.110111</td>\n",
       "      <td>POLYGON ((-108.52792 45.78401, -108.52744 45.7...</td>\n",
       "    </tr>\n",
       "  </tbody>\n",
       "</table>\n",
       "<p>319 rows × 3 columns</p>\n",
       "</div>"
      ],
      "text/plain": [
       "          geo_id  mean_perc_impervious  \\\n",
       "246  30035980000              0.027687   \n",
       "247  30067980600              0.069624   \n",
       "141  30029000102              0.075204   \n",
       "137  30029000101              0.091266   \n",
       "15   30049000100              0.095741   \n",
       "..           ...                   ...   \n",
       "96   30111001000             66.046008   \n",
       "251  30063001002             66.482265   \n",
       "56   30111000300             67.683392   \n",
       "143  30093000102             71.182616   \n",
       "168  30111000402             72.110111   \n",
       "\n",
       "                                              geometry  \n",
       "246  POLYGON ((-114.06818 48.99886, -114.06809 48.9...  \n",
       "247  POLYGON ((-111.04506 45.07390, -111.04506 45.0...  \n",
       "141  POLYGON ((-113.92011 48.14073, -113.92007 48.1...  \n",
       "137  POLYGON ((-114.88873 48.59888, -114.88873 48.5...  \n",
       "15   POLYGON ((-112.37308 47.08671, -112.37308 47.0...  \n",
       "..                                                 ...  \n",
       "96   POLYGON ((-108.54234 45.76260, -108.54220 45.7...  \n",
       "251  POLYGON ((-114.02814 46.85953, -114.02817 46.8...  \n",
       "56   POLYGON ((-108.52795 45.76964, -108.52689 45.7...  \n",
       "143  POLYGON ((-112.54212 46.01654, -112.54212 46.0...  \n",
       "168  POLYGON ((-108.52792 45.78401, -108.52744 45.7...  \n",
       "\n",
       "[319 rows x 3 columns]"
      ]
     },
     "execution_count": 20,
     "metadata": {},
     "output_type": "execute_result"
    }
   ],
   "source": [
    "impervious_gdf.sort_values(by=\"mean_perc_impervious\")"
   ]
  },
  {
   "cell_type": "markdown",
   "id": "3985a5b7-9450-4f6b-8c04-987b299192a9",
   "metadata": {},
   "source": [
    "### Merge canopy and imperviousness data"
   ]
  },
  {
   "cell_type": "code",
   "execution_count": 21,
   "id": "b94a1d9e-5f9f-445c-93f7-b8cd9fa7f13d",
   "metadata": {},
   "outputs": [
    {
     "data": {
      "text/html": [
       "\n",
       "            <style>\n",
       "                .geemap-dark {\n",
       "                    --jp-widgets-color: white;\n",
       "                    --jp-widgets-label-color: white;\n",
       "                    --jp-ui-font-color1: white;\n",
       "                    --jp-layout-color2: #454545;\n",
       "                    background-color: #383838;\n",
       "                }\n",
       "\n",
       "                .geemap-dark .jupyter-button {\n",
       "                    --jp-layout-color3: #383838;\n",
       "                }\n",
       "\n",
       "                .geemap-colab {\n",
       "                    background-color: var(--colab-primary-surface-color, white);\n",
       "                }\n",
       "\n",
       "                .geemap-colab .jupyter-button {\n",
       "                    --jp-layout-color3: var(--colab-primary-surface-color, white);\n",
       "                }\n",
       "            </style>\n",
       "            "
      ],
      "text/plain": [
       "<IPython.core.display.HTML object>"
      ]
     },
     "metadata": {},
     "output_type": "display_data"
    }
   ],
   "source": [
    "df_final = canopy_gdf.merge(impervious_gdf, on='geo_id', suffixes=('_canopy', '_impervious'))\n",
    "# Keep only 'GEOID' and 'mean' columns, and rename them\n",
    "df_final = df_final[['geo_id', 'mean_perc_impervious', 'mean_perc_canopy', 'geometry_canopy']]\n",
    "df_final = df_final.rename(columns={'geometry_canopy': 'geometry'})\n",
    "\n",
    "# switch to projected crs and calculate area\n",
    "df_final = gpd.GeoDataFrame(df_final, geometry='geometry', crs='epsg:5070')\n",
    "df_final['area_sq_miles'] = df_final['geometry'].area / 2.59e+6\n",
    "\n",
    "# convert back to 4326 crs\n",
    "df_final = df_final.to_crs(epsg=4326)\n"
   ]
  },
  {
   "cell_type": "code",
   "execution_count": 22,
   "id": "b5ec1f19-c3ad-4f9c-803a-d51d6586f4fc",
   "metadata": {},
   "outputs": [
    {
     "data": {
      "text/html": [
       "\n",
       "            <style>\n",
       "                .geemap-dark {\n",
       "                    --jp-widgets-color: white;\n",
       "                    --jp-widgets-label-color: white;\n",
       "                    --jp-ui-font-color1: white;\n",
       "                    --jp-layout-color2: #454545;\n",
       "                    background-color: #383838;\n",
       "                }\n",
       "\n",
       "                .geemap-dark .jupyter-button {\n",
       "                    --jp-layout-color3: #383838;\n",
       "                }\n",
       "\n",
       "                .geemap-colab {\n",
       "                    background-color: var(--colab-primary-surface-color, white);\n",
       "                }\n",
       "\n",
       "                .geemap-colab .jupyter-button {\n",
       "                    --jp-layout-color3: var(--colab-primary-surface-color, white);\n",
       "                }\n",
       "            </style>\n",
       "            "
      ],
      "text/plain": [
       "<IPython.core.display.HTML object>"
      ]
     },
     "metadata": {},
     "output_type": "display_data"
    }
   ],
   "source": [
    "numerator = -1 * (df_final['mean_perc_canopy'] * df_final['area_sq_miles'] - df_final['mean_perc_impervious'] * df_final['area_sq_miles'])\n",
    "denominator = (df_final['mean_perc_canopy'] * df_final['area_sq_miles'] + df_final['mean_perc_impervious'] * df_final['area_sq_miles'])\n",
    "\n",
    "# Calculate the impervious_canopy_index\n",
    "df_final['impervious_canopy_index'] = numerator / denominator"
   ]
  },
  {
   "cell_type": "code",
   "execution_count": 23,
   "id": "c30892a0-3bef-477d-9376-ab08ce0ff74c",
   "metadata": {},
   "outputs": [
    {
     "data": {
      "text/html": [
       "\n",
       "            <style>\n",
       "                .geemap-dark {\n",
       "                    --jp-widgets-color: white;\n",
       "                    --jp-widgets-label-color: white;\n",
       "                    --jp-ui-font-color1: white;\n",
       "                    --jp-layout-color2: #454545;\n",
       "                    background-color: #383838;\n",
       "                }\n",
       "\n",
       "                .geemap-dark .jupyter-button {\n",
       "                    --jp-layout-color3: #383838;\n",
       "                }\n",
       "\n",
       "                .geemap-colab {\n",
       "                    background-color: var(--colab-primary-surface-color, white);\n",
       "                }\n",
       "\n",
       "                .geemap-colab .jupyter-button {\n",
       "                    --jp-layout-color3: var(--colab-primary-surface-color, white);\n",
       "                }\n",
       "            </style>\n",
       "            "
      ],
      "text/plain": [
       "<IPython.core.display.HTML object>"
      ]
     },
     "metadata": {},
     "output_type": "display_data"
    },
    {
     "data": {
      "text/html": [
       "<div>\n",
       "<style scoped>\n",
       "    .dataframe tbody tr th:only-of-type {\n",
       "        vertical-align: middle;\n",
       "    }\n",
       "\n",
       "    .dataframe tbody tr th {\n",
       "        vertical-align: top;\n",
       "    }\n",
       "\n",
       "    .dataframe thead th {\n",
       "        text-align: right;\n",
       "    }\n",
       "</style>\n",
       "<table border=\"1\" class=\"dataframe\">\n",
       "  <thead>\n",
       "    <tr style=\"text-align: right;\">\n",
       "      <th></th>\n",
       "      <th>geo_id</th>\n",
       "      <th>mean_perc_impervious</th>\n",
       "      <th>mean_perc_canopy</th>\n",
       "      <th>geometry</th>\n",
       "      <th>area_sq_miles</th>\n",
       "      <th>impervious_canopy_index</th>\n",
       "    </tr>\n",
       "  </thead>\n",
       "  <tbody>\n",
       "    <tr>\n",
       "      <th>246</th>\n",
       "      <td>30035980000</td>\n",
       "      <td>0.027687</td>\n",
       "      <td>28.872932</td>\n",
       "      <td>POLYGON ((-96.00109 23.00045, -96.00109 23.000...</td>\n",
       "      <td>7.143839e-08</td>\n",
       "      <td>-0.998084</td>\n",
       "    </tr>\n",
       "    <tr>\n",
       "      <th>141</th>\n",
       "      <td>30029000102</td>\n",
       "      <td>0.075204</td>\n",
       "      <td>44.224298</td>\n",
       "      <td>POLYGON ((-96.00109 23.00044, -96.00109 23.000...</td>\n",
       "      <td>2.133993e-07</td>\n",
       "      <td>-0.996605</td>\n",
       "    </tr>\n",
       "    <tr>\n",
       "      <th>137</th>\n",
       "      <td>30029000101</td>\n",
       "      <td>0.091266</td>\n",
       "      <td>46.099270</td>\n",
       "      <td>POLYGON ((-96.00110 23.00045, -96.00110 23.000...</td>\n",
       "      <td>2.251868e-07</td>\n",
       "      <td>-0.996048</td>\n",
       "    </tr>\n",
       "    <tr>\n",
       "      <th>291</th>\n",
       "      <td>30063001801</td>\n",
       "      <td>0.098801</td>\n",
       "      <td>43.155214</td>\n",
       "      <td>POLYGON ((-96.00109 23.00043, -96.00109 23.000...</td>\n",
       "      <td>8.346152e-08</td>\n",
       "      <td>-0.995432</td>\n",
       "    </tr>\n",
       "    <tr>\n",
       "      <th>8</th>\n",
       "      <td>30047000100</td>\n",
       "      <td>0.127286</td>\n",
       "      <td>54.997564</td>\n",
       "      <td>POLYGON ((-96.00109 23.00044, -96.00109 23.000...</td>\n",
       "      <td>4.544196e-08</td>\n",
       "      <td>-0.995382</td>\n",
       "    </tr>\n",
       "    <tr>\n",
       "      <th>...</th>\n",
       "      <td>...</td>\n",
       "      <td>...</td>\n",
       "      <td>...</td>\n",
       "      <td>...</td>\n",
       "      <td>...</td>\n",
       "      <td>...</td>\n",
       "    </tr>\n",
       "    <tr>\n",
       "      <th>53</th>\n",
       "      <td>30093000300</td>\n",
       "      <td>50.826182</td>\n",
       "      <td>0.243111</td>\n",
       "      <td>POLYGON ((-96.00108 23.00042, -96.00108 23.000...</td>\n",
       "      <td>1.015539e-10</td>\n",
       "      <td>0.990479</td>\n",
       "    </tr>\n",
       "    <tr>\n",
       "      <th>65</th>\n",
       "      <td>30093000400</td>\n",
       "      <td>59.335064</td>\n",
       "      <td>0.267569</td>\n",
       "      <td>POLYGON ((-96.00108 23.00042, -96.00108 23.000...</td>\n",
       "      <td>1.151221e-10</td>\n",
       "      <td>0.991022</td>\n",
       "    </tr>\n",
       "    <tr>\n",
       "      <th>260</th>\n",
       "      <td>30013001201</td>\n",
       "      <td>42.125427</td>\n",
       "      <td>0.108418</td>\n",
       "      <td>POLYGON ((-96.00106 23.00044, -96.00106 23.000...</td>\n",
       "      <td>5.813592e-11</td>\n",
       "      <td>0.994866</td>\n",
       "    </tr>\n",
       "    <tr>\n",
       "      <th>263</th>\n",
       "      <td>30013001202</td>\n",
       "      <td>17.562539</td>\n",
       "      <td>0.022314</td>\n",
       "      <td>POLYGON ((-96.00106 23.00044, -96.00106 23.000...</td>\n",
       "      <td>7.697453e-10</td>\n",
       "      <td>0.997462</td>\n",
       "    </tr>\n",
       "    <tr>\n",
       "      <th>245</th>\n",
       "      <td>30101980000</td>\n",
       "      <td>11.657764</td>\n",
       "      <td>0.000000</td>\n",
       "      <td>POLYGON ((-96.00107 23.00045, -96.00107 23.000...</td>\n",
       "      <td>1.662045e-11</td>\n",
       "      <td>1.000000</td>\n",
       "    </tr>\n",
       "  </tbody>\n",
       "</table>\n",
       "<p>319 rows × 6 columns</p>\n",
       "</div>"
      ],
      "text/plain": [
       "          geo_id  mean_perc_impervious  mean_perc_canopy  \\\n",
       "246  30035980000              0.027687         28.872932   \n",
       "141  30029000102              0.075204         44.224298   \n",
       "137  30029000101              0.091266         46.099270   \n",
       "291  30063001801              0.098801         43.155214   \n",
       "8    30047000100              0.127286         54.997564   \n",
       "..           ...                   ...               ...   \n",
       "53   30093000300             50.826182          0.243111   \n",
       "65   30093000400             59.335064          0.267569   \n",
       "260  30013001201             42.125427          0.108418   \n",
       "263  30013001202             17.562539          0.022314   \n",
       "245  30101980000             11.657764          0.000000   \n",
       "\n",
       "                                              geometry  area_sq_miles  \\\n",
       "246  POLYGON ((-96.00109 23.00045, -96.00109 23.000...   7.143839e-08   \n",
       "141  POLYGON ((-96.00109 23.00044, -96.00109 23.000...   2.133993e-07   \n",
       "137  POLYGON ((-96.00110 23.00045, -96.00110 23.000...   2.251868e-07   \n",
       "291  POLYGON ((-96.00109 23.00043, -96.00109 23.000...   8.346152e-08   \n",
       "8    POLYGON ((-96.00109 23.00044, -96.00109 23.000...   4.544196e-08   \n",
       "..                                                 ...            ...   \n",
       "53   POLYGON ((-96.00108 23.00042, -96.00108 23.000...   1.015539e-10   \n",
       "65   POLYGON ((-96.00108 23.00042, -96.00108 23.000...   1.151221e-10   \n",
       "260  POLYGON ((-96.00106 23.00044, -96.00106 23.000...   5.813592e-11   \n",
       "263  POLYGON ((-96.00106 23.00044, -96.00106 23.000...   7.697453e-10   \n",
       "245  POLYGON ((-96.00107 23.00045, -96.00107 23.000...   1.662045e-11   \n",
       "\n",
       "     impervious_canopy_index  \n",
       "246                -0.998084  \n",
       "141                -0.996605  \n",
       "137                -0.996048  \n",
       "291                -0.995432  \n",
       "8                  -0.995382  \n",
       "..                       ...  \n",
       "53                  0.990479  \n",
       "65                  0.991022  \n",
       "260                 0.994866  \n",
       "263                 0.997462  \n",
       "245                 1.000000  \n",
       "\n",
       "[319 rows x 6 columns]"
      ]
     },
     "execution_count": 23,
     "metadata": {},
     "output_type": "execute_result"
    }
   ],
   "source": [
    "df_final.sort_values(by=\"impervious_canopy_index\")"
   ]
  },
  {
   "cell_type": "markdown",
   "id": "a7e1f201-7a1f-4374-8ae8-7f15b1a851c3",
   "metadata": {},
   "source": [
    "### merge temperature data"
   ]
  },
  {
   "cell_type": "code",
   "execution_count": 24,
   "id": "8af67d0e-4760-4c26-bf62-fd7bac7c0833",
   "metadata": {},
   "outputs": [
    {
     "data": {
      "text/html": [
       "\n",
       "            <style>\n",
       "                .geemap-dark {\n",
       "                    --jp-widgets-color: white;\n",
       "                    --jp-widgets-label-color: white;\n",
       "                    --jp-ui-font-color1: white;\n",
       "                    --jp-layout-color2: #454545;\n",
       "                    background-color: #383838;\n",
       "                }\n",
       "\n",
       "                .geemap-dark .jupyter-button {\n",
       "                    --jp-layout-color3: #383838;\n",
       "                }\n",
       "\n",
       "                .geemap-colab {\n",
       "                    background-color: var(--colab-primary-surface-color, white);\n",
       "                }\n",
       "\n",
       "                .geemap-colab .jupyter-button {\n",
       "                    --jp-layout-color3: var(--colab-primary-surface-color, white);\n",
       "                }\n",
       "            </style>\n",
       "            "
      ],
      "text/plain": [
       "<IPython.core.display.HTML object>"
      ]
     },
     "metadata": {},
     "output_type": "display_data"
    },
    {
     "data": {
      "text/html": [
       "<div>\n",
       "<style scoped>\n",
       "    .dataframe tbody tr th:only-of-type {\n",
       "        vertical-align: middle;\n",
       "    }\n",
       "\n",
       "    .dataframe tbody tr th {\n",
       "        vertical-align: top;\n",
       "    }\n",
       "\n",
       "    .dataframe thead th {\n",
       "        text-align: right;\n",
       "    }\n",
       "</style>\n",
       "<table border=\"1\" class=\"dataframe\">\n",
       "  <thead>\n",
       "    <tr style=\"text-align: right;\">\n",
       "      <th></th>\n",
       "      <th>geo_id</th>\n",
       "      <th>NAME</th>\n",
       "      <th>mean_temp_f</th>\n",
       "    </tr>\n",
       "  </thead>\n",
       "  <tbody>\n",
       "    <tr>\n",
       "      <th>0</th>\n",
       "      <td>30053000100</td>\n",
       "      <td>1</td>\n",
       "      <td>84.776842</td>\n",
       "    </tr>\n",
       "    <tr>\n",
       "      <th>1</th>\n",
       "      <td>30089000100</td>\n",
       "      <td>1</td>\n",
       "      <td>86.642966</td>\n",
       "    </tr>\n",
       "    <tr>\n",
       "      <th>2</th>\n",
       "      <td>30077000100</td>\n",
       "      <td>1</td>\n",
       "      <td>88.678175</td>\n",
       "    </tr>\n",
       "    <tr>\n",
       "      <th>3</th>\n",
       "      <td>30081000100</td>\n",
       "      <td>1</td>\n",
       "      <td>86.079701</td>\n",
       "    </tr>\n",
       "    <tr>\n",
       "      <th>4</th>\n",
       "      <td>30079000100</td>\n",
       "      <td>1</td>\n",
       "      <td>109.811034</td>\n",
       "    </tr>\n",
       "  </tbody>\n",
       "</table>\n",
       "</div>"
      ],
      "text/plain": [
       "        geo_id NAME  mean_temp_f\n",
       "0  30053000100    1    84.776842\n",
       "1  30089000100    1    86.642966\n",
       "2  30077000100    1    88.678175\n",
       "3  30081000100    1    86.079701\n",
       "4  30079000100    1   109.811034"
      ]
     },
     "execution_count": 24,
     "metadata": {},
     "output_type": "execute_result"
    }
   ],
   "source": [
    "mean_temp_df.head()"
   ]
  },
  {
   "cell_type": "code",
   "execution_count": 25,
   "id": "bf420153-bbed-426d-ac51-6ba2fd428c85",
   "metadata": {},
   "outputs": [
    {
     "data": {
      "text/html": [
       "\n",
       "            <style>\n",
       "                .geemap-dark {\n",
       "                    --jp-widgets-color: white;\n",
       "                    --jp-widgets-label-color: white;\n",
       "                    --jp-ui-font-color1: white;\n",
       "                    --jp-layout-color2: #454545;\n",
       "                    background-color: #383838;\n",
       "                }\n",
       "\n",
       "                .geemap-dark .jupyter-button {\n",
       "                    --jp-layout-color3: #383838;\n",
       "                }\n",
       "\n",
       "                .geemap-colab {\n",
       "                    background-color: var(--colab-primary-surface-color, white);\n",
       "                }\n",
       "\n",
       "                .geemap-colab .jupyter-button {\n",
       "                    --jp-layout-color3: var(--colab-primary-surface-color, white);\n",
       "                }\n",
       "            </style>\n",
       "            "
      ],
      "text/plain": [
       "<IPython.core.display.HTML object>"
      ]
     },
     "metadata": {},
     "output_type": "display_data"
    }
   ],
   "source": [
    "df_final = df_final.merge(mean_temp_df[['geo_id', 'mean_temp_f']], on='geo_id')\n",
    "df_final = df_final[['geo_id', 'mean_perc_impervious', 'mean_perc_canopy', 'impervious_canopy_index', 'mean_temp_f', 'area_sq_miles']]"
   ]
  },
  {
   "cell_type": "code",
   "execution_count": 26,
   "id": "7fc0a299-8708-474e-8b8a-2b8a316132aa",
   "metadata": {},
   "outputs": [
    {
     "data": {
      "text/html": [
       "\n",
       "            <style>\n",
       "                .geemap-dark {\n",
       "                    --jp-widgets-color: white;\n",
       "                    --jp-widgets-label-color: white;\n",
       "                    --jp-ui-font-color1: white;\n",
       "                    --jp-layout-color2: #454545;\n",
       "                    background-color: #383838;\n",
       "                }\n",
       "\n",
       "                .geemap-dark .jupyter-button {\n",
       "                    --jp-layout-color3: #383838;\n",
       "                }\n",
       "\n",
       "                .geemap-colab {\n",
       "                    background-color: var(--colab-primary-surface-color, white);\n",
       "                }\n",
       "\n",
       "                .geemap-colab .jupyter-button {\n",
       "                    --jp-layout-color3: var(--colab-primary-surface-color, white);\n",
       "                }\n",
       "            </style>\n",
       "            "
      ],
      "text/plain": [
       "<IPython.core.display.HTML object>"
      ]
     },
     "metadata": {},
     "output_type": "display_data"
    },
    {
     "data": {
      "text/html": [
       "<div>\n",
       "<style scoped>\n",
       "    .dataframe tbody tr th:only-of-type {\n",
       "        vertical-align: middle;\n",
       "    }\n",
       "\n",
       "    .dataframe tbody tr th {\n",
       "        vertical-align: top;\n",
       "    }\n",
       "\n",
       "    .dataframe thead th {\n",
       "        text-align: right;\n",
       "    }\n",
       "</style>\n",
       "<table border=\"1\" class=\"dataframe\">\n",
       "  <thead>\n",
       "    <tr style=\"text-align: right;\">\n",
       "      <th></th>\n",
       "      <th>geo_id</th>\n",
       "      <th>mean_perc_impervious</th>\n",
       "      <th>mean_perc_canopy</th>\n",
       "      <th>impervious_canopy_index</th>\n",
       "      <th>mean_temp_f</th>\n",
       "      <th>area_sq_miles</th>\n",
       "    </tr>\n",
       "  </thead>\n",
       "  <tbody>\n",
       "    <tr>\n",
       "      <th>0</th>\n",
       "      <td>30053000100</td>\n",
       "      <td>0.375692</td>\n",
       "      <td>51.262244</td>\n",
       "      <td>-0.985449</td>\n",
       "      <td>84.776842</td>\n",
       "      <td>1.194955e-07</td>\n",
       "    </tr>\n",
       "    <tr>\n",
       "      <th>1</th>\n",
       "      <td>30089000100</td>\n",
       "      <td>0.271138</td>\n",
       "      <td>42.047404</td>\n",
       "      <td>-0.987186</td>\n",
       "      <td>86.642966</td>\n",
       "      <td>1.078215e-07</td>\n",
       "    </tr>\n",
       "    <tr>\n",
       "      <th>2</th>\n",
       "      <td>30077000100</td>\n",
       "      <td>0.126999</td>\n",
       "      <td>28.269735</td>\n",
       "      <td>-0.991055</td>\n",
       "      <td>88.678175</td>\n",
       "      <td>2.322864e-07</td>\n",
       "    </tr>\n",
       "    <tr>\n",
       "      <th>3</th>\n",
       "      <td>30081000100</td>\n",
       "      <td>0.696844</td>\n",
       "      <td>23.058006</td>\n",
       "      <td>-0.941330</td>\n",
       "      <td>86.079701</td>\n",
       "      <td>1.210486e-08</td>\n",
       "    </tr>\n",
       "    <tr>\n",
       "      <th>4</th>\n",
       "      <td>30079000100</td>\n",
       "      <td>0.200198</td>\n",
       "      <td>0.160079</td>\n",
       "      <td>0.111357</td>\n",
       "      <td>109.811034</td>\n",
       "      <td>2.055484e-07</td>\n",
       "    </tr>\n",
       "  </tbody>\n",
       "</table>\n",
       "</div>"
      ],
      "text/plain": [
       "        geo_id  mean_perc_impervious  mean_perc_canopy  \\\n",
       "0  30053000100              0.375692         51.262244   \n",
       "1  30089000100              0.271138         42.047404   \n",
       "2  30077000100              0.126999         28.269735   \n",
       "3  30081000100              0.696844         23.058006   \n",
       "4  30079000100              0.200198          0.160079   \n",
       "\n",
       "   impervious_canopy_index  mean_temp_f  area_sq_miles  \n",
       "0                -0.985449    84.776842   1.194955e-07  \n",
       "1                -0.987186    86.642966   1.078215e-07  \n",
       "2                -0.991055    88.678175   2.322864e-07  \n",
       "3                -0.941330    86.079701   1.210486e-08  \n",
       "4                 0.111357   109.811034   2.055484e-07  "
      ]
     },
     "execution_count": 26,
     "metadata": {},
     "output_type": "execute_result"
    }
   ],
   "source": [
    "df_final.head()"
   ]
  },
  {
   "cell_type": "code",
   "execution_count": 27,
   "id": "b1168304-0929-4fcb-8fa4-de86555ee949",
   "metadata": {},
   "outputs": [
    {
     "data": {
      "text/html": [
       "\n",
       "            <style>\n",
       "                .geemap-dark {\n",
       "                    --jp-widgets-color: white;\n",
       "                    --jp-widgets-label-color: white;\n",
       "                    --jp-ui-font-color1: white;\n",
       "                    --jp-layout-color2: #454545;\n",
       "                    background-color: #383838;\n",
       "                }\n",
       "\n",
       "                .geemap-dark .jupyter-button {\n",
       "                    --jp-layout-color3: #383838;\n",
       "                }\n",
       "\n",
       "                .geemap-colab {\n",
       "                    background-color: var(--colab-primary-surface-color, white);\n",
       "                }\n",
       "\n",
       "                .geemap-colab .jupyter-button {\n",
       "                    --jp-layout-color3: var(--colab-primary-surface-color, white);\n",
       "                }\n",
       "            </style>\n",
       "            "
      ],
      "text/plain": [
       "<IPython.core.display.HTML object>"
      ]
     },
     "metadata": {},
     "output_type": "display_data"
    }
   ],
   "source": [
    "csv_path = os.path.join(output_dir, 'df_raster_analysis_final.csv')\n",
    "# df_final.to_csv(csv_path, index=False)"
   ]
  },
  {
   "cell_type": "markdown",
   "id": "b9b5f226-c1f7-4c5d-999a-cac26bd4e83d",
   "metadata": {},
   "source": [
    "## Explore the data!"
   ]
  },
  {
   "cell_type": "code",
   "execution_count": 28,
   "id": "ef3a4ef5-ff2b-4e87-b219-f21dc3ef3852",
   "metadata": {},
   "outputs": [
    {
     "data": {
      "text/html": [
       "\n",
       "            <style>\n",
       "                .geemap-dark {\n",
       "                    --jp-widgets-color: white;\n",
       "                    --jp-widgets-label-color: white;\n",
       "                    --jp-ui-font-color1: white;\n",
       "                    --jp-layout-color2: #454545;\n",
       "                    background-color: #383838;\n",
       "                }\n",
       "\n",
       "                .geemap-dark .jupyter-button {\n",
       "                    --jp-layout-color3: #383838;\n",
       "                }\n",
       "\n",
       "                .geemap-colab {\n",
       "                    background-color: var(--colab-primary-surface-color, white);\n",
       "                }\n",
       "\n",
       "                .geemap-colab .jupyter-button {\n",
       "                    --jp-layout-color3: var(--colab-primary-surface-color, white);\n",
       "                }\n",
       "            </style>\n",
       "            "
      ],
      "text/plain": [
       "<IPython.core.display.HTML object>"
      ]
     },
     "metadata": {},
     "output_type": "display_data"
    },
    {
     "data": {
      "image/png": "[encoded data removed]",
      "text/plain": [
       "<Figure size 800x100 with 1 Axes>"
      ]
     },
     "metadata": {},
     "output_type": "display_data"
    }
   ],
   "source": [
    "colors = [\n",
    "    '#5fab94', '#62b49a',   # reduced greenish-blues\n",
    "    '#68c0a6',  # light green\n",
    "    '#b3cb96', '#c3c38e', '#d1be8e', '#eed09d',  # expanded tans\n",
    "    '#b07e30', '#8c510a', '#7c4210',  # expanded browns\n",
    "    '#d9d6d6', '#dcdcdc', '#e8e8e8', '#f0f0f0', '#FFFFFF'  # greys and whites\n",
    "]\n",
    "\n",
    "# Create a segmented colormap from the list of colors\n",
    "custom_cmap = LinearSegmentedColormap.from_list(\"custom_terrain\", colors, N=256)\n",
    "\n",
    "# Visualize the custom colormap\n",
    "fig, ax = plt.subplots(figsize=(8, 1))\n",
    "fig.subplots_adjust(bottom=0.5)\n",
    "\n",
    "# Display the colormap\n",
    "cb = fig.colorbar(plt.cm.ScalarMappable(cmap=custom_cmap), cax=ax, orientation='horizontal')\n",
    "cb.set_label('Custom Terrain Colormap')\n",
    "plt.show()"
   ]
  },
  {
   "cell_type": "code",
   "execution_count": 29,
   "id": "ae81ff6d-d3c1-4dca-8c5c-282ae9df0b6b",
   "metadata": {},
   "outputs": [
    {
     "data": {
      "text/html": [
       "\n",
       "            <style>\n",
       "                .geemap-dark {\n",
       "                    --jp-widgets-color: white;\n",
       "                    --jp-widgets-label-color: white;\n",
       "                    --jp-ui-font-color1: white;\n",
       "                    --jp-layout-color2: #454545;\n",
       "                    background-color: #383838;\n",
       "                }\n",
       "\n",
       "                .geemap-dark .jupyter-button {\n",
       "                    --jp-layout-color3: #383838;\n",
       "                }\n",
       "\n",
       "                .geemap-colab {\n",
       "                    background-color: var(--colab-primary-surface-color, white);\n",
       "                }\n",
       "\n",
       "                .geemap-colab .jupyter-button {\n",
       "                    --jp-layout-color3: var(--colab-primary-surface-color, white);\n",
       "                }\n",
       "            </style>\n",
       "            "
      ],
      "text/plain": [
       "<IPython.core.display.HTML object>"
      ]
     },
     "metadata": {},
     "output_type": "display_data"
    }
   ],
   "source": [
    "# Generate the custom palette\n",
    "n_colors = 500\n",
    "custom_palette = [mcolors.rgb2hex(custom_cmap(i / n_colors)) for i in range(n_colors)]\n",
    "\n",
    "def get_palette_index(elevation, max_elevation, n_colors):\n",
    "    index = int(elevation / max_elevation * (n_colors - 1))\n",
    "    return min(index, n_colors - 1)"
   ]
  },
  {
   "cell_type": "code",
   "execution_count": 30,
   "id": "dfbd9b72-4667-4bb9-a889-482a565dbcba",
   "metadata": {},
   "outputs": [
    {
     "data": {
      "text/html": [
       "\n",
       "            <style>\n",
       "                .geemap-dark {\n",
       "                    --jp-widgets-color: white;\n",
       "                    --jp-widgets-label-color: white;\n",
       "                    --jp-ui-font-color1: white;\n",
       "                    --jp-layout-color2: #454545;\n",
       "                    background-color: #383838;\n",
       "                }\n",
       "\n",
       "                .geemap-dark .jupyter-button {\n",
       "                    --jp-layout-color3: #383838;\n",
       "                }\n",
       "\n",
       "                .geemap-colab {\n",
       "                    background-color: var(--colab-primary-surface-color, white);\n",
       "                }\n",
       "\n",
       "                .geemap-colab .jupyter-button {\n",
       "                    --jp-layout-color3: var(--colab-primary-surface-color, white);\n",
       "                }\n",
       "            </style>\n",
       "            "
      ],
      "text/plain": [
       "<IPython.core.display.HTML object>"
      ]
     },
     "metadata": {},
     "output_type": "display_data"
    }
   ],
   "source": [
    "# Define the legend dictionary for tree canopy cover.\n",
    "tree_canopy_legend_dict = {\n",
    "    '0-10%': '#ffffff',\n",
    "    '10-20%': '#d9f0d3',\n",
    "    '20-30%': '#addd8e',\n",
    "    '30-40%': '#78c679',\n",
    "    '40-50%': '#41ab5d',\n",
    "    '50-60%': '#238443',\n",
    "    '60-70%': '#006837',\n",
    "    '70-80%': '#004529',\n",
    "    '80-90%': '#003300',\n",
    "    '90-100%': '#002200'\n",
    "}\n",
    "\n",
    "tree_canopy_vis_params = {\n",
    "    'min': 0,\n",
    "    'max': 100,\n",
    "    'palette': ['ffffff', '006400']\n",
    "}\n",
    "\n",
    "terrain_vis_params = {\n",
    "    'min': 0,\n",
    "    'max': 15000,\n",
    "    'palette': custom_palette\n",
    "}\n",
    "\n",
    "# Define a simplified legend dictionary for display purposes.\n",
    "terrain_legend_dict = {\n",
    "    '0-1000 ft': custom_palette[int(1000 / 15000 * (n_colors - 1))],\n",
    "    '1000-2000 ft': custom_palette[int(2000 / 15000 * (n_colors - 1))],\n",
    "    '2000-3000 ft': custom_palette[int(3000 / 15000 * (n_colors - 1))],\n",
    "    '3000-4000 ft': custom_palette[int(4000 / 15000 * (n_colors - 1))],\n",
    "    '4000-5000 ft': custom_palette[int(5000 / 15000 * (n_colors - 1))],\n",
    "    '5000-6000 ft': custom_palette[int(6000 / 15000 * (n_colors - 1))],\n",
    "    '6000-7000 ft': custom_palette[int(7000 / 15000 * (n_colors - 1))],\n",
    "    '7000-8000 ft': custom_palette[int(8000 / 15000 * (n_colors - 1))],\n",
    "    '8000-9000 ft': custom_palette[int(9000 / 15000 * (n_colors - 1))],\n",
    "    '9000-10000 ft': custom_palette[int(10000 / 15000 * (n_colors - 1))],\n",
    "    '10000-11000 ft': custom_palette[int(11000 / 15000 * (n_colors - 1))],\n",
    "    '11000-12000 ft': custom_palette[int(12000 / 15000 * (n_colors - 1))],\n",
    "    '12000-13000 ft': custom_palette[int(13000 / 15000 * (n_colors - 1))],\n",
    "    '13000-14000 ft': custom_palette[int(14000 / 15000 * (n_colors - 1))],\n",
    "    '14000-15000 ft': custom_palette[-1]\n",
    "}\n",
    "\n",
    "\n",
    "\n",
    "temp_vis_params = {'min': 30, 'max': 120,     \n",
    "              'palette': ['000004', '1b0c41', '4a0c6b', '781c6d', 'a52c60', \n",
    "                          'cf4446', 'ed6925', 'fb9b06', 'f7d13d', 'fcffa4']\n",
    "             }\n",
    "\n",
    "# Define the legend dictionary\n",
    "temp_legend_dict = {\n",
    "    '30-40°F': '#000004',\n",
    "    '40-50°F': '#1b0c41',\n",
    "    '50-60°F': '#4a0c6b',\n",
    "    '60-70°F': '#781c6d',\n",
    "    '70-80°F': '#a52c60',\n",
    "    '80-90°F': '#cf4446',\n",
    "    '90-100°F': '#ed6925',\n",
    "    '100-110°F': '#fb9b06',\n",
    "    '110-120°F': '#f7d13d',\n",
    "    '120+°F': '#fcffa4'\n",
    "}\n",
    "\n",
    "impervious_vis_params = {\n",
    "    'min': 0,\n",
    "    'max': 100,\n",
    "    'palette': ['#ffffff', '#e0e0e0', '#c0c0c0', '#808080', '#404040', '#000000']  # Very light greys to black\n",
    "}\n",
    "\n",
    "# Define the legend dictionary with breaks every 20%.\n",
    "impervious_legend_dict = {\n",
    "    '0-20%': '#ffffff',\n",
    "    '21-40%': '#e0e0e0',\n",
    "    '41-60%': '#c0c0c0',\n",
    "    '61-80%': '#808080',\n",
    "    '81-100%': '#000000'\n",
    "}"
   ]
  },
  {
   "cell_type": "code",
   "execution_count": 31,
   "id": "652f9d80-c20f-4660-a6be-d7ffc946018d",
   "metadata": {},
   "outputs": [
    {
     "data": {
      "text/html": [
       "\n",
       "            <style>\n",
       "                .geemap-dark {\n",
       "                    --jp-widgets-color: white;\n",
       "                    --jp-widgets-label-color: white;\n",
       "                    --jp-ui-font-color1: white;\n",
       "                    --jp-layout-color2: #454545;\n",
       "                    background-color: #383838;\n",
       "                }\n",
       "\n",
       "                .geemap-dark .jupyter-button {\n",
       "                    --jp-layout-color3: #383838;\n",
       "                }\n",
       "\n",
       "                .geemap-colab {\n",
       "                    background-color: var(--colab-primary-surface-color, white);\n",
       "                }\n",
       "\n",
       "                .geemap-colab .jupyter-button {\n",
       "                    --jp-layout-color3: var(--colab-primary-surface-color, white);\n",
       "                }\n",
       "            </style>\n",
       "            "
      ],
      "text/plain": [
       "<IPython.core.display.HTML object>"
      ]
     },
     "metadata": {},
     "output_type": "display_data"
    },
    {
     "data": {
      "application/vnd.jupyter.widget-view+json": {
       "model_id": "a674f88dc93d45c494a748a543147718",
       "version_major": 2,
       "version_minor": 0
      },
      "text/plain": [
       "Map(center=[47, -110], controls=(WidgetControl(options=['position', 'transparent_bg'], widget=SearchDataGUI(ch…"
      ]
     },
     "execution_count": 31,
     "metadata": {},
     "output_type": "execute_result"
    }
   ],
   "source": [
    "m = geemap.Map()\n",
    "m.set_center(-110, 47, 6)\n",
    "\n",
    "# Add the Fahrenheit layer for good_composite.\n",
    "m.add_layer(\n",
    "    good_composite_median_f,\n",
    "    {'bands': ['ST_Fahrenheit'], **temp_vis_params},\n",
    "    'Avg Summer Temp, 2018-2022',\n",
    ")\n",
    "\n",
    "m.add_layer(\n",
    "    nlcd_tree_canopy,\n",
    "    tree_canopy_vis_params,\n",
    "    'Tree Canopy Cover'\n",
    ")\n",
    "\n",
    "m.add_layer(\n",
    "    impervious,\n",
    "    impervious_vis_params,\n",
    "    'Impervious Surface'\n",
    ")\n",
    "\n",
    "m.add_layer(\n",
    "    terrain_ft,\n",
    "    terrain_vis_params,\n",
    "    'Terrain (feet)'\n",
    ")\n",
    "\n",
    "# Add the Montana boundary to the map with styling.\n",
    "m.add_layer(\n",
    "    aoi.style(color='black', fillColor='00000000'),  # '00000000' represents no fill color\n",
    "    {},\n",
    "    'Montana',\n",
    ")\n",
    "\n",
    "# add Census Tracts\n",
    "m.add_layer(\n",
    "    tracts.style(color='black', fillColor='00000000'),  # '00000000' represents no fill color\n",
    "    {},\n",
    "    'Tracts',\n",
    ")\n",
    "\n",
    "m.setControlVisibility(layerControl=True, fullscreenControl=True, latLngPopup=True)\n",
    "m.add_legend(title=\"Tree Canopy Cover (%)\", legend_dict=tree_canopy_legend_dict)\n",
    "m.add_legend(title=\"Elevation (feet)\", legend_dict=terrain_legend_dict)\n",
    "m.add_legend(title=\"Temperature (°F)\", legend_dict=temp_legend_dict)\n",
    "m.add_legend(title=\"Impervious Surface (%)\", legend_dict=impervious_legend_dict)\n",
    "\n",
    "m"
   ]
  },
  {
   "cell_type": "code",
   "execution_count": null,
   "id": "db3c38e6-e009-4d02-8efa-d3959d2cf6bd",
   "metadata": {},
   "outputs": [],
   "source": []
  },
  {
   "cell_type": "code",
   "execution_count": null,
   "id": "9b8b4a55-5c5d-4f07-84f5-83089fde6255",
   "metadata": {},
   "outputs": [],
   "source": []
  },
  {
   "cell_type": "code",
   "execution_count": 40,
   "id": "aef7bfe4-df70-4394-936f-209fa13a4b49",
   "metadata": {},
   "outputs": [
    {
     "data": {
      "text/html": [
       "\n",
       "            <style>\n",
       "                .geemap-dark {\n",
       "                    --jp-widgets-color: white;\n",
       "                    --jp-widgets-label-color: white;\n",
       "                    --jp-ui-font-color1: white;\n",
       "                    --jp-layout-color2: #454545;\n",
       "                    background-color: #383838;\n",
       "                }\n",
       "\n",
       "                .geemap-dark .jupyter-button {\n",
       "                    --jp-layout-color3: #383838;\n",
       "                }\n",
       "\n",
       "                .geemap-colab {\n",
       "                    background-color: var(--colab-primary-surface-color, white);\n",
       "                }\n",
       "\n",
       "                .geemap-colab .jupyter-button {\n",
       "                    --jp-layout-color3: var(--colab-primary-surface-color, white);\n",
       "                }\n",
       "            </style>\n",
       "            "
      ],
      "text/plain": [
       "<IPython.core.display.HTML object>"
      ]
     },
     "metadata": {},
     "output_type": "display_data"
    },
    {
     "name": "stdout",
     "output_type": "stream",
     "text": [
      "Generating URL ...\n",
      "Downloading data from https://earthengine.googleapis.com/v1/projects/earthengine-legacy/thumbnails/0d9081860e703b1f3d5049d107b740a3-6cf3e0f8b6a922dc29598dac10072c44:getPixels\n",
      "Please wait ...\n",
      "Data downloaded to /Users/natebender/Desktop/repo/mslacounty_hvi/outputs/impervious_export.tif\n"
     ]
    }
   ],
   "source": [
    "# Define the file path for the export\n",
    "impervious_path = os.path.join(output_dir, 'impervious_export.tif')\n",
    "canopy_path = os.path.join(output_dir, 'canopy_export.tif')\n",
    "temp_path = os.path.join(output_dir, 'temp_export.tif')\n",
    "\n",
    "geemap.ee_export_image(impervious, filename=impervious_path, scale=200)"
   ]
  },
  {
   "cell_type": "code",
   "execution_count": 41,
   "id": "c7cda49f-b6f7-4b49-b436-2b9a2ca2ee02",
   "metadata": {},
   "outputs": [
    {
     "data": {
      "text/html": [
       "\n",
       "            <style>\n",
       "                .geemap-dark {\n",
       "                    --jp-widgets-color: white;\n",
       "                    --jp-widgets-label-color: white;\n",
       "                    --jp-ui-font-color1: white;\n",
       "                    --jp-layout-color2: #454545;\n",
       "                    background-color: #383838;\n",
       "                }\n",
       "\n",
       "                .geemap-dark .jupyter-button {\n",
       "                    --jp-layout-color3: #383838;\n",
       "                }\n",
       "\n",
       "                .geemap-colab {\n",
       "                    background-color: var(--colab-primary-surface-color, white);\n",
       "                }\n",
       "\n",
       "                .geemap-colab .jupyter-button {\n",
       "                    --jp-layout-color3: var(--colab-primary-surface-color, white);\n",
       "                }\n",
       "            </style>\n",
       "            "
      ],
      "text/plain": [
       "<IPython.core.display.HTML object>"
      ]
     },
     "metadata": {},
     "output_type": "display_data"
    },
    {
     "name": "stdout",
     "output_type": "stream",
     "text": [
      "Generating URL ...\n",
      "Downloading data from https://earthengine.googleapis.com/v1/projects/earthengine-legacy/thumbnails/ded1876f2bc03701d95c958f8752aaad-0f2fed09e8a3252c6b2b651af518ac9b:getPixels\n",
      "Please wait ...\n",
      "Data downloaded to /Users/natebender/Desktop/repo/mslacounty_hvi/outputs/canopy_export.tif\n"
     ]
    }
   ],
   "source": [
    "geemap.ee_export_image(nlcd_tree_canopy, filename=canopy_path, scale=200)"
   ]
  },
  {
   "cell_type": "code",
   "execution_count": 48,
   "id": "9a1b434c-f751-4e28-9406-9005ae77f275",
   "metadata": {},
   "outputs": [
    {
     "data": {
      "text/html": [
       "\n",
       "            <style>\n",
       "                .geemap-dark {\n",
       "                    --jp-widgets-color: white;\n",
       "                    --jp-widgets-label-color: white;\n",
       "                    --jp-ui-font-color1: white;\n",
       "                    --jp-layout-color2: #454545;\n",
       "                    background-color: #383838;\n",
       "                }\n",
       "\n",
       "                .geemap-dark .jupyter-button {\n",
       "                    --jp-layout-color3: #383838;\n",
       "                }\n",
       "\n",
       "                .geemap-colab {\n",
       "                    background-color: var(--colab-primary-surface-color, white);\n",
       "                }\n",
       "\n",
       "                .geemap-colab .jupyter-button {\n",
       "                    --jp-layout-color3: var(--colab-primary-surface-color, white);\n",
       "                }\n",
       "            </style>\n",
       "            "
      ],
      "text/plain": [
       "<IPython.core.display.HTML object>"
      ]
     },
     "metadata": {},
     "output_type": "display_data"
    },
    {
     "name": "stdout",
     "output_type": "stream",
     "text": [
      "<class 'ee.image.Image'>\n",
      "<class 'ee.image.Image'>\n",
      "<class 'ee.image.Image'>\n"
     ]
    }
   ],
   "source": [
    "print(type(nlcd_tree_canopy))\n",
    "print(type(impervious))\n",
    "print(type(good_composite_median_f))"
   ]
  },
  {
   "cell_type": "code",
   "execution_count": 35,
   "id": "1cb68131-4d89-41e2-b224-96f29f538771",
   "metadata": {},
   "outputs": [
    {
     "data": {
      "text/html": [
       "\n",
       "            <style>\n",
       "                .geemap-dark {\n",
       "                    --jp-widgets-color: white;\n",
       "                    --jp-widgets-label-color: white;\n",
       "                    --jp-ui-font-color1: white;\n",
       "                    --jp-layout-color2: #454545;\n",
       "                    background-color: #383838;\n",
       "                }\n",
       "\n",
       "                .geemap-dark .jupyter-button {\n",
       "                    --jp-layout-color3: #383838;\n",
       "                }\n",
       "\n",
       "                .geemap-colab {\n",
       "                    background-color: var(--colab-primary-surface-color, white);\n",
       "                }\n",
       "\n",
       "                .geemap-colab .jupyter-button {\n",
       "                    --jp-layout-color3: var(--colab-primary-surface-color, white);\n",
       "                }\n",
       "            </style>\n",
       "            "
      ],
      "text/plain": [
       "<IPython.core.display.HTML object>"
      ]
     },
     "metadata": {},
     "output_type": "display_data"
    }
   ],
   "source": [
    "#print(impervious.getInfo())\n"
   ]
  },
  {
   "cell_type": "code",
   "execution_count": null,
   "id": "37c472a0-ad6c-4717-a2cd-dcbd5085b573",
   "metadata": {},
   "outputs": [],
   "source": [
    "print(nlcd_tree_canopy.getInfo())\n"
   ]
  },
  {
   "cell_type": "code",
   "execution_count": 54,
   "id": "69e3d01b-35e4-4a28-a929-2ca7261d8ea5",
   "metadata": {},
   "outputs": [
    {
     "data": {
      "text/html": [
       "\n",
       "            <style>\n",
       "                .geemap-dark {\n",
       "                    --jp-widgets-color: white;\n",
       "                    --jp-widgets-label-color: white;\n",
       "                    --jp-ui-font-color1: white;\n",
       "                    --jp-layout-color2: #454545;\n",
       "                    background-color: #383838;\n",
       "                }\n",
       "\n",
       "                .geemap-dark .jupyter-button {\n",
       "                    --jp-layout-color3: #383838;\n",
       "                }\n",
       "\n",
       "                .geemap-colab {\n",
       "                    background-color: var(--colab-primary-surface-color, white);\n",
       "                }\n",
       "\n",
       "                .geemap-colab .jupyter-button {\n",
       "                    --jp-layout-color3: var(--colab-primary-surface-color, white);\n",
       "                }\n",
       "            </style>\n",
       "            "
      ],
      "text/plain": [
       "<IPython.core.display.HTML object>"
      ]
     },
     "metadata": {},
     "output_type": "display_data"
    },
    {
     "name": "stdout",
     "output_type": "stream",
     "text": [
      "{'type': 'Polygon', 'coordinates': [[[-180, -90], [180, -90], [180, 90], [-180, 90], [-180, -90]]]}\n"
     ]
    }
   ],
   "source": [
    "bounds = good_composite_median_f.geometry().bounds()\n",
    "print(bounds.getInfo())"
   ]
  },
  {
   "cell_type": "code",
   "execution_count": 53,
   "id": "da5b453b-3b11-4583-8585-5d92c84abc97",
   "metadata": {},
   "outputs": [
    {
     "data": {
      "text/html": [
       "\n",
       "            <style>\n",
       "                .geemap-dark {\n",
       "                    --jp-widgets-color: white;\n",
       "                    --jp-widgets-label-color: white;\n",
       "                    --jp-ui-font-color1: white;\n",
       "                    --jp-layout-color2: #454545;\n",
       "                    background-color: #383838;\n",
       "                }\n",
       "\n",
       "                .geemap-dark .jupyter-button {\n",
       "                    --jp-layout-color3: #383838;\n",
       "                }\n",
       "\n",
       "                .geemap-colab {\n",
       "                    background-color: var(--colab-primary-surface-color, white);\n",
       "                }\n",
       "\n",
       "                .geemap-colab .jupyter-button {\n",
       "                    --jp-layout-color3: var(--colab-primary-surface-color, white);\n",
       "                }\n",
       "            </style>\n",
       "            "
      ],
      "text/plain": [
       "<IPython.core.display.HTML object>"
      ]
     },
     "metadata": {},
     "output_type": "display_data"
    },
    {
     "name": "stdout",
     "output_type": "stream",
     "text": [
      "{'type': 'Image', 'bands': [{'id': 'SR_B1', 'data_type': {'type': 'PixelType', 'precision': 'double', 'min': -0.2, 'max': 1.6022125}, 'crs': 'EPSG:4326', 'crs_transform': [1, 0, 0, 0, 1, 0]}, {'id': 'SR_B2', 'data_type': {'type': 'PixelType', 'precision': 'double', 'min': -0.2, 'max': 1.6022125}, 'crs': 'EPSG:4326', 'crs_transform': [1, 0, 0, 0, 1, 0]}, {'id': 'SR_B3', 'data_type': {'type': 'PixelType', 'precision': 'double', 'min': -0.2, 'max': 1.6022125}, 'crs': 'EPSG:4326', 'crs_transform': [1, 0, 0, 0, 1, 0]}, {'id': 'SR_B4', 'data_type': {'type': 'PixelType', 'precision': 'double', 'min': -0.2, 'max': 1.6022125}, 'crs': 'EPSG:4326', 'crs_transform': [1, 0, 0, 0, 1, 0]}, {'id': 'SR_B5', 'data_type': {'type': 'PixelType', 'precision': 'double', 'min': -0.2, 'max': 1.6022125}, 'crs': 'EPSG:4326', 'crs_transform': [1, 0, 0, 0, 1, 0]}, {'id': 'SR_B6', 'data_type': {'type': 'PixelType', 'precision': 'double', 'min': -0.2, 'max': 1.6022125}, 'crs': 'EPSG:4326', 'crs_transform': [1, 0, 0, 0, 1, 0]}, {'id': 'SR_B7', 'data_type': {'type': 'PixelType', 'precision': 'double', 'min': -0.2, 'max': 1.6022125}, 'crs': 'EPSG:4326', 'crs_transform': [1, 0, 0, 0, 1, 0]}, {'id': 'SR_QA_AEROSOL', 'data_type': {'type': 'PixelType', 'precision': 'double', 'min': 0, 'max': 255}, 'crs': 'EPSG:4326', 'crs_transform': [1, 0, 0, 0, 1, 0]}, {'id': 'ST_B10', 'data_type': {'type': 'PixelType', 'precision': 'double', 'min': 149, 'max': 372.9999407}, 'crs': 'EPSG:4326', 'crs_transform': [1, 0, 0, 0, 1, 0]}, {'id': 'ST_ATRAN', 'data_type': {'type': 'PixelType', 'precision': 'double', 'min': -32768, 'max': 32767}, 'crs': 'EPSG:4326', 'crs_transform': [1, 0, 0, 0, 1, 0]}, {'id': 'ST_CDIST', 'data_type': {'type': 'PixelType', 'precision': 'double', 'min': -32768, 'max': 32767}, 'crs': 'EPSG:4326', 'crs_transform': [1, 0, 0, 0, 1, 0]}, {'id': 'ST_DRAD', 'data_type': {'type': 'PixelType', 'precision': 'double', 'min': -32768, 'max': 32767}, 'crs': 'EPSG:4326', 'crs_transform': [1, 0, 0, 0, 1, 0]}, {'id': 'ST_EMIS', 'data_type': {'type': 'PixelType', 'precision': 'double', 'min': -32768, 'max': 32767}, 'crs': 'EPSG:4326', 'crs_transform': [1, 0, 0, 0, 1, 0]}, {'id': 'ST_EMSD', 'data_type': {'type': 'PixelType', 'precision': 'double', 'min': -32768, 'max': 32767}, 'crs': 'EPSG:4326', 'crs_transform': [1, 0, 0, 0, 1, 0]}, {'id': 'ST_QA', 'data_type': {'type': 'PixelType', 'precision': 'double', 'min': -32768, 'max': 32767}, 'crs': 'EPSG:4326', 'crs_transform': [1, 0, 0, 0, 1, 0]}, {'id': 'ST_TRAD', 'data_type': {'type': 'PixelType', 'precision': 'double', 'min': -32768, 'max': 32767}, 'crs': 'EPSG:4326', 'crs_transform': [1, 0, 0, 0, 1, 0]}, {'id': 'ST_URAD', 'data_type': {'type': 'PixelType', 'precision': 'double', 'min': -32768, 'max': 32767}, 'crs': 'EPSG:4326', 'crs_transform': [1, 0, 0, 0, 1, 0]}, {'id': 'QA_PIXEL', 'data_type': {'type': 'PixelType', 'precision': 'double', 'min': 0, 'max': 65535}, 'crs': 'EPSG:4326', 'crs_transform': [1, 0, 0, 0, 1, 0]}, {'id': 'QA_RADSAT', 'data_type': {'type': 'PixelType', 'precision': 'double', 'min': 0, 'max': 65535}, 'crs': 'EPSG:4326', 'crs_transform': [1, 0, 0, 0, 1, 0]}, {'id': 'ST_Fahrenheit', 'data_type': {'type': 'PixelType', 'precision': 'double', 'min': -191.46999999999997, 'max': 211.7298932600001}, 'crs': 'EPSG:4326', 'crs_transform': [1, 0, 0, 0, 1, 0]}]}\n"
     ]
    }
   ],
   "source": [
    "print(good_composite_median_f.getInfo())"
   ]
  },
  {
   "cell_type": "code",
   "execution_count": 50,
   "id": "c40a8d7c-5c55-44db-9579-b70c329b1ee1",
   "metadata": {},
   "outputs": [
    {
     "data": {
      "text/html": [
       "\n",
       "            <style>\n",
       "                .geemap-dark {\n",
       "                    --jp-widgets-color: white;\n",
       "                    --jp-widgets-label-color: white;\n",
       "                    --jp-ui-font-color1: white;\n",
       "                    --jp-layout-color2: #454545;\n",
       "                    background-color: #383838;\n",
       "                }\n",
       "\n",
       "                .geemap-dark .jupyter-button {\n",
       "                    --jp-layout-color3: #383838;\n",
       "                }\n",
       "\n",
       "                .geemap-colab {\n",
       "                    background-color: var(--colab-primary-surface-color, white);\n",
       "                }\n",
       "\n",
       "                .geemap-colab .jupyter-button {\n",
       "                    --jp-layout-color3: var(--colab-primary-surface-color, white);\n",
       "                }\n",
       "            </style>\n",
       "            "
      ],
      "text/plain": [
       "<IPython.core.display.HTML object>"
      ]
     },
     "metadata": {},
     "output_type": "display_data"
    },
    {
     "name": "stdout",
     "output_type": "stream",
     "text": [
      "Generating URL ...\n",
      "An error occurred while downloading.\n",
      "Image.clipToBoundsAndScale: The geometry for image clipping must be bounded.\n"
     ]
    }
   ],
   "source": [
    "geemap.ee_export_image(good_composite_median_f, filename=temp_path, scale=200)"
   ]
  },
  {
   "cell_type": "code",
   "execution_count": null,
   "id": "fad0aae8-fcd2-44f9-a446-04f0ee5256f4",
   "metadata": {},
   "outputs": [],
   "source": []
  }
 ],
 "metadata": {
  "kernelspec": {
   "display_name": "Python (hvi_env)",
   "language": "python",
   "name": "hvi_env"
  },
  "language_info": {
   "codemirror_mode": {
    "name": "ipython",
    "version": 3
   },
   "file_extension": ".py",
   "mimetype": "text/x-python",
   "name": "python",
   "nbconvert_exporter": "python",
   "pygments_lexer": "ipython3",
   "version": "3.9.7"
  }
 },
 "nbformat": 4,
 "nbformat_minor": 5
}
