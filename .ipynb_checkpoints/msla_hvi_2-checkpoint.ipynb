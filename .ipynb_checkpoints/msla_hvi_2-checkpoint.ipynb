{
 "cells": [
  {
   "cell_type": "code",
   "execution_count": null,
   "id": "5f96ab26",
   "metadata": {},
   "outputs": [],
   "source": [
    "# from ipyleaflet import Map, Marker\n",
    "\n",
    "# # Create a map centered at a specific location (latitude, longitude)\n",
    "# center = (45.5236, -122.6750)  # Coordinates for Portland, Oregon\n",
    "# mymap = Map(center=center, zoom=10)\n",
    "\n",
    "# # Create a marker and add it to the map\n",
    "# marker = Marker(location=center, draggable=False)\n",
    "# mymap.add_layer(marker)\n",
    "\n",
    "# # Display the map\n",
    "# mymap"
   ]
  },
  {
   "cell_type": "code",
   "execution_count": 1,
   "id": "065c1f65",
   "metadata": {},
   "outputs": [],
   "source": [
    "import geemap\n",
    "import ee\n",
    "import os"
   ]
  },
  {
   "cell_type": "code",
   "execution_count": 2,
   "id": "5b35b4d6",
   "metadata": {},
   "outputs": [
    {
     "data": {
      "text/html": [
       "\n",
       "            <style>\n",
       "                .geemap-dark {\n",
       "                    --jp-widgets-color: white;\n",
       "                    --jp-widgets-label-color: white;\n",
       "                    --jp-ui-font-color1: white;\n",
       "                    --jp-layout-color2: #454545;\n",
       "                    background-color: #383838;\n",
       "                }\n",
       "\n",
       "                .geemap-dark .jupyter-button {\n",
       "                    --jp-layout-color3: #383838;\n",
       "                }\n",
       "\n",
       "                .geemap-colab {\n",
       "                    background-color: var(--colab-primary-surface-color, white);\n",
       "                }\n",
       "\n",
       "                .geemap-colab .jupyter-button {\n",
       "                    --jp-layout-color3: var(--colab-primary-surface-color, white);\n",
       "                }\n",
       "            </style>\n",
       "            "
      ],
      "text/plain": [
       "<IPython.core.display.HTML object>"
      ]
     },
     "metadata": {},
     "output_type": "display_data"
    }
   ],
   "source": [
    "email = \"mt-hvi-zonalstats-service-acco@mt-hvi-zonalstats.iam.gserviceaccount.com\"\n",
    "key_file = \"/Users/natebender/Desktop/repo/mt-hvi-zonalstats-6da42ca28c80.json\"\n",
    "\n",
    "# Authenticate and initialize\n",
    "credentials = ee.ServiceAccountCredentials(email=email, key_file=key_file)\n",
    "ee.Initialize(credentials)"
   ]
  },
  {
   "cell_type": "code",
   "execution_count": null,
   "id": "eb6bb654",
   "metadata": {},
   "outputs": [],
   "source": []
  },
  {
   "cell_type": "code",
   "execution_count": null,
   "id": "fa1e5c4c",
   "metadata": {},
   "outputs": [],
   "source": [
    "\n",
    "\n",
    "# Define the area of interest (Montana)\n",
    "aoi = ee.FeatureCollection(\"TIGER/2020/TRACT\").filter(ee.Filter.eq(\"STATEFP\", \"30\")).geometry()\n"
   ]
  },
  {
   "cell_type": "code",
   "execution_count": null,
   "id": "4a5ca25c",
   "metadata": {},
   "outputs": [],
   "source": [
    "# Function to apply scaling factors\n",
    "def apply_scale_factors(image):\n",
    "    thermal_bands = image.select('ST_B10').multiply(0.00341802).add(149.0)\n",
    "    return image.addBands(thermal_bands.rename('ST_B10_scaled'), overwrite=True)\n",
    "\n",
    "# Function to mask clouds\n",
    "def cloud_mask(image):\n",
    "    cloud_shadow_bitmask = (1 << 3)\n",
    "    cloud_bitmask = (1 << 5)\n",
    "    qa = image.select('QA_PIXEL')\n",
    "    mask = qa.bitwiseAnd(cloud_shadow_bitmask).eq(0).And(qa.bitwiseAnd(cloud_bitmask).eq(0))\n",
    "    return image.updateMask(mask)"
   ]
  },
  {
   "cell_type": "code",
   "execution_count": null,
   "id": "97aef0cb",
   "metadata": {},
   "outputs": [],
   "source": [
    "# Get summer temperatures\n",
    "collection = ee.ImageCollection('LANDSAT/LC08/C02/T1_L2') \\\n",
    "    .filterBounds(aoi) \\\n",
    "    .filterDate('2021-06-01', '2021-08-31') \\\n",
    "    .filter(ee.Filter.lte('CLOUD_COVER', 10)) \\\n",
    "    .map(apply_scale_factors) \\\n",
    "    .map(cloud_mask)\n",
    "\n",
    "# Median image of the collection\n",
    "median_image = collection.median().clip(aoi)"
   ]
  },
  {
   "cell_type": "code",
   "execution_count": null,
   "id": "aa6ed34a",
   "metadata": {},
   "outputs": [],
   "source": [
    "fahrenheit_image = median_image.select('ST_B10_scaled').subtract(273.15).multiply(9/5).add(32)"
   ]
  },
  {
   "cell_type": "code",
   "execution_count": null,
   "id": "70d349fd",
   "metadata": {},
   "outputs": [],
   "source": [
    "# Create a geemap map\n",
    "Map = geemap.Map(center=(47, -110), zoom=6)\n",
    "\n",
    "# Define visualization parameters\n",
    "vis_params = {\n",
    "    'min': 50,    # Set minimum temperature value for visualization\n",
    "    'max': 100,   # Set maximum temperature value for visualization\n",
    "    'palette': ['blue', 'cyan', 'green', 'yellow', 'red']\n",
    "}\n",
    "\n"
   ]
  },
  {
   "cell_type": "code",
   "execution_count": null,
   "id": "30d0e338",
   "metadata": {},
   "outputs": [],
   "source": [
    "# Add the image layer to the map with a short description\n",
    "Map.addLayer(median_image, vis_params, \"LST2021\")\n",
    "\n",
    "# Display the map\n",
    "Map"
   ]
  },
  {
   "cell_type": "code",
   "execution_count": null,
   "id": "92828327",
   "metadata": {},
   "outputs": [],
   "source": []
  },
  {
   "cell_type": "code",
   "execution_count": null,
   "id": "84a7c84f",
   "metadata": {},
   "outputs": [],
   "source": [
    "countries = ee.FeatureCollection('USDOS/LSIB_SIMPLE/2017');\n",
    "zambia = countries.filter(ee.Filter.eq(\"country_na\",\"Zambia\"));\n",
    "\n",
    "usa = countries.filter(ee.Filter.eq(\"country_na\",\"United States\"));\n",
    "\n",
    "#aoi = ee.FeatureCollection(\"TIGER/2020/TRACT\").filter(ee.Filter.eq(\"STATEFP\", \"30\"));\n",
    "aoi = ee.FeatureCollection(\"TIGER/2018/States\").filter(ee.Filter.eq(\"STUSPS\", \"MT\"))\n"
   ]
  },
  {
   "cell_type": "code",
   "execution_count": null,
   "id": "4f407732",
   "metadata": {},
   "outputs": [],
   "source": [
    "#dataset = ee.ImageCollection('LANDSAT/LC08/CO1/T1_TOA').filterDate('2017-01-01', '2017-12-31').filterBounds(Zambia)\n",
    "dataset = ee.ImageCollection('LANDSAT/LC08/C02/T1_L2').filterDate('2017-01-01', '2017-01-15').filterBounds(aoi)"
   ]
  },
  {
   "cell_type": "code",
   "execution_count": null,
   "id": "3f315ffc",
   "metadata": {},
   "outputs": [],
   "source": [
    "truecolor432 = dataset.select(['ST_B10'])\n",
    "truecolorvis = {\n",
    "    'min': 0.0,\n",
    "    'max': 0.4,\n",
    "    }"
   ]
  },
  {
   "cell_type": "code",
   "execution_count": null,
   "id": "9fbb2da4",
   "metadata": {},
   "outputs": [],
   "source": []
  },
  {
   "cell_type": "code",
   "execution_count": null,
   "id": "abf8cdb8",
   "metadata": {},
   "outputs": [],
   "source": [
    "Map = geemap.Map(center=(40, -100), zoom=4, lite_mode=True)\n",
    "Map.addLayer(ee.Image().paint(usa, 0, 2), {}, 'Zambia')\n",
    "Map.addLayer(truecolor432.median(), truecolorvis, \"test\")\n",
    "\n",
    "Map.setControlVisibility(layerControl=True, fullscreenControl=True, latLngPopup=True)\n",
    "Map"
   ]
  },
  {
   "cell_type": "code",
   "execution_count": null,
   "id": "1ff0a1b8",
   "metadata": {},
   "outputs": [],
   "source": []
  },
  {
   "cell_type": "code",
   "execution_count": 3,
   "id": "fcaeeb0a",
   "metadata": {},
   "outputs": [
    {
     "data": {
      "text/html": [
       "\n",
       "            <style>\n",
       "                .geemap-dark {\n",
       "                    --jp-widgets-color: white;\n",
       "                    --jp-widgets-label-color: white;\n",
       "                    --jp-ui-font-color1: white;\n",
       "                    --jp-layout-color2: #454545;\n",
       "                    background-color: #383838;\n",
       "                }\n",
       "\n",
       "                .geemap-dark .jupyter-button {\n",
       "                    --jp-layout-color3: #383838;\n",
       "                }\n",
       "\n",
       "                .geemap-colab {\n",
       "                    background-color: var(--colab-primary-surface-color, white);\n",
       "                }\n",
       "\n",
       "                .geemap-colab .jupyter-button {\n",
       "                    --jp-layout-color3: var(--colab-primary-surface-color, white);\n",
       "                }\n",
       "            </style>\n",
       "            "
      ],
      "text/plain": [
       "<IPython.core.display.HTML object>"
      ]
     },
     "metadata": {},
     "output_type": "display_data"
    }
   ],
   "source": [
    "# Define the area of interest (aoi) as the boundary of Montana.\n",
    "aoi = ee.FeatureCollection(\"TIGER/2018/States\").filter(ee.Filter.eq(\"STUSPS\", \"MT\"))\n",
    "\n",
    "# Function to apply scale factors to the Landsat data\n",
    "def apply_scale_factors(image):\n",
    "    optical_bands = image.select('SR_B.').multiply(0.0000275).add(-0.2)\n",
    "    thermal_band = image.select('ST_B10').multiply(0.00341802).add(149.0)\n",
    "    return image.addBands(optical_bands, None, True).addBands(thermal_band, None, True)\n",
    "\n",
    "# Function to mask clouds based on the pixel_qa band of Landsat SR data.\n",
    "def cloud_mask(image):\n",
    "    qa = image.select('QA_PIXEL')\n",
    "    cloud = qa.bitwiseAnd(1 << 3).neq(0)\n",
    "    return image.updateMask(cloud.Not())\n",
    "\n",
    "# Get the Landsat 8 image collection.\n",
    "collection = ee.ImageCollection('LANDSAT/LC08/C02/T1_L2') \\\n",
    "    .filterBounds(aoi) \\\n",
    "    .filterDate('2021-06-01', '2021-09-15') \\\n",
    "    .filter(ee.Filter.lte('CLOUD_COVER', 10)) \\\n",
    "    .map(apply_scale_factors) \\\n",
    "    .map(cloud_mask)\n",
    "\n",
    "# Select the thermal band and convert from Kelvin to Fahrenheit\n",
    "median = collection.select(['ST_B10']).median().clip(aoi)\n",
    "fahrenheit_image = median.subtract(273.15).multiply(9 / 5).add(32)\n",
    "\n",
    "# Visualization parameters for the temperature layer\n",
    "temp_vis = {\n",
    "    'min': 40,    # Set minimum temperature value for visualization\n",
    "    'max': 110,\n",
    "    'palette': ['000004', '1b0c41', '4a0c6b', '781c6d', 'a52c60', 'cf4446', 'ed6925', 'fb9b06', 'f7d13d', 'fcffa4']\n",
    "}\n"
   ]
  },
  {
   "cell_type": "code",
   "execution_count": 5,
   "id": "cdc31d38",
   "metadata": {},
   "outputs": [
    {
     "data": {
      "text/html": [
       "\n",
       "            <style>\n",
       "                .geemap-dark {\n",
       "                    --jp-widgets-color: white;\n",
       "                    --jp-widgets-label-color: white;\n",
       "                    --jp-ui-font-color1: white;\n",
       "                    --jp-layout-color2: #454545;\n",
       "                    background-color: #383838;\n",
       "                }\n",
       "\n",
       "                .geemap-dark .jupyter-button {\n",
       "                    --jp-layout-color3: #383838;\n",
       "                }\n",
       "\n",
       "                .geemap-colab {\n",
       "                    background-color: var(--colab-primary-surface-color, white);\n",
       "                }\n",
       "\n",
       "                .geemap-colab .jupyter-button {\n",
       "                    --jp-layout-color3: var(--colab-primary-surface-color, white);\n",
       "                }\n",
       "            </style>\n",
       "            "
      ],
      "text/plain": [
       "<IPython.core.display.HTML object>"
      ]
     },
     "metadata": {},
     "output_type": "display_data"
    },
    {
     "data": {
      "application/vnd.jupyter.widget-view+json": {
       "model_id": "b4d278362264400d90818aa6db815762",
       "version_major": 2,
       "version_minor": 0
      },
      "text/plain": [
       "Map(center=[40, -100], controls=(ZoomControl(options=['position', 'zoom_in_text', 'zoom_in_title', 'zoom_out_t…"
      ]
     },
     "execution_count": 5,
     "metadata": {},
     "output_type": "execute_result"
    }
   ],
   "source": [
    "# Create a map\n",
    "Map = geemap.Map(center=(40, -100), zoom=4, lite_mode=True)\n",
    "\n",
    "\n",
    "# Add the temperature layer to the map\n",
    "Map.addLayer(fahrenheit_image, temp_vis, 'Summer Temperatures')\n",
    "Map.addLayer(ee.Image().paint(aoi, 0, 2), {}, 'Montana')\n",
    "\n",
    "# Define the legend dictionary\n",
    "legend_dict = {\n",
    "    '40-50°F': '#000004',\n",
    "    '50-60°F': '#1b0c41',\n",
    "    '60-70°F': '#4a0c6b',\n",
    "    '70-80°F': '#781c6d',\n",
    "    '80-90°F': '#a52c60',\n",
    "    '90-100°F': '#cf4446',\n",
    "    '100-110°F': '#ed6925',\n",
    "    '110+°F': '#fcffa4'\n",
    "}\n",
    "\n",
    "# Add the legend to the map\n",
    "\n",
    "# Display the map with controls\n",
    "Map.setControlVisibility(layerControl=True, fullscreenControl=True, latLngPopup=True)\n",
    "Map.add_legend(title=\"Temperature (°F)\", legend_dict=legend_dict)\n",
    "\n",
    "Map"
   ]
  },
  {
   "cell_type": "code",
   "execution_count": null,
   "id": "db941f9f",
   "metadata": {},
   "outputs": [],
   "source": []
  }
 ],
 "metadata": {
  "kernelspec": {
   "display_name": "Python (hvi_env)",
   "language": "python",
   "name": "hvi_env"
  },
  "language_info": {
   "codemirror_mode": {
    "name": "ipython",
    "version": 3
   },
   "file_extension": ".py",
   "mimetype": "text/x-python",
   "name": "python",
   "nbconvert_exporter": "python",
   "pygments_lexer": "ipython3",
   "version": "3.9.7"
  }
 },
 "nbformat": 4,
 "nbformat_minor": 5
}
