{
 "cells": [
  {
   "cell_type": "code",
   "execution_count": null,
   "id": "065c1f65",
   "metadata": {},
   "outputs": [],
   "source": [
    "import geemap\n",
    "import ee\n",
    "import os\n",
    "import time\n",
    "from shapely.geometry import shape\n",
    "import pandas as pd\n",
    "import geopandas as gpd\n",
    "import numpy as np\n",
    "import folium\n",
    "import matplotlib.pyplot as plt\n",
    "import matplotlib.colors as mcolors\n",
    "from matplotlib.colors import LinearSegmentedColormap"
   ]
  },
  {
   "cell_type": "code",
   "execution_count": null,
   "id": "5b35b4d6",
   "metadata": {},
   "outputs": [],
   "source": [
    "email = \"mt-hvi-zonalstats-service-acco@mt-hvi-zonalstats.iam.gserviceaccount.com\"\n",
    "key_file = \"/Users/natebender/Desktop/repo/mt-hvi-zonalstats-6da42ca28c80.json\"\n",
    "\n",
    "# Authenticate and initialize\n",
    "credentials = ee.ServiceAccountCredentials(email=email, key_file=key_file)\n",
    "ee.Initialize(credentials)"
   ]
  },
  {
   "cell_type": "code",
   "execution_count": null,
   "id": "77524441-9b2b-429e-b360-88a3c2094503",
   "metadata": {},
   "outputs": [],
   "source": [
    "# Define the area of interest (aoi) as the boundary of Montana.\n",
    "aoi = ee.FeatureCollection(\"TIGER/2018/States\").filter(ee.Filter.eq(\"STUSPS\", \"MT\"))\n",
    "tracts = ee.FeatureCollection(\"TIGER/2020/TRACT\").filter(ee.Filter.eq(\"STATEFP\", \"30\"))\n",
    "usa = ee.FeatureCollection(\"TIGER/2018/States\") \\\n",
    "            .filter(ee.Filter.neq('STATEFP', '02'))  # Exclude Alaska (STATEFP '02')\n",
    "\n",
    "# Load SRTM terrain data and clip to the USA boundaries.\n",
    "#terrain = ee.Image('USGS/SRTMGL1_003').clip(usa) # full USA terrain view\n",
    "terrain = ee.Image('USGS/SRTMGL1_003').clip(aoi) # just Montana\n",
    "terrain_ft = terrain.multiply(3.28084).rename('elevation_ft') # convert meters to ft\n"
   ]
  },
  {
   "cell_type": "markdown",
   "id": "5f527ade-9461-461c-93b6-ee76a8376951",
   "metadata": {},
   "source": [
    "## Landsat 8 Surface Temp"
   ]
  },
  {
   "cell_type": "code",
   "execution_count": null,
   "id": "2fdea2c7-e2d4-4952-8424-38af98b337ce",
   "metadata": {},
   "outputs": [],
   "source": [
    "# Function to apply scale factors to the Landsat data\n",
    "def apply_scale_factors(image):\n",
    "    optical_bands = image.select('SR_B.').multiply(0.0000275).add(-0.2)\n",
    "    thermal_band = image.select('ST_B.*').multiply(0.00341802).add(149.0)\n",
    "    return image.addBands(optical_bands, None, True).addBands(thermal_band, None, True)\n",
    "\n",
    "def print_collection_summary(collection):\n",
    "    images = collection.toList(collection.size()).getInfo()\n",
    "    for image in images:\n",
    "        id = image['id']\n",
    "        date = image['properties']['DATE_ACQUIRED']\n",
    "        print(f\"Image ID: {id}, Date: {date}\")\n",
    "\n",
    "def kelvin_to_fahrenheit(image):\n",
    "    # Convert the ST_B10 band from Kelvin to Fahrenheit.\n",
    "    fahrenheit = image.select('ST_B10').subtract(273.15).multiply(9/5).add(32)\n",
    "    return image.addBands(fahrenheit.rename('ST_Fahrenheit'))"
   ]
  },
  {
   "cell_type": "code",
   "execution_count": null,
   "id": "fcaeeb0a",
   "metadata": {},
   "outputs": [],
   "source": [
    "# Get the Landsat 8 image collection.\n",
    "collection = ee.ImageCollection('LANDSAT/LC08/C02/T1_L2') \\\n",
    "    .filterBounds(aoi) \\\n",
    "    .filterDate('2018-06-01', '2022-08-31') \\\n",
    "    .filter(ee.Filter.calendarRange(6, 8, 'month')) \\\n",
    "    .map(apply_scale_factors) "
   ]
  },
  {
   "cell_type": "code",
   "execution_count": null,
   "id": "286abd3b-a307-481b-b266-0f3c00163c73",
   "metadata": {},
   "outputs": [],
   "source": [
    "start_time = time.time()\n",
    "num_images = collection.size().getInfo()\n",
    "print(f\"Total number of images: {num_images}\")\n",
    "#print_collection_summary(collection) # print this to see all the image dates\n",
    "end_time = time.time()\n",
    "execution_time = end_time - start_time\n",
    "print(f\"Execution time: {execution_time} seconds\")"
   ]
  },
  {
   "cell_type": "code",
   "execution_count": null,
   "id": "33ae69f6-0e0d-4c87-a76b-b722ed4345e4",
   "metadata": {},
   "outputs": [],
   "source": [
    "start_time = time.time()\n",
    "filtered_collection = collection.filter(ee.Filter.lte('CLOUD_COVER', 10)) #lte stands for less than or equal to\n",
    "num_images = filtered_collection.size().getInfo()\n",
    "print(f\"Total number of images: {num_images}\")\n",
    "#print_collection_summary(filtered_collection) # print this to see all the image dates\n",
    "\n",
    "end_time = time.time()\n",
    "execution_time = end_time - start_time\n",
    "print(f\"Execution time: {execution_time} seconds\")"
   ]
  },
  {
   "cell_type": "code",
   "execution_count": null,
   "id": "73732d4d-2936-4c1d-916f-f5fd989031e4",
   "metadata": {},
   "outputs": [],
   "source": [
    "bad_composite = collection.mean().clip(aoi)\n",
    "good_composite = filtered_collection.mean().clip(aoi)"
   ]
  },
  {
   "cell_type": "code",
   "execution_count": null,
   "id": "174cf672-c392-440f-838a-8dbcc5ee4013",
   "metadata": {},
   "outputs": [],
   "source": [
    "# check impact of filtering by cloud cover\n",
    "m = geemap.Map()\n",
    "m.set_center(-110, 47, 6)\n",
    "\n",
    "# Convert the composites to Fahrenheit.\n",
    "bad_composite_f = kelvin_to_fahrenheit(bad_composite)\n",
    "good_composite_f = kelvin_to_fahrenheit(good_composite)\n",
    "\n",
    "vis_params = {'min': 30, 'max': 120,     \n",
    "              'palette': ['000004', '1b0c41', '4a0c6b', '781c6d', 'a52c60', \n",
    "                          'cf4446', 'ed6925', 'fb9b06', 'f7d13d', 'fcffa4']\n",
    "             }\n",
    "\n",
    "# Define the legend dictionary\n",
    "legend_dict = {\n",
    "    '30-40°F': '#000004',\n",
    "    '40-50°F': '#1b0c41',\n",
    "    '50-60°F': '#4a0c6b',\n",
    "    '60-70°F': '#781c6d',\n",
    "    '70-80°F': '#a52c60',\n",
    "    '80-90°F': '#cf4446',\n",
    "    '90-100°F': '#ed6925',\n",
    "    '100-110°F': '#fb9b06',\n",
    "    '110-120°F': '#f7d13d',\n",
    "    '120+°F': '#fcffa4'\n",
    "}\n",
    "\n",
    "# Add the Fahrenheit layer for bad_composite.\n",
    "m.add_layer(\n",
    "    bad_composite_f,\n",
    "    {'bands': ['ST_Fahrenheit'], **vis_params},\n",
    "    'Bad composite (F)',\n",
    ")\n",
    "\n",
    "# Add the Fahrenheit layer for good_composite.\n",
    "m.add_layer(\n",
    "    good_composite_f,\n",
    "    {'bands': ['ST_Fahrenheit'], **vis_params},\n",
    "    'Avg Summer Temp, 2018-2022',\n",
    ")\n",
    "\n",
    "# Add the Montana boundary to the map with styling.\n",
    "m.add_layer(\n",
    "    aoi.style(color='black', fillColor='00000000'),  # '00000000' represents no fill color\n",
    "    {},\n",
    "    'Montana',\n",
    ")\n",
    "\n",
    "# add Census Tracts\n",
    "m.add_layer(\n",
    "    tracts.style(color='black', fillColor='00000000'),  # '00000000' represents no fill color\n",
    "    {},\n",
    "    'Tracts',\n",
    ")\n",
    "\n",
    "m.setControlVisibility(layerControl=True, fullscreenControl=True, latLngPopup=True)\n",
    "m.add_legend(title=\"Temperature (°F)\", legend_dict=legend_dict)\n",
    "\n",
    "m"
   ]
  },
  {
   "cell_type": "code",
   "execution_count": null,
   "id": "19e1b9bf-c44c-446f-a63b-f5f89e085b52",
   "metadata": {},
   "outputs": [],
   "source": [
    "start_time = time.time()\n",
    "mean_dict = good_composite_f.select('ST_Fahrenheit').reduceRegions(\n",
    "    collection=tracts,\n",
    "    reducer=ee.Reducer.mean(),\n",
    "    scale=30\n",
    ")\n",
    "# Print the result (limited to first few tracts for brevity).\n",
    "end_time = time.time()\n",
    "execution_time = end_time - start_time\n",
    "print(f\"Execution time: {execution_time} seconds\")"
   ]
  },
  {
   "cell_type": "code",
   "execution_count": null,
   "id": "557b7655-0d17-47e4-8551-8f73e3c6c40a",
   "metadata": {},
   "outputs": [],
   "source": [
    "results = mean_dict.getInfo()['features']\n",
    "data = []\n",
    "for feature in results:\n",
    "    props = feature['properties']\n",
    "    data.append({\n",
    "        'GEOID': props['GEOID'],\n",
    "        'NAME': props['NAME'],\n",
    "        'mean_temp_f': props['mean']\n",
    "    })"
   ]
  },
  {
   "cell_type": "code",
   "execution_count": null,
   "id": "34530b40-657b-4162-860d-de6bfa498178",
   "metadata": {},
   "outputs": [],
   "source": [
    "# Convert the list of dictionaries to a pandas DataFrame.\n",
    "mean_temp_df = pd.DataFrame(data)\n",
    "mean_temp_df = mean_temp_df.rename(columns={'GEOID': 'geo_id'})\n",
    "mean_temp_df.head()"
   ]
  },
  {
   "cell_type": "code",
   "execution_count": null,
   "id": "9b9c9f77-1f1c-4441-be8b-b78f9e3d57bc",
   "metadata": {},
   "outputs": [],
   "source": [
    "output_dir = 'outputs'\n",
    "os.makedirs(output_dir, exist_ok=True)\n",
    "csv_path = os.path.join(output_dir, 'tract_avg_summertemp_2018-22.csv')\n",
    "mean_temp_df.to_csv(csv_path, index=False)"
   ]
  },
  {
   "cell_type": "markdown",
   "id": "b44c0a02-4e7c-4069-a6c6-7f21fe773e07",
   "metadata": {},
   "source": [
    "## Tree Canopy\n"
   ]
  },
  {
   "cell_type": "code",
   "execution_count": null,
   "id": "448b7e78-e32a-49aa-9a44-cb5683d85320",
   "metadata": {
    "scrolled": true
   },
   "outputs": [],
   "source": [
    "dataset = ee.ImageCollection('USGS/NLCD_RELEASES/2021_REL/TCC/v2021-4')\\\n",
    "    .filterBounds(aoi) \\\n",
    "    .filter(ee.Filter.calendarRange(2021, 2021, 'year'))\n",
    "\n",
    "nlcd_tree_canopy = dataset.select('NLCD_Percent_Tree_Canopy_Cover').first().clip(aoi.geometry())"
   ]
  },
  {
   "cell_type": "code",
   "execution_count": null,
   "id": "e4f9f494-6fbd-498f-b88d-8b49edc553a1",
   "metadata": {},
   "outputs": [],
   "source": [
    "start_time = time.time()\n",
    "zonal_stats = nlcd_tree_canopy.reduceRegions(\n",
    "    collection=tracts,\n",
    "    reducer=ee.Reducer.mean(),\n",
    "    scale=30\n",
    ").getInfo()\n",
    "\n",
    "features = zonal_stats['features']\n",
    "gdf_features = []\n",
    "for feature in features:\n",
    "    geom = shape(feature['geometry'])\n",
    "    properties = feature['properties']\n",
    "    properties['geometry'] = geom\n",
    "    gdf_features.append(properties)\n",
    "\n",
    "canopy_gdf = gpd.GeoDataFrame(gdf_features, crs='epsg:4326')\n",
    "canopy_gdf = canopy_gdf[['GEOID', 'mean', 'geometry']]\n",
    "canopy_gdf = canopy_gdf.rename(columns={'GEOID': 'geo_id', 'mean': 'mean_perc_canopy'})\n",
    "end_time = time.time()\n",
    "execution_time = end_time - start_time\n",
    "print(f\"Execution time: {execution_time} seconds\")"
   ]
  },
  {
   "cell_type": "code",
   "execution_count": null,
   "id": "a6d336f0-14d2-43d6-b0a1-aa34d3fdd3f7",
   "metadata": {},
   "outputs": [],
   "source": [
    "canopy_gdf.head()"
   ]
  },
  {
   "cell_type": "markdown",
   "id": "abccc1f8-aa43-46b3-8be2-dbd88d355762",
   "metadata": {},
   "source": [
    "## Imperviousness"
   ]
  },
  {
   "cell_type": "code",
   "execution_count": null,
   "id": "930922e6-5ddd-4c98-b67c-bde13139ce6c",
   "metadata": {},
   "outputs": [],
   "source": [
    "dataset = ee.ImageCollection('USGS/NLCD_RELEASES/2021_REL/NLCD')\n",
    "impervious = dataset.filter(ee.Filter.calendarRange(2021, 2021, 'year')).first().select('impervious').clip(aoi.geometry())"
   ]
  },
  {
   "cell_type": "code",
   "execution_count": null,
   "id": "c1fcfe3e-9f32-4e78-b3fc-aeb1907970cd",
   "metadata": {},
   "outputs": [],
   "source": [
    "start_time = time.time()\n",
    "zonal_stats = impervious.reduceRegions(\n",
    "    collection=tracts,\n",
    "    reducer=ee.Reducer.mean(),\n",
    "    scale=30\n",
    ").getInfo()\n",
    "end_time = time.time()\n",
    "execution_time = end_time - start_time\n",
    "print(f\"Execution time: {execution_time} seconds\")"
   ]
  },
  {
   "cell_type": "code",
   "execution_count": null,
   "id": "3ad028e9-3cc4-4377-906a-9ecb6d88d5bc",
   "metadata": {},
   "outputs": [],
   "source": [
    "features = zonal_stats['features']\n",
    "gdf_features = []\n",
    "for feature in features:\n",
    "    geom = shape(feature['geometry'])\n",
    "    properties = feature['properties']\n",
    "    properties['geometry'] = geom\n",
    "    gdf_features.append(properties)\n",
    "\n",
    "impervious_gdf = gpd.GeoDataFrame(gdf_features, crs='epsg:4326')\n",
    "\n",
    "# Keep only 'GEOID' and 'mean' columns, and rename them\n",
    "impervious_gdf = impervious_gdf[['GEOID', 'mean', 'geometry']]\n",
    "impervious_gdf = impervious_gdf.rename(columns={'GEOID': 'geo_id', 'mean': 'mean_perc_impervious'})"
   ]
  },
  {
   "cell_type": "code",
   "execution_count": null,
   "id": "c75ac179-faf7-4362-8911-c0ff914badac",
   "metadata": {},
   "outputs": [],
   "source": [
    "impervious_gdf.sort_values(by=\"mean_perc_impervious\")"
   ]
  },
  {
   "cell_type": "markdown",
   "id": "3985a5b7-9450-4f6b-8c04-987b299192a9",
   "metadata": {},
   "source": [
    "### Merge canopy and imperviousness data"
   ]
  },
  {
   "cell_type": "code",
   "execution_count": null,
   "id": "b94a1d9e-5f9f-445c-93f7-b8cd9fa7f13d",
   "metadata": {},
   "outputs": [],
   "source": [
    "df_final = canopy_gdf.merge(impervious_gdf, on='geo_id', suffixes=('_canopy', '_impervious'))\n",
    "# Keep only 'GEOID' and 'mean' columns, and rename them\n",
    "df_final = df_final[['geo_id', 'mean_perc_impervious', 'mean_perc_canopy', 'geometry_canopy']]\n",
    "df_final = df_final.rename(columns={'geometry_canopy': 'geometry'})\n",
    "df_final = gpd.GeoDataFrame(df_final, geometry='geometry', crs='epsg:4326')\n",
    "df_final['area_sq_miles'] = df_final['geometry'].area / 2.59e+6"
   ]
  },
  {
   "cell_type": "code",
   "execution_count": null,
   "id": "b5ec1f19-c3ad-4f9c-803a-d51d6586f4fc",
   "metadata": {},
   "outputs": [],
   "source": [
    "numerator = -1 * (df_final['mean_perc_canopy'] * df_final['area_sq_miles'] - df_final['mean_perc_impervious'] * df_final['area_sq_miles'])\n",
    "denominator = (df_final['mean_perc_canopy'] * df_final['area_sq_miles'] + df_final['mean_perc_impervious'] * df_final['area_sq_miles'])\n",
    "\n",
    "# Calculate the impervious_canopy_index\n",
    "df_final['impervious_canopy_index'] = numerator / denominator"
   ]
  },
  {
   "cell_type": "code",
   "execution_count": null,
   "id": "c30892a0-3bef-477d-9376-ab08ce0ff74c",
   "metadata": {},
   "outputs": [],
   "source": [
    "df_final.sort_values(by=\"impervious_canopy_index\")"
   ]
  },
  {
   "cell_type": "markdown",
   "id": "a7e1f201-7a1f-4374-8ae8-7f15b1a851c3",
   "metadata": {},
   "source": [
    "### merge temperature data"
   ]
  },
  {
   "cell_type": "code",
   "execution_count": null,
   "id": "8af67d0e-4760-4c26-bf62-fd7bac7c0833",
   "metadata": {},
   "outputs": [],
   "source": [
    "mean_temp_df.head()"
   ]
  },
  {
   "cell_type": "code",
   "execution_count": null,
   "id": "bf420153-bbed-426d-ac51-6ba2fd428c85",
   "metadata": {},
   "outputs": [],
   "source": [
    "df_final = df_final.merge(mean_temp_df[['geo_id', 'mean_temp_f']], on='geo_id')"
   ]
  },
  {
   "cell_type": "code",
   "execution_count": null,
   "id": "7fc0a299-8708-474e-8b8a-2b8a316132aa",
   "metadata": {},
   "outputs": [],
   "source": [
    "df_final.head()"
   ]
  },
  {
   "cell_type": "markdown",
   "id": "b9b5f226-c1f7-4c5d-999a-cac26bd4e83d",
   "metadata": {},
   "source": [
    "## Explore the data!"
   ]
  },
  {
   "cell_type": "code",
   "execution_count": null,
   "id": "ef3a4ef5-ff2b-4e87-b219-f21dc3ef3852",
   "metadata": {},
   "outputs": [],
   "source": [
    "colors = [\n",
    "    '#5fab94', '#62b49a',   # reduced greenish-blues\n",
    "    '#68c0a6',  # light green\n",
    "    '#b3cb96', '#c3c38e', '#d1be8e', '#eed09d',  # expanded tans\n",
    "    '#b07e30', '#8c510a', '#7c4210',  # expanded browns\n",
    "    '#d9d6d6', '#dcdcdc', '#e8e8e8', '#f0f0f0', '#FFFFFF'  # greys and whites\n",
    "]\n",
    "\n",
    "# Create a segmented colormap from the list of colors\n",
    "custom_cmap = LinearSegmentedColormap.from_list(\"custom_terrain\", colors, N=256)\n",
    "\n",
    "# Visualize the custom colormap\n",
    "fig, ax = plt.subplots(figsize=(8, 1))\n",
    "fig.subplots_adjust(bottom=0.5)\n",
    "\n",
    "# Display the colormap\n",
    "cb = fig.colorbar(plt.cm.ScalarMappable(cmap=custom_cmap), cax=ax, orientation='horizontal')\n",
    "cb.set_label('Custom Terrain Colormap')\n",
    "plt.show()"
   ]
  },
  {
   "cell_type": "code",
   "execution_count": null,
   "id": "ae81ff6d-d3c1-4dca-8c5c-282ae9df0b6b",
   "metadata": {},
   "outputs": [],
   "source": [
    "# Generate the custom palette\n",
    "n_colors = 500\n",
    "custom_palette = [mcolors.rgb2hex(custom_cmap(i / n_colors)) for i in range(n_colors)]\n",
    "\n",
    "def get_palette_index(elevation, max_elevation, n_colors):\n",
    "    index = int(elevation / max_elevation * (n_colors - 1))\n",
    "    return min(index, n_colors - 1)"
   ]
  },
  {
   "cell_type": "code",
   "execution_count": null,
   "id": "dfbd9b72-4667-4bb9-a889-482a565dbcba",
   "metadata": {},
   "outputs": [],
   "source": [
    "# Define the legend dictionary for tree canopy cover.\n",
    "tree_canopy_legend_dict = {\n",
    "    '0-10%': '#ffffff',\n",
    "    '10-20%': '#d9f0d3',\n",
    "    '20-30%': '#addd8e',\n",
    "    '30-40%': '#78c679',\n",
    "    '40-50%': '#41ab5d',\n",
    "    '50-60%': '#238443',\n",
    "    '60-70%': '#006837',\n",
    "    '70-80%': '#004529',\n",
    "    '80-90%': '#003300',\n",
    "    '90-100%': '#002200'\n",
    "}\n",
    "\n",
    "tree_canopy_vis_params = {\n",
    "    'min': 0,\n",
    "    'max': 100,\n",
    "    'palette': ['ffffff', '006400']\n",
    "}\n",
    "\n",
    "terrain_vis_params = {\n",
    "    'min': 0,\n",
    "    'max': 15000,\n",
    "    'palette': custom_palette\n",
    "}\n",
    "\n",
    "# Define a simplified legend dictionary for display purposes.\n",
    "terrain_legend_dict = {\n",
    "    '0-1000 ft': custom_palette[int(1000 / 15000 * (n_colors - 1))],\n",
    "    '1000-2000 ft': custom_palette[int(2000 / 15000 * (n_colors - 1))],\n",
    "    '2000-3000 ft': custom_palette[int(3000 / 15000 * (n_colors - 1))],\n",
    "    '3000-4000 ft': custom_palette[int(4000 / 15000 * (n_colors - 1))],\n",
    "    '4000-5000 ft': custom_palette[int(5000 / 15000 * (n_colors - 1))],\n",
    "    '5000-6000 ft': custom_palette[int(6000 / 15000 * (n_colors - 1))],\n",
    "    '6000-7000 ft': custom_palette[int(7000 / 15000 * (n_colors - 1))],\n",
    "    '7000-8000 ft': custom_palette[int(8000 / 15000 * (n_colors - 1))],\n",
    "    '8000-9000 ft': custom_palette[int(9000 / 15000 * (n_colors - 1))],\n",
    "    '9000-10000 ft': custom_palette[int(10000 / 15000 * (n_colors - 1))],\n",
    "    '10000-11000 ft': custom_palette[int(11000 / 15000 * (n_colors - 1))],\n",
    "    '11000-12000 ft': custom_palette[int(12000 / 15000 * (n_colors - 1))],\n",
    "    '12000-13000 ft': custom_palette[int(13000 / 15000 * (n_colors - 1))],\n",
    "    '13000-14000 ft': custom_palette[int(14000 / 15000 * (n_colors - 1))],\n",
    "    '14000-15000 ft': custom_palette[-1]\n",
    "}\n",
    "\n",
    "\n",
    "\n",
    "temp_vis_params = {'min': 30, 'max': 120,     \n",
    "              'palette': ['000004', '1b0c41', '4a0c6b', '781c6d', 'a52c60', \n",
    "                          'cf4446', 'ed6925', 'fb9b06', 'f7d13d', 'fcffa4']\n",
    "             }\n",
    "\n",
    "# Define the legend dictionary\n",
    "temp_legend_dict = {\n",
    "    '30-40°F': '#000004',\n",
    "    '40-50°F': '#1b0c41',\n",
    "    '50-60°F': '#4a0c6b',\n",
    "    '60-70°F': '#781c6d',\n",
    "    '70-80°F': '#a52c60',\n",
    "    '80-90°F': '#cf4446',\n",
    "    '90-100°F': '#ed6925',\n",
    "    '100-110°F': '#fb9b06',\n",
    "    '110-120°F': '#f7d13d',\n",
    "    '120+°F': '#fcffa4'\n",
    "}\n",
    "\n",
    "impervious_vis_params = {\n",
    "    'min': 0,\n",
    "    'max': 100,\n",
    "    'palette': ['#ffffff', '#e0e0e0', '#c0c0c0', '#808080', '#404040', '#000000']  # Very light greys to black\n",
    "}\n",
    "\n",
    "# Define the legend dictionary with breaks every 20%.\n",
    "impervious_legend_dict = {\n",
    "    '0-20%': '#ffffff',\n",
    "    '21-40%': '#e0e0e0',\n",
    "    '41-60%': '#c0c0c0',\n",
    "    '61-80%': '#808080',\n",
    "    '81-100%': '#000000'\n",
    "}"
   ]
  },
  {
   "cell_type": "code",
   "execution_count": null,
   "id": "652f9d80-c20f-4660-a6be-d7ffc946018d",
   "metadata": {},
   "outputs": [],
   "source": [
    "m = geemap.Map()\n",
    "m.set_center(-110, 47, 6)\n",
    "\n",
    "# Add the Fahrenheit layer for good_composite.\n",
    "m.add_layer(\n",
    "    good_composite_f,\n",
    "    {'bands': ['ST_Fahrenheit'], **temp_vis_params},\n",
    "    'Avg Summer Temp, 2018-2022',\n",
    ")\n",
    "\n",
    "m.add_layer(\n",
    "    nlcd_tree_canopy,\n",
    "    tree_canopy_vis_params,\n",
    "    'Tree Canopy Cover'\n",
    ")\n",
    "\n",
    "m.add_layer(\n",
    "    impervious,\n",
    "    impervious_vis_params,\n",
    "    'Impervious Surface'\n",
    ")\n",
    "\n",
    "m.add_layer(\n",
    "    terrain_ft,\n",
    "    terrain_vis_params,\n",
    "    'Terrain (feet)'\n",
    ")\n",
    "\n",
    "# Add the Montana boundary to the map with styling.\n",
    "m.add_layer(\n",
    "    aoi.style(color='black', fillColor='00000000'),  # '00000000' represents no fill color\n",
    "    {},\n",
    "    'Montana',\n",
    ")\n",
    "\n",
    "# add Census Tracts\n",
    "m.add_layer(\n",
    "    tracts.style(color='black', fillColor='00000000'),  # '00000000' represents no fill color\n",
    "    {},\n",
    "    'Tracts',\n",
    ")\n",
    "\n",
    "m.setControlVisibility(layerControl=True, fullscreenControl=True, latLngPopup=True)\n",
    "m.add_legend(title=\"Tree Canopy Cover (%)\", legend_dict=tree_canopy_legend_dict)\n",
    "m.add_legend(title=\"Elevation (feet)\", legend_dict=terrain_legend_dict)\n",
    "m.add_legend(title=\"Temperature (°F)\", legend_dict=temp_legend_dict)\n",
    "m.add_legend(title=\"Impervious Surface (%)\", legend_dict=impervious_legend_dict)\n",
    "\n",
    "m"
   ]
  },
  {
   "cell_type": "code",
   "execution_count": null,
   "id": "b0d12bcd-b5c1-43b3-9f22-47da392c1ec1",
   "metadata": {},
   "outputs": [],
   "source": [
    "pip install streamlit altair"
   ]
  },
  {
   "cell_type": "code",
   "execution_count": null,
   "id": "ca06ab9d-3344-4f44-9126-c0b1b59c3442",
   "metadata": {},
   "outputs": [],
   "source": [
    "import streamlit as st\n",
    "\n",
    "# Define visualization parameters for the impervious layer.\n",
    "impervious_vis_params = {\n",
    "    'min': 0,\n",
    "    'max': 100,\n",
    "    'palette': ['#ffffff', '#e0e0e0', '#c0c0c0', '#808080', '#404040', '#000000']  # Very light greys to black\n",
    "}\n",
    "\n",
    "# Create a geemap map object centered on Montana.\n",
    "m = geemap.Map(center=[47, -110], zoom=6)\n",
    "\n",
    "# Add the impervious layer to the map.\n",
    "impervious_layer = geemap.ee_tile_layer(\n",
    "    impervious, \n",
    "    impervious_vis_params, \n",
    "    'Impervious Surface'\n",
    ")\n",
    "m.add_layer(impervious_layer)\n",
    "\n",
    "# Add census tracts layer\n",
    "m.add_layer(tracts, {}, 'Census Tracts')\n",
    "\n",
    "# Display the map.\n",
    "st.title(\"Interactive Map with Census Tracts in Montana\")\n",
    "st.write(\"Click on the census tracts to see more information.\")\n",
    "folium_static(m)"
   ]
  },
  {
   "cell_type": "code",
   "execution_count": null,
   "id": "aef7bfe4-df70-4394-936f-209fa13a4b49",
   "metadata": {},
   "outputs": [],
   "source": []
  },
  {
   "cell_type": "code",
   "execution_count": null,
   "id": "fad0aae8-fcd2-44f9-a446-04f0ee5256f4",
   "metadata": {},
   "outputs": [],
   "source": []
  }
 ],
 "metadata": {
  "kernelspec": {
   "display_name": "Python (hvi_env)",
   "language": "python",
   "name": "hvi_env"
  },
  "language_info": {
   "codemirror_mode": {
    "name": "ipython",
    "version": 3
   },
   "file_extension": ".py",
   "mimetype": "text/x-python",
   "name": "python",
   "nbconvert_exporter": "python",
   "pygments_lexer": "ipython3",
   "version": "3.9.7"
  }
 },
 "nbformat": 4,
 "nbformat_minor": 5
}
